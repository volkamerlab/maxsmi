{
 "cells": [
  {
   "cell_type": "markdown",
   "metadata": {},
   "source": [
    "# maxsmi\n",
    "## Analysis of results\n",
    "\n",
    "This notebook serves to analyse the results of the simulations ran on the Curta cluster from the Freie Universität Berlin.\n",
    "\n",
    "### Maxsmi Models"
   ]
  },
  {
   "cell_type": "markdown",
   "metadata": {},
   "source": [
    "### Goal\n",
    "\n",
    "Determine the Maxsmi models for all three tasks:\n",
    "\n",
    "- ESOL,\n",
    "- FreeSolv,\n",
    "- Lipophilicity."
   ]
  },
  {
   "cell_type": "code",
   "execution_count": 1,
   "metadata": {},
   "outputs": [],
   "source": [
    "import os\n",
    "from pathlib import Path\n",
    "import pickle\n",
    "import numpy as np\n",
    "import matplotlib.pyplot as plt\n",
    "\n",
    "# Path to this notebook\n",
    "HERE = Path(_dh[-1])\n",
    "\n",
    "path_to_output = HERE.parents[0]"
   ]
  },
  {
   "cell_type": "code",
   "execution_count": 2,
   "metadata": {},
   "outputs": [],
   "source": [
    "def load_data(path,\n",
    "              task,):\n",
    "    \"\"\"\n",
    "    Loads the result data from the Maxsmi models.\n",
    "\n",
    "    Parameters\n",
    "    ----------\n",
    "    path : str\n",
    "        The path to output folder.\n",
    "    task : str\n",
    "        The data with associated task, e.g. \"ESOL\", \"FreeSolv\"\n",
    "\n",
    "    Returns\n",
    "    -------\n",
    "    data: pd.Pandas\n",
    "        Pandas data frame with performance metrics (on train and test sets), such as r2 score and time.\n",
    "    \"\"\"\n",
    "    if task == \"FreeSolv\":\n",
    "        ml_model = \"CONV1D\"\n",
    "        augmentation_strategy = \"augmentation_with_duplication\"\n",
    "        augmentation_number = 70\n",
    "    elif task == \"ESOL\":\n",
    "        ml_model = \"CONV1D\"\n",
    "        augmentation_strategy = \"augmentation_with_reduced_duplication\"\n",
    "        augmentation_number = 70\n",
    "    elif task == \"Lipophilicity\":\n",
    "        ml_model = \"CONV1D\"\n",
    "        augmentation_strategy = \"augmentation_without_duplication\"\n",
    "        augmentation_number = 80\n",
    "    else:\n",
    "        None\n",
    "        \n",
    "    with open(\n",
    "        f\"{path}/output/\"\n",
    "        f\"{task}_smiles_{augmentation_strategy}_\"\n",
    "        f\"{augmentation_number}_{augmentation_strategy}_\"\n",
    "        f\"{augmentation_number}_{ml_model}/\"\n",
    "        f\"results_metrics.pkl\",\n",
    "        \"rb\",\n",
    "    ) as f:\n",
    "        data = pickle.load(f)\n",
    "        return data"
   ]
  },
  {
   "cell_type": "code",
   "execution_count": 3,
   "metadata": {},
   "outputs": [
    {
     "name": "stdout",
     "output_type": "stream",
     "text": [
      "FreeSolv\n",
      "1.032\n",
      "ESOL\n",
      "0.569\n",
      "Lipophilicity\n",
      "0.593\n"
     ]
    }
   ],
   "source": [
    "for task in [\"FreeSolv\", \"ESOL\", \"Lipophilicity\"]:\n",
    "    print(task)\n",
    "    maxsmi_model = load_data(path_to_output,\n",
    "                             task)\n",
    "    print(f\"{maxsmi_model.test[0][1]:.3f}\")"
   ]
  },
  {
   "cell_type": "markdown",
   "metadata": {},
   "source": [
    "This values indeed correspond to the minimum value shown in the `results_tables` notebooks."
   ]
  }
 ],
 "metadata": {
  "kernelspec": {
   "display_name": "Python 3",
   "language": "python",
   "name": "python3"
  },
  "language_info": {
   "codemirror_mode": {
    "name": "ipython",
    "version": 3
   },
   "file_extension": ".py",
   "mimetype": "text/x-python",
   "name": "python",
   "nbconvert_exporter": "python",
   "pygments_lexer": "ipython3",
   "version": "3.8.6"
  }
 },
 "nbformat": 4,
 "nbformat_minor": 4
}
