{
 "cells": [
  {
   "cell_type": "markdown",
   "metadata": {},
   "source": [
    "# maxsmi\n",
    "## Analysis of results\n",
    "\n",
    "This notebook serves to analyse the results of the simulations ran on the Curta cluster from the Freie Universität Berlin.\n",
    "\n",
    "_Note_:\n",
    "The notebook will run using the results stored in the `output` folder. They were generated using the following:\n",
    "```\n",
    "(maxsmi) $ python maxsmi/full_workflow.py --task ESOL --string-encoding smiles --aug-strategy-train no_augmentation --aug-strategy-test no_augmentation --aug-nb-train 0 --aug-nb-test 0 --ml-model CONV1D --eval-strategy True\n",
    "```\n",
    "\n",
    "📝 Have a look at the [README](https://github.com/volkamerlab/maxsmi/blob/main/README.md) page for more details."
   ]
  },
  {
   "cell_type": "markdown",
   "metadata": {},
   "source": [
    "## Canonical VS Random SMILES: Performance Comparison"
   ]
  },
  {
   "cell_type": "markdown",
   "metadata": {},
   "source": [
    "### Goal\n",
    "\n",
    "The aim of this notebook is to compare the results on the test set for the models that use the canonical or one random SMILES, and try to explain why the performance is systemically better for canonical SMILES."
   ]
  },
  {
   "cell_type": "code",
   "execution_count": 1,
   "metadata": {},
   "outputs": [],
   "source": [
    "import os\n",
    "from pathlib import Path\n",
    "\n",
    "from rdkit import Chem\n",
    "from rdkit.Chem import AllChem\n",
    "from rdkit.Chem import Draw\n",
    "\n",
    "from maxsmi.utils_analysis import load_results\n",
    "from maxsmi.utils_smiles import get_num_heavy_atoms"
   ]
  },
  {
   "cell_type": "code",
   "execution_count": 2,
   "metadata": {},
   "outputs": [],
   "source": [
    "# Path to this notebook\n",
    "HERE = Path(_dh[-1])"
   ]
  },
  {
   "cell_type": "code",
   "execution_count": 3,
   "metadata": {},
   "outputs": [],
   "source": [
    "path_to_output = HERE.parents[0]"
   ]
  },
  {
   "cell_type": "markdown",
   "metadata": {},
   "source": [
    "## Dataset\n",
    "We consider the following datasets:\n",
    "\n",
    "- ESOL\n",
    "- free_solv\n",
    "- lipophilicity\n",
    "\n",
    "Comment/uncomment the dataset of choice in the cell below."
   ]
  },
  {
   "cell_type": "code",
   "execution_count": 4,
   "metadata": {},
   "outputs": [],
   "source": [
    "# TASK = \"lipophilicity\"\n",
    "# TASK = \"free_solv\"\n",
    "TASK = \"ESOL\""
   ]
  },
  {
   "cell_type": "markdown",
   "metadata": {},
   "source": [
    "## Load results"
   ]
  },
  {
   "cell_type": "markdown",
   "metadata": {},
   "source": [
    "Load results from random SMILES."
   ]
  },
  {
   "cell_type": "code",
   "execution_count": 5,
   "metadata": {},
   "outputs": [
    {
     "data": {
      "text/html": [
       "<div>\n",
       "<style scoped>\n",
       "    .dataframe tbody tr th:only-of-type {\n",
       "        vertical-align: middle;\n",
       "    }\n",
       "\n",
       "    .dataframe tbody tr th {\n",
       "        vertical-align: top;\n",
       "    }\n",
       "\n",
       "    .dataframe thead th {\n",
       "        text-align: right;\n",
       "    }\n",
       "</style>\n",
       "<table border=\"1\" class=\"dataframe\">\n",
       "  <thead>\n",
       "    <tr style=\"text-align: right;\">\n",
       "      <th></th>\n",
       "      <th>target</th>\n",
       "      <th>canonical_smiles</th>\n",
       "      <th>augmented_smiles</th>\n",
       "      <th>random_prediction</th>\n",
       "    </tr>\n",
       "  </thead>\n",
       "  <tbody>\n",
       "    <tr>\n",
       "      <th>181</th>\n",
       "      <td>-8.60</td>\n",
       "      <td>CCOc1ccc(C(C)(C)COCc2cccc(Oc3ccccc3)c2)cc1</td>\n",
       "      <td>[CC(C)(c1ccc(OCC)cc1)COCc1cccc(c1)Oc1ccccc1]</td>\n",
       "      <td>-7.217669</td>\n",
       "    </tr>\n",
       "    <tr>\n",
       "      <th>277</th>\n",
       "      <td>-0.60</td>\n",
       "      <td>CCS</td>\n",
       "      <td>[C(C)S]</td>\n",
       "      <td>-0.594701</td>\n",
       "    </tr>\n",
       "    <tr>\n",
       "      <th>125</th>\n",
       "      <td>-0.60</td>\n",
       "      <td>CC(=O)OCC(COC(C)=O)OC(C)=O</td>\n",
       "      <td>[O(C(C)=O)CC(OC(C)=O)COC(=O)C]</td>\n",
       "      <td>0.105230</td>\n",
       "    </tr>\n",
       "    <tr>\n",
       "      <th>937</th>\n",
       "      <td>-0.67</td>\n",
       "      <td>CCC(C)C(C)=O</td>\n",
       "      <td>[C(C)C(C(C)=O)C]</td>\n",
       "      <td>-1.519783</td>\n",
       "    </tr>\n",
       "    <tr>\n",
       "      <th>444</th>\n",
       "      <td>-5.05</td>\n",
       "      <td>C=CCCCCCCC</td>\n",
       "      <td>[C(CCCCCCC)=C]</td>\n",
       "      <td>-5.072193</td>\n",
       "    </tr>\n",
       "  </tbody>\n",
       "</table>\n",
       "</div>"
      ],
      "text/plain": [
       "     target                            canonical_smiles  \\\n",
       "181   -8.60  CCOc1ccc(C(C)(C)COCc2cccc(Oc3ccccc3)c2)cc1   \n",
       "277   -0.60                                         CCS   \n",
       "125   -0.60                  CC(=O)OCC(COC(C)=O)OC(C)=O   \n",
       "937   -0.67                                CCC(C)C(C)=O   \n",
       "444   -5.05                                  C=CCCCCCCC   \n",
       "\n",
       "                                 augmented_smiles  random_prediction  \n",
       "181  [CC(C)(c1ccc(OCC)cc1)COCc1cccc(c1)Oc1ccccc1]          -7.217669  \n",
       "277                                       [C(C)S]          -0.594701  \n",
       "125                [O(C(C)=O)CC(OC(C)=O)COC(=O)C]           0.105230  \n",
       "937                              [C(C)C(C(C)=O)C]          -1.519783  \n",
       "444                                [C(CCCCCCC)=C]          -5.072193  "
      ]
     },
     "execution_count": 5,
     "metadata": {},
     "output_type": "execute_result"
    }
   ],
   "source": [
    "test_data = load_results(path_to_output,\n",
    "                         TASK,\n",
    "                         \"augmentation_with_duplication\",\n",
    "                         1,\n",
    "                         \"augmentation_with_duplication\",\n",
    "                         1,\n",
    "                         \"CONV1D\",\n",
    "                         \"smiles\",\n",
    "                         True)\n",
    "test_data = test_data.rename(columns={\"average_\\\n",
    "prediction\": \"random_prediction\"})\n",
    "test_data = test_data.drop(columns=[\"std_prediction\", \"new_smiles\"])\n",
    "test_data.head()"
   ]
  },
  {
   "cell_type": "markdown",
   "metadata": {},
   "source": [
    "Load results from canonical SMILES."
   ]
  },
  {
   "cell_type": "code",
   "execution_count": 6,
   "metadata": {},
   "outputs": [
    {
     "data": {
      "text/html": [
       "<div>\n",
       "<style scoped>\n",
       "    .dataframe tbody tr th:only-of-type {\n",
       "        vertical-align: middle;\n",
       "    }\n",
       "\n",
       "    .dataframe tbody tr th {\n",
       "        vertical-align: top;\n",
       "    }\n",
       "\n",
       "    .dataframe thead th {\n",
       "        text-align: right;\n",
       "    }\n",
       "</style>\n",
       "<table border=\"1\" class=\"dataframe\">\n",
       "  <thead>\n",
       "    <tr style=\"text-align: right;\">\n",
       "      <th></th>\n",
       "      <th>target</th>\n",
       "      <th>canonical_smiles</th>\n",
       "      <th>augmented_smiles</th>\n",
       "      <th>canonical_prediction</th>\n",
       "    </tr>\n",
       "  </thead>\n",
       "  <tbody>\n",
       "    <tr>\n",
       "      <th>181</th>\n",
       "      <td>-8.60</td>\n",
       "      <td>CCOc1ccc(C(C)(C)COCc2cccc(Oc3ccccc3)c2)cc1</td>\n",
       "      <td>[CCOc1ccc(C(C)(C)COCc2cccc(Oc3ccccc3)c2)cc1]</td>\n",
       "      <td>-6.255364</td>\n",
       "    </tr>\n",
       "    <tr>\n",
       "      <th>277</th>\n",
       "      <td>-0.60</td>\n",
       "      <td>CCS</td>\n",
       "      <td>[CCS]</td>\n",
       "      <td>-0.779630</td>\n",
       "    </tr>\n",
       "    <tr>\n",
       "      <th>125</th>\n",
       "      <td>-0.60</td>\n",
       "      <td>CC(=O)OCC(COC(C)=O)OC(C)=O</td>\n",
       "      <td>[CC(=O)OCC(COC(C)=O)OC(C)=O]</td>\n",
       "      <td>0.379165</td>\n",
       "    </tr>\n",
       "    <tr>\n",
       "      <th>937</th>\n",
       "      <td>-0.67</td>\n",
       "      <td>CCC(C)C(C)=O</td>\n",
       "      <td>[CCC(C)C(C)=O]</td>\n",
       "      <td>-1.765576</td>\n",
       "    </tr>\n",
       "    <tr>\n",
       "      <th>444</th>\n",
       "      <td>-5.05</td>\n",
       "      <td>C=CCCCCCCC</td>\n",
       "      <td>[C=CCCCCCCC]</td>\n",
       "      <td>-4.743603</td>\n",
       "    </tr>\n",
       "  </tbody>\n",
       "</table>\n",
       "</div>"
      ],
      "text/plain": [
       "     target                            canonical_smiles  \\\n",
       "181   -8.60  CCOc1ccc(C(C)(C)COCc2cccc(Oc3ccccc3)c2)cc1   \n",
       "277   -0.60                                         CCS   \n",
       "125   -0.60                  CC(=O)OCC(COC(C)=O)OC(C)=O   \n",
       "937   -0.67                                CCC(C)C(C)=O   \n",
       "444   -5.05                                  C=CCCCCCCC   \n",
       "\n",
       "                                 augmented_smiles  canonical_prediction  \n",
       "181  [CCOc1ccc(C(C)(C)COCc2cccc(Oc3ccccc3)c2)cc1]             -6.255364  \n",
       "277                                         [CCS]             -0.779630  \n",
       "125                  [CC(=O)OCC(COC(C)=O)OC(C)=O]              0.379165  \n",
       "937                                [CCC(C)C(C)=O]             -1.765576  \n",
       "444                                  [C=CCCCCCCC]             -4.743603  "
      ]
     },
     "execution_count": 6,
     "metadata": {},
     "output_type": "execute_result"
    }
   ],
   "source": [
    "test_data_canonical = load_results(path_to_output,\n",
    "                                   TASK,\n",
    "                                   \"no_augmentation\",\n",
    "                                   0,\n",
    "                                   \"no_augmentation\",\n",
    "                                   0,\n",
    "                                   \"CONV1D\",\n",
    "                                   \"smiles\",\n",
    "                                   True)\n",
    "test_data_canonical = test_data_canonical.rename(columns={\"average_\\\n",
    "prediction\": \"canonical_prediction\"})\n",
    "test_data_canonical = test_data_canonical.drop(columns=[\"std_prediction\",\n",
    "                                                        \"new_smiles\"])\n",
    "test_data_canonical.head()"
   ]
  },
  {
   "cell_type": "markdown",
   "metadata": {},
   "source": [
    "### Merge results into one dataframe"
   ]
  },
  {
   "cell_type": "markdown",
   "metadata": {},
   "source": [
    "Add canonical result to random result dataframe, (`canonical_prediction` and `random_prediction`, respectively)."
   ]
  },
  {
   "cell_type": "code",
   "execution_count": 7,
   "metadata": {},
   "outputs": [
    {
     "data": {
      "text/html": [
       "<div>\n",
       "<style scoped>\n",
       "    .dataframe tbody tr th:only-of-type {\n",
       "        vertical-align: middle;\n",
       "    }\n",
       "\n",
       "    .dataframe tbody tr th {\n",
       "        vertical-align: top;\n",
       "    }\n",
       "\n",
       "    .dataframe thead th {\n",
       "        text-align: right;\n",
       "    }\n",
       "</style>\n",
       "<table border=\"1\" class=\"dataframe\">\n",
       "  <thead>\n",
       "    <tr style=\"text-align: right;\">\n",
       "      <th></th>\n",
       "      <th>target</th>\n",
       "      <th>canonical_smiles</th>\n",
       "      <th>augmented_smiles</th>\n",
       "      <th>random_prediction</th>\n",
       "      <th>canonical_prediction</th>\n",
       "    </tr>\n",
       "  </thead>\n",
       "  <tbody>\n",
       "    <tr>\n",
       "      <th>181</th>\n",
       "      <td>-8.60</td>\n",
       "      <td>CCOc1ccc(C(C)(C)COCc2cccc(Oc3ccccc3)c2)cc1</td>\n",
       "      <td>[CC(C)(c1ccc(OCC)cc1)COCc1cccc(c1)Oc1ccccc1]</td>\n",
       "      <td>-7.217669</td>\n",
       "      <td>-6.255364</td>\n",
       "    </tr>\n",
       "    <tr>\n",
       "      <th>277</th>\n",
       "      <td>-0.60</td>\n",
       "      <td>CCS</td>\n",
       "      <td>[C(C)S]</td>\n",
       "      <td>-0.594701</td>\n",
       "      <td>-0.779630</td>\n",
       "    </tr>\n",
       "    <tr>\n",
       "      <th>125</th>\n",
       "      <td>-0.60</td>\n",
       "      <td>CC(=O)OCC(COC(C)=O)OC(C)=O</td>\n",
       "      <td>[O(C(C)=O)CC(OC(C)=O)COC(=O)C]</td>\n",
       "      <td>0.105230</td>\n",
       "      <td>0.379165</td>\n",
       "    </tr>\n",
       "    <tr>\n",
       "      <th>937</th>\n",
       "      <td>-0.67</td>\n",
       "      <td>CCC(C)C(C)=O</td>\n",
       "      <td>[C(C)C(C(C)=O)C]</td>\n",
       "      <td>-1.519783</td>\n",
       "      <td>-1.765576</td>\n",
       "    </tr>\n",
       "    <tr>\n",
       "      <th>444</th>\n",
       "      <td>-5.05</td>\n",
       "      <td>C=CCCCCCCC</td>\n",
       "      <td>[C(CCCCCCC)=C]</td>\n",
       "      <td>-5.072193</td>\n",
       "      <td>-4.743603</td>\n",
       "    </tr>\n",
       "  </tbody>\n",
       "</table>\n",
       "</div>"
      ],
      "text/plain": [
       "     target                            canonical_smiles  \\\n",
       "181   -8.60  CCOc1ccc(C(C)(C)COCc2cccc(Oc3ccccc3)c2)cc1   \n",
       "277   -0.60                                         CCS   \n",
       "125   -0.60                  CC(=O)OCC(COC(C)=O)OC(C)=O   \n",
       "937   -0.67                                CCC(C)C(C)=O   \n",
       "444   -5.05                                  C=CCCCCCCC   \n",
       "\n",
       "                                 augmented_smiles  random_prediction  \\\n",
       "181  [CC(C)(c1ccc(OCC)cc1)COCc1cccc(c1)Oc1ccccc1]          -7.217669   \n",
       "277                                       [C(C)S]          -0.594701   \n",
       "125                [O(C(C)=O)CC(OC(C)=O)COC(=O)C]           0.105230   \n",
       "937                              [C(C)C(C(C)=O)C]          -1.519783   \n",
       "444                                [C(CCCCCCC)=C]          -5.072193   \n",
       "\n",
       "     canonical_prediction  \n",
       "181             -6.255364  \n",
       "277             -0.779630  \n",
       "125              0.379165  \n",
       "937             -1.765576  \n",
       "444             -4.743603  "
      ]
     },
     "execution_count": 7,
     "metadata": {},
     "output_type": "execute_result"
    }
   ],
   "source": [
    "test_data[\"canonical_prediction\"] = test_data_canonical[\"canonical_prediction\"]\n",
    "test_data.head()"
   ]
  },
  {
   "cell_type": "markdown",
   "metadata": {},
   "source": [
    "### Prediction error\n",
    "Look at the errors between the target, or true value, and the prediction for the canonical vs random SMILES (`canonical_error` and `random_error`, respectively)."
   ]
  },
  {
   "cell_type": "code",
   "execution_count": 8,
   "metadata": {},
   "outputs": [
    {
     "data": {
      "text/html": [
       "<div>\n",
       "<style scoped>\n",
       "    .dataframe tbody tr th:only-of-type {\n",
       "        vertical-align: middle;\n",
       "    }\n",
       "\n",
       "    .dataframe tbody tr th {\n",
       "        vertical-align: top;\n",
       "    }\n",
       "\n",
       "    .dataframe thead th {\n",
       "        text-align: right;\n",
       "    }\n",
       "</style>\n",
       "<table border=\"1\" class=\"dataframe\">\n",
       "  <thead>\n",
       "    <tr style=\"text-align: right;\">\n",
       "      <th></th>\n",
       "      <th>target</th>\n",
       "      <th>canonical_smiles</th>\n",
       "      <th>augmented_smiles</th>\n",
       "      <th>random_prediction</th>\n",
       "      <th>canonical_prediction</th>\n",
       "      <th>random_error</th>\n",
       "      <th>canonical_error</th>\n",
       "    </tr>\n",
       "  </thead>\n",
       "  <tbody>\n",
       "    <tr>\n",
       "      <th>181</th>\n",
       "      <td>-8.60</td>\n",
       "      <td>CCOc1ccc(C(C)(C)COCc2cccc(Oc3ccccc3)c2)cc1</td>\n",
       "      <td>[CC(C)(c1ccc(OCC)cc1)COCc1cccc(c1)Oc1ccccc1]</td>\n",
       "      <td>-7.217669</td>\n",
       "      <td>-6.255364</td>\n",
       "      <td>1.382331</td>\n",
       "      <td>2.344636</td>\n",
       "    </tr>\n",
       "    <tr>\n",
       "      <th>277</th>\n",
       "      <td>-0.60</td>\n",
       "      <td>CCS</td>\n",
       "      <td>[C(C)S]</td>\n",
       "      <td>-0.594701</td>\n",
       "      <td>-0.779630</td>\n",
       "      <td>0.005299</td>\n",
       "      <td>0.179630</td>\n",
       "    </tr>\n",
       "    <tr>\n",
       "      <th>125</th>\n",
       "      <td>-0.60</td>\n",
       "      <td>CC(=O)OCC(COC(C)=O)OC(C)=O</td>\n",
       "      <td>[O(C(C)=O)CC(OC(C)=O)COC(=O)C]</td>\n",
       "      <td>0.105230</td>\n",
       "      <td>0.379165</td>\n",
       "      <td>0.705230</td>\n",
       "      <td>0.979165</td>\n",
       "    </tr>\n",
       "    <tr>\n",
       "      <th>937</th>\n",
       "      <td>-0.67</td>\n",
       "      <td>CCC(C)C(C)=O</td>\n",
       "      <td>[C(C)C(C(C)=O)C]</td>\n",
       "      <td>-1.519783</td>\n",
       "      <td>-1.765576</td>\n",
       "      <td>0.849783</td>\n",
       "      <td>1.095576</td>\n",
       "    </tr>\n",
       "    <tr>\n",
       "      <th>444</th>\n",
       "      <td>-5.05</td>\n",
       "      <td>C=CCCCCCCC</td>\n",
       "      <td>[C(CCCCCCC)=C]</td>\n",
       "      <td>-5.072193</td>\n",
       "      <td>-4.743603</td>\n",
       "      <td>0.022193</td>\n",
       "      <td>0.306397</td>\n",
       "    </tr>\n",
       "  </tbody>\n",
       "</table>\n",
       "</div>"
      ],
      "text/plain": [
       "     target                            canonical_smiles  \\\n",
       "181   -8.60  CCOc1ccc(C(C)(C)COCc2cccc(Oc3ccccc3)c2)cc1   \n",
       "277   -0.60                                         CCS   \n",
       "125   -0.60                  CC(=O)OCC(COC(C)=O)OC(C)=O   \n",
       "937   -0.67                                CCC(C)C(C)=O   \n",
       "444   -5.05                                  C=CCCCCCCC   \n",
       "\n",
       "                                 augmented_smiles  random_prediction  \\\n",
       "181  [CC(C)(c1ccc(OCC)cc1)COCc1cccc(c1)Oc1ccccc1]          -7.217669   \n",
       "277                                       [C(C)S]          -0.594701   \n",
       "125                [O(C(C)=O)CC(OC(C)=O)COC(=O)C]           0.105230   \n",
       "937                              [C(C)C(C(C)=O)C]          -1.519783   \n",
       "444                                [C(CCCCCCC)=C]          -5.072193   \n",
       "\n",
       "     canonical_prediction  random_error  canonical_error  \n",
       "181             -6.255364      1.382331         2.344636  \n",
       "277             -0.779630      0.005299         0.179630  \n",
       "125              0.379165      0.705230         0.979165  \n",
       "937             -1.765576      0.849783         1.095576  \n",
       "444             -4.743603      0.022193         0.306397  "
      ]
     },
     "execution_count": 8,
     "metadata": {},
     "output_type": "execute_result"
    }
   ],
   "source": [
    "test_data[\"random_error\"] = (test_data[\"target\"] -\n",
    "                             test_data[\"random_prediction\"]).abs()\n",
    "test_data[\"canonical_error\"] = (test_data[\"target\"] -\n",
    "                                test_data[\"canonical_prediction\"]).abs()\n",
    "test_data.head()"
   ]
  },
  {
   "cell_type": "markdown",
   "metadata": {},
   "source": [
    "### Size of molecules\n",
    "Compute the number of heavy atoms in each molecule."
   ]
  },
  {
   "cell_type": "code",
   "execution_count": 9,
   "metadata": {},
   "outputs": [],
   "source": [
    "test_data[\"num_heavy_atoms\"] = test_data[\"canonical_\\\n",
    "smiles\"].apply(get_num_heavy_atoms)"
   ]
  },
  {
   "cell_type": "markdown",
   "metadata": {},
   "source": [
    "### Analyze the error differences\n",
    "Plot the individual prediction errors against each other"
   ]
  },
  {
   "cell_type": "code",
   "execution_count": 10,
   "metadata": {},
   "outputs": [
    {
     "data": {
      "text/plain": [
       "<AxesSubplot:xlabel='canonical_error', ylabel='random_error'>"
      ]
     },
     "execution_count": 10,
     "metadata": {},
     "output_type": "execute_result"
    },
    {
     "data": {
      "image/png": "[encoded data removed]",
      "text/plain": [
       "<Figure size 432x288 with 1 Axes>"
      ]
     },
     "metadata": {
      "needs_background": "light"
     },
     "output_type": "display_data"
    }
   ],
   "source": [
    "test_data.plot.scatter(x='canonical_error', y='random_error')"
   ]
  },
  {
   "cell_type": "markdown",
   "metadata": {},
   "source": [
    "Check for examples with high error difference"
   ]
  },
  {
   "cell_type": "code",
   "execution_count": 11,
   "metadata": {},
   "outputs": [
    {
     "data": {
      "text/html": [
       "<div>\n",
       "<style scoped>\n",
       "    .dataframe tbody tr th:only-of-type {\n",
       "        vertical-align: middle;\n",
       "    }\n",
       "\n",
       "    .dataframe tbody tr th {\n",
       "        vertical-align: top;\n",
       "    }\n",
       "\n",
       "    .dataframe thead th {\n",
       "        text-align: right;\n",
       "    }\n",
       "</style>\n",
       "<table border=\"1\" class=\"dataframe\">\n",
       "  <thead>\n",
       "    <tr style=\"text-align: right;\">\n",
       "      <th></th>\n",
       "      <th>target</th>\n",
       "      <th>canonical_smiles</th>\n",
       "      <th>augmented_smiles</th>\n",
       "      <th>random_prediction</th>\n",
       "      <th>canonical_prediction</th>\n",
       "      <th>random_error</th>\n",
       "      <th>canonical_error</th>\n",
       "      <th>num_heavy_atoms</th>\n",
       "      <th>abs_diff_canonical_random_error</th>\n",
       "      <th>canonical_better</th>\n",
       "    </tr>\n",
       "  </thead>\n",
       "  <tbody>\n",
       "    <tr>\n",
       "      <th>500</th>\n",
       "      <td>-6.340</td>\n",
       "      <td>CCOP(=S)(OCC)SC(CCl)N1C(=O)c2ccccc2C1=O</td>\n",
       "      <td>[N1(C(=O)c2ccccc2C1=O)C(SP(=S)(OCC)OCC)CCl]</td>\n",
       "      <td>-3.281174</td>\n",
       "      <td>-6.317289</td>\n",
       "      <td>3.058826</td>\n",
       "      <td>0.022711</td>\n",
       "      <td>23</td>\n",
       "      <td>3.036115</td>\n",
       "      <td>True</td>\n",
       "    </tr>\n",
       "    <tr>\n",
       "      <th>319</th>\n",
       "      <td>-7.210</td>\n",
       "      <td>Clc1cc(Cl)c(-c2cccc(Cl)c2Cl)cc1Cl</td>\n",
       "      <td>[Clc1c(-c2cccc(Cl)c2Cl)cc(Cl)c(Cl)c1]</td>\n",
       "      <td>-9.368914</td>\n",
       "      <td>-7.346202</td>\n",
       "      <td>2.158914</td>\n",
       "      <td>0.136202</td>\n",
       "      <td>17</td>\n",
       "      <td>2.022712</td>\n",
       "      <td>True</td>\n",
       "    </tr>\n",
       "    <tr>\n",
       "      <th>936</th>\n",
       "      <td>-3.540</td>\n",
       "      <td>O=[N+]([O-])c1cccc2ccccc12</td>\n",
       "      <td>[c12c(cccc2cccc1)[N+](=O)[O-]]</td>\n",
       "      <td>-5.165521</td>\n",
       "      <td>-3.505774</td>\n",
       "      <td>1.625521</td>\n",
       "      <td>0.034226</td>\n",
       "      <td>13</td>\n",
       "      <td>1.591295</td>\n",
       "      <td>True</td>\n",
       "    </tr>\n",
       "    <tr>\n",
       "      <th>272</th>\n",
       "      <td>-8.402</td>\n",
       "      <td>CC1(C)C(C=C(Br)Br)C1C(=O)OC(C#N)c1cccc(Oc2cccc...</td>\n",
       "      <td>[CC1(C(C(OC(c2cccc(c2)Oc2ccccc2)C#N)=O)C1C=C(B...</td>\n",
       "      <td>-6.090784</td>\n",
       "      <td>-7.658781</td>\n",
       "      <td>2.311216</td>\n",
       "      <td>0.743219</td>\n",
       "      <td>28</td>\n",
       "      <td>1.567997</td>\n",
       "      <td>True</td>\n",
       "    </tr>\n",
       "    <tr>\n",
       "      <th>922</th>\n",
       "      <td>-3.931</td>\n",
       "      <td>O=C1NC(=O)C2C3C(C(O)(c4ccccc4)c4ccccn4)=CC(C3=...</td>\n",
       "      <td>[c1(ccccc1)C(c1ccccn1)(O)C1C2C(C(C3C(=O)NC(=O)...</td>\n",
       "      <td>-4.176924</td>\n",
       "      <td>-5.737419</td>\n",
       "      <td>0.245924</td>\n",
       "      <td>1.806419</td>\n",
       "      <td>39</td>\n",
       "      <td>1.560495</td>\n",
       "      <td>False</td>\n",
       "    </tr>\n",
       "  </tbody>\n",
       "</table>\n",
       "</div>"
      ],
      "text/plain": [
       "     target                                   canonical_smiles  \\\n",
       "500  -6.340            CCOP(=S)(OCC)SC(CCl)N1C(=O)c2ccccc2C1=O   \n",
       "319  -7.210                  Clc1cc(Cl)c(-c2cccc(Cl)c2Cl)cc1Cl   \n",
       "936  -3.540                         O=[N+]([O-])c1cccc2ccccc12   \n",
       "272  -8.402  CC1(C)C(C=C(Br)Br)C1C(=O)OC(C#N)c1cccc(Oc2cccc...   \n",
       "922  -3.931  O=C1NC(=O)C2C3C(C(O)(c4ccccc4)c4ccccn4)=CC(C3=...   \n",
       "\n",
       "                                      augmented_smiles  random_prediction  \\\n",
       "500        [N1(C(=O)c2ccccc2C1=O)C(SP(=S)(OCC)OCC)CCl]          -3.281174   \n",
       "319              [Clc1c(-c2cccc(Cl)c2Cl)cc(Cl)c(Cl)c1]          -9.368914   \n",
       "936                     [c12c(cccc2cccc1)[N+](=O)[O-]]          -5.165521   \n",
       "272  [CC1(C(C(OC(c2cccc(c2)Oc2ccccc2)C#N)=O)C1C=C(B...          -6.090784   \n",
       "922  [c1(ccccc1)C(c1ccccn1)(O)C1C2C(C(C3C(=O)NC(=O)...          -4.176924   \n",
       "\n",
       "     canonical_prediction  random_error  canonical_error  num_heavy_atoms  \\\n",
       "500             -6.317289      3.058826         0.022711               23   \n",
       "319             -7.346202      2.158914         0.136202               17   \n",
       "936             -3.505774      1.625521         0.034226               13   \n",
       "272             -7.658781      2.311216         0.743219               28   \n",
       "922             -5.737419      0.245924         1.806419               39   \n",
       "\n",
       "     abs_diff_canonical_random_error  canonical_better  \n",
       "500                         3.036115              True  \n",
       "319                         2.022712              True  \n",
       "936                         1.591295              True  \n",
       "272                         1.567997              True  \n",
       "922                         1.560495             False  "
      ]
     },
     "execution_count": 11,
     "metadata": {},
     "output_type": "execute_result"
    }
   ],
   "source": [
    "test_data[\"abs_diff_canonical_random_error\"] = (test_data[\"canonical_error\"] -\n",
    "                             test_data[\"random_error\"]).abs()\n",
    "test_data[\"canonical_better\"] = (test_data[\"canonical_error\"] <=\n",
    "                             test_data[\"random_error\"])\n",
    "test_data.sort_values(\"abs_diff_canonical_random_error\", ascending=False).head()"
   ]
  },
  {
   "cell_type": "code",
   "execution_count": 12,
   "metadata": {},
   "outputs": [
    {
     "name": "stdout",
     "output_type": "stream",
     "text": [
      "From top 15 molecules (total 226) with highest error difference    9    are better predicted using canonical SMILES.\n"
     ]
    }
   ],
   "source": [
    "top_n = 15\n",
    "print(f\"From top {top_n} molecules (total {test_data.shape[0]}) with highest error difference\\\n",
    "    {test_data.sort_values('abs_diff_canonical_random_error', ascending=False)[0:top_n].canonical_better.sum()}\\\n",
    "    are better predicted using canonical SMILES.\")"
   ]
  },
  {
   "cell_type": "markdown",
   "metadata": {},
   "source": [
    "Draw the molecules"
   ]
  },
  {
   "cell_type": "code",
   "execution_count": 13,
   "metadata": {},
   "outputs": [
    {
     "data": {
      "text/plain": [
       "Int64Index([500, 319, 936, 272, 922, 265, 394, 825, 780, 1095, 703, 971, 326,\n",
       "            1052, 976],\n",
       "           dtype='int64')"
      ]
     },
     "execution_count": 13,
     "metadata": {},
     "output_type": "execute_result"
    }
   ],
   "source": [
    "test_data.sort_values(\"abs_diff_canonical_random_error\", ascending=False).index[:15]"
   ]
  },
  {
   "cell_type": "code",
   "execution_count": 14,
   "metadata": {},
   "outputs": [
    {
     "data": {
      "image/png": "[encoded data removed]",
      "text/plain": [
       "<IPython.core.display.Image object>"
      ]
     },
     "execution_count": 14,
     "metadata": {},
     "output_type": "execute_result"
    }
   ],
   "source": [
    "# Get SMILES\n",
    "smiList = test_data.loc[[500, 319, 936, 272, 922, 265, 394, 825, 780, 1095, \n",
    "                         703, 971, 326, 1052, 976]].canonical_smiles \n",
    "# Create RDKit molecular objects\n",
    "mols = [Chem.MolFromSmiles(m) for m in smiList]\n",
    "# display\n",
    "Draw.MolsToGridImage(mols,molsPerRow=5,subImgSize=(200,200))"
   ]
  },
  {
   "cell_type": "markdown",
   "metadata": {},
   "source": [
    "## Canonical VS random SMILES\n",
    "Consider molecules that are better predicted if canonical SMILES are used."
   ]
  },
  {
   "cell_type": "code",
   "execution_count": 15,
   "metadata": {},
   "outputs": [
    {
     "data": {
      "text/html": [
       "<div>\n",
       "<style scoped>\n",
       "    .dataframe tbody tr th:only-of-type {\n",
       "        vertical-align: middle;\n",
       "    }\n",
       "\n",
       "    .dataframe tbody tr th {\n",
       "        vertical-align: top;\n",
       "    }\n",
       "\n",
       "    .dataframe thead th {\n",
       "        text-align: right;\n",
       "    }\n",
       "</style>\n",
       "<table border=\"1\" class=\"dataframe\">\n",
       "  <thead>\n",
       "    <tr style=\"text-align: right;\">\n",
       "      <th></th>\n",
       "      <th>target</th>\n",
       "      <th>canonical_smiles</th>\n",
       "      <th>augmented_smiles</th>\n",
       "      <th>random_prediction</th>\n",
       "      <th>canonical_prediction</th>\n",
       "      <th>random_error</th>\n",
       "      <th>canonical_error</th>\n",
       "      <th>num_heavy_atoms</th>\n",
       "      <th>abs_diff_canonical_random_error</th>\n",
       "      <th>canonical_better</th>\n",
       "    </tr>\n",
       "  </thead>\n",
       "  <tbody>\n",
       "    <tr>\n",
       "      <th>405</th>\n",
       "      <td>-4.630</td>\n",
       "      <td>CC(=O)OCC(=O)C1CCC2C3CCC4=CC(=O)CCC4(C)C3CCC12C</td>\n",
       "      <td>[C(OCC(=O)C1CCC2C3CCC4C(C)(C3CCC12C)CCC(=O)C=4...</td>\n",
       "      <td>-3.406039</td>\n",
       "      <td>-4.655402</td>\n",
       "      <td>1.223961</td>\n",
       "      <td>0.025402</td>\n",
       "      <td>27</td>\n",
       "      <td>1.198559</td>\n",
       "      <td>True</td>\n",
       "    </tr>\n",
       "    <tr>\n",
       "      <th>1039</th>\n",
       "      <td>-4.173</td>\n",
       "      <td>CC(=O)SC1CC2=CC(=O)CCC2(C)C2CCC3(C)C(CCC34CCC(...</td>\n",
       "      <td>[C12C(CCC3(C)C4(OC(CC4)=O)CCC31)C1(C(CC2SC(=O)...</td>\n",
       "      <td>-5.916536</td>\n",
       "      <td>-5.219800</td>\n",
       "      <td>1.743536</td>\n",
       "      <td>1.046800</td>\n",
       "      <td>29</td>\n",
       "      <td>0.696736</td>\n",
       "      <td>True</td>\n",
       "    </tr>\n",
       "    <tr>\n",
       "      <th>485</th>\n",
       "      <td>-0.220</td>\n",
       "      <td>COP(=O)(OC)C(O)C(Cl)(Cl)Cl</td>\n",
       "      <td>[O(P(=O)(C(C(Cl)(Cl)Cl)O)OC)C]</td>\n",
       "      <td>-1.352779</td>\n",
       "      <td>-1.182500</td>\n",
       "      <td>1.132779</td>\n",
       "      <td>0.962500</td>\n",
       "      <td>12</td>\n",
       "      <td>0.170279</td>\n",
       "      <td>True</td>\n",
       "    </tr>\n",
       "    <tr>\n",
       "      <th>1051</th>\n",
       "      <td>-1.470</td>\n",
       "      <td>CCCCC(O)CC</td>\n",
       "      <td>[C(CCC)C(CC)O]</td>\n",
       "      <td>-2.485096</td>\n",
       "      <td>-1.733256</td>\n",
       "      <td>1.015096</td>\n",
       "      <td>0.263256</td>\n",
       "      <td>8</td>\n",
       "      <td>0.751840</td>\n",
       "      <td>True</td>\n",
       "    </tr>\n",
       "    <tr>\n",
       "      <th>643</th>\n",
       "      <td>-4.370</td>\n",
       "      <td>c1ccc2c(c1)CCCC2</td>\n",
       "      <td>[c1cc2c(cc1)CCCC2]</td>\n",
       "      <td>-3.453131</td>\n",
       "      <td>-3.608530</td>\n",
       "      <td>0.916869</td>\n",
       "      <td>0.761470</td>\n",
       "      <td>10</td>\n",
       "      <td>0.155399</td>\n",
       "      <td>True</td>\n",
       "    </tr>\n",
       "  </tbody>\n",
       "</table>\n",
       "</div>"
      ],
      "text/plain": [
       "      target                                   canonical_smiles  \\\n",
       "405   -4.630    CC(=O)OCC(=O)C1CCC2C3CCC4=CC(=O)CCC4(C)C3CCC12C   \n",
       "1039  -4.173  CC(=O)SC1CC2=CC(=O)CCC2(C)C2CCC3(C)C(CCC34CCC(...   \n",
       "485   -0.220                         COP(=O)(OC)C(O)C(Cl)(Cl)Cl   \n",
       "1051  -1.470                                         CCCCC(O)CC   \n",
       "643   -4.370                                   c1ccc2c(c1)CCCC2   \n",
       "\n",
       "                                       augmented_smiles  random_prediction  \\\n",
       "405   [C(OCC(=O)C1CCC2C3CCC4C(C)(C3CCC12C)CCC(=O)C=4...          -3.406039   \n",
       "1039  [C12C(CCC3(C)C4(OC(CC4)=O)CCC31)C1(C(CC2SC(=O)...          -5.916536   \n",
       "485                      [O(P(=O)(C(C(Cl)(Cl)Cl)O)OC)C]          -1.352779   \n",
       "1051                                     [C(CCC)C(CC)O]          -2.485096   \n",
       "643                                  [c1cc2c(cc1)CCCC2]          -3.453131   \n",
       "\n",
       "      canonical_prediction  random_error  canonical_error  num_heavy_atoms  \\\n",
       "405              -4.655402      1.223961         0.025402               27   \n",
       "1039             -5.219800      1.743536         1.046800               29   \n",
       "485              -1.182500      1.132779         0.962500               12   \n",
       "1051             -1.733256      1.015096         0.263256                8   \n",
       "643              -3.608530      0.916869         0.761470               10   \n",
       "\n",
       "      abs_diff_canonical_random_error  canonical_better  \n",
       "405                          1.198559              True  \n",
       "1039                         0.696736              True  \n",
       "485                          0.170279              True  \n",
       "1051                         0.751840              True  \n",
       "643                          0.155399              True  "
      ]
     },
     "execution_count": 15,
     "metadata": {},
     "output_type": "execute_result"
    }
   ],
   "source": [
    "better_canonical = test_data[(test_data['random_error'] >\n",
    "                              test_data['canonical_error'])]\n",
    "better_canonical.head()"
   ]
  },
  {
   "cell_type": "code",
   "execution_count": 16,
   "metadata": {},
   "outputs": [
    {
     "name": "stdout",
     "output_type": "stream",
     "text": [
      "Index: 405\n",
      "Target: -4.63\n",
      "Canonical SMILES: CC(=O)OCC(=O)C1CCC2C3CCC4=CC(=O)CCC4(C)C3CCC12C\n",
      "Canonical prediction (& error): -4.66\t0.03\n",
      "Random SMILES: C(OCC(=O)C1CCC2C3CCC4C(C)(C3CCC12C)CCC(=O)C=4)(C)=O\n",
      "Random prediction (& error): -3.41\t1.22\n",
      "\n",
      "\n",
      "Index: 1039\n",
      "Target: -4.17\n",
      "Canonical SMILES: CC(=O)SC1CC2=CC(=O)CCC2(C)C2CCC3(C)C(CCC34CCC(=O)O4)C12\n",
      "Canonical prediction (& error): -5.22\t1.05\n",
      "Random SMILES: C12C(CCC3(C)C4(OC(CC4)=O)CCC31)C1(C(CC2SC(=O)C)=CC(CC1)=O)C\n",
      "Random prediction (& error): -5.92\t1.74\n",
      "\n",
      "\n",
      "Index: 485\n",
      "Target: -0.22\n",
      "Canonical SMILES: COP(=O)(OC)C(O)C(Cl)(Cl)Cl\n",
      "Canonical prediction (& error): -1.18\t0.96\n",
      "Random SMILES: O(P(=O)(C(C(Cl)(Cl)Cl)O)OC)C\n",
      "Random prediction (& error): -1.35\t1.13\n",
      "\n",
      "\n"
     ]
    }
   ],
   "source": [
    "for ind, (index, row) in enumerate(better_canonical.iterrows()):\n",
    "    if ind < 3:\n",
    "        if row[\"num_heavy_atoms\"] >= 5:\n",
    "            print(f\"Index: {index}\\n\"\n",
    "                  f\"Target: {row['target']:.2f}\\n\"\n",
    "                  f\"Canonical SMILES: {row['canonical_smiles']}\\n\"\n",
    "                  f\"Canonical prediction (& error): \"\n",
    "                  f\"{row['canonical_prediction']:.2f}\\t\"\n",
    "                  f\"{row['canonical_error']:.2f}\\n\"\n",
    "                  f\"Random SMILES: {row['augmented_smiles'][0]}\\n\"\n",
    "                  f\"Random prediction (& error): \"\n",
    "                  f\"{row['random_prediction']:.2f}\\t\"\n",
    "                  f\"{row['random_error']:.2f}\"\n",
    "                  f\"\\n\\n\")"
   ]
  },
  {
   "cell_type": "markdown",
   "metadata": {},
   "source": [
    "#### ESOL selection for paper table\n",
    "For ESOL data set:"
   ]
  },
  {
   "cell_type": "code",
   "execution_count": 17,
   "metadata": {},
   "outputs": [
    {
     "data": {
      "text/html": [
       "<style type=\"text/css\">\n",
       "</style>\n",
       "<table id=\"T_0ea69_\">\n",
       "  <thead>\n",
       "    <tr>\n",
       "      <th class=\"blank level0\" >&nbsp;</th>\n",
       "      <th class=\"col_heading level0 col0\" >canonical_smiles</th>\n",
       "      <th class=\"col_heading level0 col1\" >augmented_smiles</th>\n",
       "      <th class=\"col_heading level0 col2\" >target</th>\n",
       "      <th class=\"col_heading level0 col3\" >canonical_prediction</th>\n",
       "      <th class=\"col_heading level0 col4\" >canonical_error</th>\n",
       "      <th class=\"col_heading level0 col5\" >random_prediction</th>\n",
       "      <th class=\"col_heading level0 col6\" >random_error</th>\n",
       "    </tr>\n",
       "  </thead>\n",
       "  <tbody>\n",
       "    <tr>\n",
       "      <th id=\"T_0ea69_level0_row0\" class=\"row_heading level0 row0\" >859</th>\n",
       "      <td id=\"T_0ea69_row0_col0\" class=\"data row0 col0\" >CCCCCC</td>\n",
       "      <td id=\"T_0ea69_row0_col1\" class=\"data row0 col1\" >['C(C)CCCC']</td>\n",
       "      <td id=\"T_0ea69_row0_col2\" class=\"data row0 col2\" >-3.84</td>\n",
       "      <td id=\"T_0ea69_row0_col3\" class=\"data row0 col3\" >-2.87</td>\n",
       "      <td id=\"T_0ea69_row0_col4\" class=\"data row0 col4\" >0.97</td>\n",
       "      <td id=\"T_0ea69_row0_col5\" class=\"data row0 col5\" >-2.77</td>\n",
       "      <td id=\"T_0ea69_row0_col6\" class=\"data row0 col6\" >1.07</td>\n",
       "    </tr>\n",
       "    <tr>\n",
       "      <th id=\"T_0ea69_level0_row1\" class=\"row_heading level0 row1\" >395</th>\n",
       "      <td id=\"T_0ea69_row1_col0\" class=\"data row1 col0\" >CCCC(=O)CC</td>\n",
       "      <td id=\"T_0ea69_row1_col1\" class=\"data row1 col1\" >['C(=O)(CCC)CC']</td>\n",
       "      <td id=\"T_0ea69_row1_col2\" class=\"data row1 col2\" >-0.83</td>\n",
       "      <td id=\"T_0ea69_row1_col3\" class=\"data row1 col3\" >-1.37</td>\n",
       "      <td id=\"T_0ea69_row1_col4\" class=\"data row1 col4\" >0.54</td>\n",
       "      <td id=\"T_0ea69_row1_col5\" class=\"data row1 col5\" >-1.65</td>\n",
       "      <td id=\"T_0ea69_row1_col6\" class=\"data row1 col6\" >0.82</td>\n",
       "    </tr>\n",
       "    <tr>\n",
       "      <th id=\"T_0ea69_level0_row2\" class=\"row_heading level0 row2\" >609</th>\n",
       "      <td id=\"T_0ea69_row2_col0\" class=\"data row2 col0\" >CCCC(=O)OCC</td>\n",
       "      <td id=\"T_0ea69_row2_col1\" class=\"data row2 col1\" >['C(OC(CCC)=O)C']</td>\n",
       "      <td id=\"T_0ea69_row2_col2\" class=\"data row2 col2\" >-1.36</td>\n",
       "      <td id=\"T_0ea69_row2_col3\" class=\"data row2 col3\" >-1.14</td>\n",
       "      <td id=\"T_0ea69_row2_col4\" class=\"data row2 col4\" >0.22</td>\n",
       "      <td id=\"T_0ea69_row2_col5\" class=\"data row2 col5\" >-0.55</td>\n",
       "      <td id=\"T_0ea69_row2_col6\" class=\"data row2 col6\" >0.81</td>\n",
       "    </tr>\n",
       "  </tbody>\n",
       "</table>\n"
      ],
      "text/plain": [
       "<pandas.io.formats.style.Styler at 0x7f64d58c8e80>"
      ]
     },
     "metadata": {},
     "output_type": "display_data"
    }
   ],
   "source": [
    "if TASK == \"ESOL\":\n",
    "    ESOL_data = better_canonical.loc[[859, 395, 609]][[\"canonical_smiles\",\n",
    "                                                       \"augmented_smiles\",\n",
    "                                                       \"target\",\n",
    "                                                       \"canonical_prediction\",\n",
    "                                                       \"canonical_error\",\n",
    "                                                       \"random_prediction\",\n",
    "                                                       \"random_error\"]]\n",
    "    ESOL_data = ESOL_data.style.format(\"{:.2f}\",\n",
    "                                       subset=[\"target\",\n",
    "                                               \"canonical_prediction\",\n",
    "                                               \"canonical_error\",\n",
    "                                               \"random_prediction\",\n",
    "                                               \"random_error\"])\n",
    "    display(ESOL_data)\n",
    "else:\n",
    "    pass"
   ]
  },
  {
   "cell_type": "markdown",
   "metadata": {},
   "source": [
    "Draw molecules"
   ]
  },
  {
   "cell_type": "code",
   "execution_count": 18,
   "metadata": {},
   "outputs": [
    {
     "data": {
      "image/png": "[encoded data removed]",
      "text/plain": [
       "<IPython.core.display.Image object>"
      ]
     },
     "execution_count": 18,
     "metadata": {},
     "output_type": "execute_result"
    }
   ],
   "source": [
    "# Get SMILES\n",
    "smiList = better_canonical.loc[[859, 395, 609]].canonical_smiles\n",
    "# Create RDKit molecular objects\n",
    "mols = [Chem.MolFromSmiles(m) for m in smiList]\n",
    "# display\n",
    "Draw.MolsToGridImage(mols,molsPerRow=3,subImgSize=(200,200))"
   ]
  }
 ],
 "metadata": {
  "kernelspec": {
   "display_name": "Python 3 (ipykernel)",
   "language": "python",
   "name": "python3"
  },
  "language_info": {
   "codemirror_mode": {
    "name": "ipython",
    "version": 3
   },
   "file_extension": ".py",
   "mimetype": "text/x-python",
   "name": "python",
   "nbconvert_exporter": "python",
   "pygments_lexer": "ipython3",
   "version": "3.9.7"
  }
 },
 "nbformat": 4,
 "nbformat_minor": 4
}
