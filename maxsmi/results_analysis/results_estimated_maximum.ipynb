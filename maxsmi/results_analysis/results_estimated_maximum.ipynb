{
 "cells": [
  {
   "cell_type": "markdown",
   "metadata": {},
   "source": [
    "# maxsmi\n",
    "## Analysis of results\n",
    "\n",
    "This notebook serves to analyse the results of the simulations ran on the Curta cluster from the Freie Universität Berlin."
   ]
  },
  {
   "cell_type": "markdown",
   "metadata": {},
   "source": [
    "Simulations can be run using the following command:\n",
    "```\n",
    "(maxsmi) $ python maxsmi/full_workflow.py --task FreeSolv --aug-strategy-train augmentation_maximum_estimation --aug-nb-train 10 --aug-nb-test 10\n",
    "\n",
    "```\n",
    "\n",
    "📝 Have a look at the [README](https://github.com/t-kimber/maxsmi/blob/main/README.md) page for more details."
   ]
  },
  {
   "cell_type": "markdown",
   "metadata": {},
   "source": [
    "### Goal\n",
    "\n",
    "The aim of this notebook is to look the results on the test set for\n",
    "- the ESOL_small and FreeSolv tasks\n",
    "- the CONV1D model,\n",
    "- and the estimated maximum augmentation strategy.\n",
    "\n",
    "More specifically, investigate the number of SMILES generated using this strategy."
   ]
  },
  {
   "cell_type": "code",
   "execution_count": 1,
   "metadata": {},
   "outputs": [],
   "source": [
    "import os\n",
    "import numpy as np\n",
    "import pandas as pd\n",
    "from pathlib import Path\n",
    "import dataframe_image as dfi\n",
    "import matplotlib.pyplot as plt\n",
    "from maxsmi.utils_analysis import retrieve_metric\n",
    "from maxsmi.utils_smiles import get_num_heavy_atoms\n",
    "from rdkit import Chem"
   ]
  },
  {
   "cell_type": "code",
   "execution_count": 2,
   "metadata": {},
   "outputs": [],
   "source": [
    "# Path to this notebook\n",
    "HERE = Path(_dh[-1])\n",
    "\n",
    "path_to_output = HERE.parents[0]\n",
    "\n",
    "# Make a folder for output figures\n",
    "os.makedirs(f\"{HERE}/figures\", exist_ok=True)"
   ]
  },
  {
   "cell_type": "markdown",
   "metadata": {},
   "source": [
    "## Dataset\n",
    "We consider the following datasets:\n",
    "\n",
    "- ESOL_small\n",
    "- FreeSolv\n",
    "\n",
    "_Note_: The lipophilicity data set was not run for computational reasons and ESOL_small was used instead of ESOL for the same reason.\n",
    "\n",
    "_Note_: the data investigated is only the test set (i.e. 20% of the original data). Indeed, saving all SMILES variations generated in the train set would have been too memory intensive.\n",
    "\n",
    "Comment/uncomment the dataset of choice in the cell below."
   ]
  },
  {
   "cell_type": "code",
   "execution_count": 3,
   "metadata": {},
   "outputs": [],
   "source": [
    "TASK = \"ESOL_small\"\n",
    "# TASK = \"FreeSolv\""
   ]
  },
  {
   "cell_type": "code",
   "execution_count": 4,
   "metadata": {},
   "outputs": [],
   "source": [
    "MODEL = \"CONV1D\""
   ]
  },
  {
   "cell_type": "code",
   "execution_count": 5,
   "metadata": {},
   "outputs": [],
   "source": [
    "path = (f\"{path_to_output}/output/\"\n",
    "        f\"{TASK}_smiles_augmentation_maximum_estimation_\"\n",
    "        f\"10_augmentation_maximum_estimation_10_{MODEL}\")"
   ]
  },
  {
   "cell_type": "code",
   "execution_count": 6,
   "metadata": {},
   "outputs": [
    {
     "data": {
      "text/html": [
       "<div>\n",
       "<style scoped>\n",
       "    .dataframe tbody tr th:only-of-type {\n",
       "        vertical-align: middle;\n",
       "    }\n",
       "\n",
       "    .dataframe tbody tr th {\n",
       "        vertical-align: top;\n",
       "    }\n",
       "\n",
       "    .dataframe thead th {\n",
       "        text-align: right;\n",
       "    }\n",
       "</style>\n",
       "<table border=\"1\" class=\"dataframe\">\n",
       "  <thead>\n",
       "    <tr style=\"text-align: right;\">\n",
       "      <th></th>\n",
       "      <th>target</th>\n",
       "      <th>canonical_smiles</th>\n",
       "      <th>augmented_smiles</th>\n",
       "      <th>new_smiles</th>\n",
       "      <th>average_prediction</th>\n",
       "      <th>std_prediction</th>\n",
       "    </tr>\n",
       "  </thead>\n",
       "  <tbody>\n",
       "    <tr>\n",
       "      <th>397</th>\n",
       "      <td>-5.40</td>\n",
       "      <td>O=C1C2CC=CCC2C(=O)N1SC(Cl)(Cl)C(Cl)Cl</td>\n",
       "      <td>[S(C(Cl)(Cl)C(Cl)Cl)N1C(=O)C2CC=CCC2C1=O, O=C1...</td>\n",
       "      <td>[S(C(L)(L)C(L)L)N1C(=O)C2CC=CCC2C1=O, O=C1N(C(...</td>\n",
       "      <td>-4.806540</td>\n",
       "      <td>0.224556</td>\n",
       "    </tr>\n",
       "    <tr>\n",
       "      <th>688</th>\n",
       "      <td>-3.73</td>\n",
       "      <td>CCCCC1C(=O)N(c2ccccc2)N(c2ccc(O)cc2)C1=O</td>\n",
       "      <td>[c1(O)ccc(N2N(c3ccccc3)C(C(C2=O)CCCC)=O)cc1, C...</td>\n",
       "      <td>[c1(O)ccc(N2N(c3ccccc3)C(C(C2=O)CCCC)=O)cc1, C...</td>\n",
       "      <td>-4.266408</td>\n",
       "      <td>0.298026</td>\n",
       "    </tr>\n",
       "  </tbody>\n",
       "</table>\n",
       "</div>"
      ],
      "text/plain": [
       "     target                          canonical_smiles  \\\n",
       "397   -5.40     O=C1C2CC=CCC2C(=O)N1SC(Cl)(Cl)C(Cl)Cl   \n",
       "688   -3.73  CCCCC1C(=O)N(c2ccccc2)N(c2ccc(O)cc2)C1=O   \n",
       "\n",
       "                                      augmented_smiles  \\\n",
       "397  [S(C(Cl)(Cl)C(Cl)Cl)N1C(=O)C2CC=CCC2C1=O, O=C1...   \n",
       "688  [c1(O)ccc(N2N(c3ccccc3)C(C(C2=O)CCCC)=O)cc1, C...   \n",
       "\n",
       "                                            new_smiles  average_prediction  \\\n",
       "397  [S(C(L)(L)C(L)L)N1C(=O)C2CC=CCC2C1=O, O=C1N(C(...           -4.806540   \n",
       "688  [c1(O)ccc(N2N(c3ccccc3)C(C(C2=O)CCCC)=O)cc1, C...           -4.266408   \n",
       "\n",
       "     std_prediction  \n",
       "397        0.224556  \n",
       "688        0.298026  "
      ]
     },
     "execution_count": 6,
     "metadata": {},
     "output_type": "execute_result"
    }
   ],
   "source": [
    "data = pd.read_pickle(f\"{path}/results_ensemble_learning.pkl\")\n",
    "data.head(2)"
   ]
  },
  {
   "cell_type": "markdown",
   "metadata": {},
   "source": [
    "#### Number of heavy atoms per compound"
   ]
  },
  {
   "cell_type": "code",
   "execution_count": 7,
   "metadata": {},
   "outputs": [],
   "source": [
    "data[\"nb_heavy_atoms\"] = data.canonical_smiles.apply(get_num_heavy_atoms)"
   ]
  },
  {
   "cell_type": "markdown",
   "metadata": {},
   "source": [
    "#### Number of generated SMILES (unique) per compound using estimated maximum strategy"
   ]
  },
  {
   "cell_type": "markdown",
   "metadata": {},
   "source": [
    "Note: the generated SMILES with this strategy are unique."
   ]
  },
  {
   "cell_type": "code",
   "execution_count": 8,
   "metadata": {},
   "outputs": [],
   "source": [
    "def number_of_smiles_per_compound(list_):\n",
    "    return len(list_)"
   ]
  },
  {
   "cell_type": "code",
   "execution_count": 9,
   "metadata": {},
   "outputs": [],
   "source": [
    "data[\"nb_smiles_generated\"] = data.augmented_smiles.apply(number_of_smiles_per_compound)"
   ]
  },
  {
   "cell_type": "markdown",
   "metadata": {},
   "source": [
    "### Molecule with the largest number of generated SMILES"
   ]
  },
  {
   "cell_type": "code",
   "execution_count": 10,
   "metadata": {},
   "outputs": [
    {
     "name": "stdout",
     "output_type": "stream",
     "text": [
      "Maximum number of generated SMILES: 50659\n",
      "given by canonical SMILES: CC(=O)C1(C)CCC2C3C=C(C)C4=CC(=O)CCC4(C)C3CCC21C\n",
      "With 25 heavy atoms\n"
     ]
    },
    {
     "data": {
      "image/png": "[encoded data removed]",
      "text/plain": [
       "<rdkit.Chem.rdchem.Mol at 0x7f7faf6b2210>"
      ]
     },
     "execution_count": 10,
     "metadata": {},
     "output_type": "execute_result"
    }
   ],
   "source": [
    "print(f\"Maximum number of generated SMILES: {max(data['nb_smiles_generated'])}\")\n",
    "print(f\"given by canonical SMILES: {data.canonical_smiles[data['nb_smiles_generated'].idxmax()]}\")\n",
    "print(f\"With {data.nb_heavy_atoms[data['nb_smiles_generated'].idxmax()]} heavy atoms\")\n",
    "\n",
    "molecule = Chem.MolFromSmiles(data.canonical_smiles[data['nb_smiles_generated'].idxmax()])\n",
    "molecule"
   ]
  },
  {
   "cell_type": "markdown",
   "metadata": {},
   "source": [
    "### Molecule with the smallest number of generated SMILES"
   ]
  },
  {
   "cell_type": "code",
   "execution_count": 11,
   "metadata": {},
   "outputs": [
    {
     "name": "stdout",
     "output_type": "stream",
     "text": [
      "Minimum number of generated SMILES: 3\n",
      "given by canonical SMILES: C=CC=C\n",
      "With 4 heavy atoms\n",
      "['C(=C)C=C', 'C(C=C)=C', 'C=CC=C']\n"
     ]
    },
    {
     "data": {
      "image/png": "[encoded data removed]",
      "text/plain": [
       "<rdkit.Chem.rdchem.Mol at 0x7f7faf6b2df0>"
      ]
     },
     "execution_count": 11,
     "metadata": {},
     "output_type": "execute_result"
    }
   ],
   "source": [
    "print(f\"Minimum number of generated SMILES: {min(data['nb_smiles_generated'])}\")\n",
    "print(f\"given by canonical SMILES: {data.canonical_smiles[data['nb_smiles_generated'].idxmin()]}\")\n",
    "print(f\"With {data.nb_heavy_atoms[data['nb_smiles_generated'].idxmin()]} heavy atoms\")\n",
    "molecule = Chem.MolFromSmiles(data.canonical_smiles[data['nb_smiles_generated'].idxmin()])\n",
    "print(data.augmented_smiles[data['nb_smiles_generated'].idxmin()])\n",
    "molecule"
   ]
  },
  {
   "cell_type": "markdown",
   "metadata": {},
   "source": [
    "#### Histogram of number of generated SMILES per compound"
   ]
  },
  {
   "cell_type": "code",
   "execution_count": 12,
   "metadata": {},
   "outputs": [
    {
     "data": {
      "image/png": "[encoded data removed]",
      "text/plain": [
       "<Figure size 432x288 with 1 Axes>"
      ]
     },
     "metadata": {
      "needs_background": "light"
     },
     "output_type": "display_data"
    }
   ],
   "source": [
    "plt.hist(data[\"nb_smiles_generated\"])\n",
    "plt.show()"
   ]
  },
  {
   "cell_type": "markdown",
   "metadata": {},
   "source": [
    "#### Scatter plot of number of generated SMILES per compound vs. the number of heavy atom per compound"
   ]
  },
  {
   "cell_type": "code",
   "execution_count": 13,
   "metadata": {},
   "outputs": [
    {
     "data": {
      "image/png": "[encoded data removed]",
      "text/plain": [
       "<Figure size 432x288 with 1 Axes>"
      ]
     },
     "metadata": {
      "needs_background": "light"
     },
     "output_type": "display_data"
    }
   ],
   "source": [
    "plt.scatter(data[\"nb_heavy_atoms\"], data[\"nb_smiles_generated\"])\n",
    "plt.show()"
   ]
  },
  {
   "cell_type": "markdown",
   "metadata": {},
   "source": [
    "#### Mean/median number of generated SMILES per compound"
   ]
  },
  {
   "cell_type": "code",
   "execution_count": 14,
   "metadata": {},
   "outputs": [
    {
     "name": "stdout",
     "output_type": "stream",
     "text": [
      "Mean: 677.332\n"
     ]
    }
   ],
   "source": [
    "mean_nb_smiles = data['nb_smiles_generated'].mean()\n",
    "print(f\"Mean: {mean_nb_smiles:.3f}\")"
   ]
  },
  {
   "cell_type": "code",
   "execution_count": 15,
   "metadata": {},
   "outputs": [
    {
     "name": "stdout",
     "output_type": "stream",
     "text": [
      "Median: 73.500\n"
     ]
    }
   ],
   "source": [
    "median_nb_smiles = data['nb_smiles_generated'].median()\n",
    "print(f\"Median: {median_nb_smiles:.3f}\")"
   ]
  },
  {
   "cell_type": "markdown",
   "metadata": {},
   "source": [
    "#### Standard deviation in the number of generated SMILES per compound"
   ]
  },
  {
   "cell_type": "code",
   "execution_count": 16,
   "metadata": {},
   "outputs": [
    {
     "name": "stdout",
     "output_type": "stream",
     "text": [
      "Standard deviation: 3737.942\n"
     ]
    }
   ],
   "source": [
    "std_dev_nb_smiles = data['nb_smiles_generated'].std()\n",
    "print(f\"Standard deviation: {std_dev_nb_smiles:.3f}\")"
   ]
  },
  {
   "cell_type": "markdown",
   "metadata": {},
   "source": [
    "### Removing the most extreme value (outlier)"
   ]
  },
  {
   "cell_type": "markdown",
   "metadata": {},
   "source": [
    "Let's remove the outlier with 25 heavy atoms:"
   ]
  },
  {
   "cell_type": "code",
   "execution_count": 17,
   "metadata": {},
   "outputs": [
    {
     "data": {
      "text/plain": [
       "(214, 8)"
      ]
     },
     "execution_count": 17,
     "metadata": {},
     "output_type": "execute_result"
    }
   ],
   "source": [
    "data.shape"
   ]
  },
  {
   "cell_type": "code",
   "execution_count": 18,
   "metadata": {},
   "outputs": [
    {
     "data": {
      "text/plain": [
       "(213, 8)"
      ]
     },
     "execution_count": 18,
     "metadata": {},
     "output_type": "execute_result"
    }
   ],
   "source": [
    "data_restricted = data.drop([data['nb_smiles_generated'].idxmax()])\n",
    "data_restricted.shape"
   ]
  },
  {
   "cell_type": "markdown",
   "metadata": {},
   "source": [
    "#### Histogram of number of generated SMILES per compound"
   ]
  },
  {
   "cell_type": "code",
   "execution_count": 19,
   "metadata": {},
   "outputs": [
    {
     "data": {
      "image/png": "[encoded data removed]",
      "text/plain": [
       "<Figure size 432x288 with 1 Axes>"
      ]
     },
     "metadata": {
      "needs_background": "light"
     },
     "output_type": "display_data"
    }
   ],
   "source": [
    "plt.hist(data_restricted[\"nb_smiles_generated\"])\n",
    "plt.show()"
   ]
  },
  {
   "cell_type": "markdown",
   "metadata": {},
   "source": [
    "#### Scatter plot of number of generated SMILES per compound vs. the number of heavy atom per compound"
   ]
  },
  {
   "cell_type": "code",
   "execution_count": 20,
   "metadata": {},
   "outputs": [
    {
     "data": {
      "image/png": "[encoded data removed]",
      "text/plain": [
       "<Figure size 432x288 with 1 Axes>"
      ]
     },
     "metadata": {
      "needs_background": "light"
     },
     "output_type": "display_data"
    }
   ],
   "source": [
    "plt.scatter(data_restricted[\"nb_heavy_atoms\"], data_restricted[\"nb_smiles_generated\"])\n",
    "plt.show()"
   ]
  },
  {
   "cell_type": "markdown",
   "metadata": {},
   "source": [
    "#### Mean/median number of generated SMILES per compound"
   ]
  },
  {
   "cell_type": "code",
   "execution_count": 21,
   "metadata": {},
   "outputs": [
    {
     "name": "stdout",
     "output_type": "stream",
     "text": [
      "Mean: 442.676\n"
     ]
    }
   ],
   "source": [
    "mean_nb_smiles = data_restricted['nb_smiles_generated'].mean()\n",
    "print(f\"Mean: {mean_nb_smiles:.3f}\")"
   ]
  },
  {
   "cell_type": "code",
   "execution_count": 22,
   "metadata": {},
   "outputs": [
    {
     "name": "stdout",
     "output_type": "stream",
     "text": [
      "Median: 71.000\n"
     ]
    }
   ],
   "source": [
    "median_nb_smiles = data_restricted['nb_smiles_generated'].median()\n",
    "print(f\"Median: {median_nb_smiles:.3f}\")"
   ]
  },
  {
   "cell_type": "code",
   "execution_count": 23,
   "metadata": {},
   "outputs": [
    {
     "name": "stdout",
     "output_type": "stream",
     "text": [
      "Standard deviation: 1482.899\n"
     ]
    }
   ],
   "source": [
    "std_dev_nb_smiles = data_restricted['nb_smiles_generated'].std()\n",
    "print(f\"Standard deviation: {std_dev_nb_smiles:.3f}\")"
   ]
  }
 ],
 "metadata": {
  "kernelspec": {
   "display_name": "Python 3",
   "language": "python",
   "name": "python3"
  },
  "language_info": {
   "codemirror_mode": {
    "name": "ipython",
    "version": 3
   },
   "file_extension": ".py",
   "mimetype": "text/x-python",
   "name": "python",
   "nbconvert_exporter": "python",
   "pygments_lexer": "ipython3",
   "version": "3.8.6"
  }
 },
 "nbformat": 4,
 "nbformat_minor": 4
}
