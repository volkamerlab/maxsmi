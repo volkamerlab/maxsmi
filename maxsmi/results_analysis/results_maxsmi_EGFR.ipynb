{
 "cells": [
  {
   "cell_type": "markdown",
   "metadata": {},
   "source": [
    "# maxsmi\n",
    "## Analysis of results\n",
    "\n",
    "This notebook serves to analyse the results for the maxsmi model using affinity data against the EGFR kinase.\n",
    "\n",
    "\n",
    "📝 Have a look at the [README](https://github.com/t-kimber/maxsmi/blob/main/README.md) page for more details."
   ]
  },
  {
   "cell_type": "markdown",
   "metadata": {},
   "source": [
    "## Goal\n",
    "\n",
    "The aim of this notebook is to compare the results on the test set of the affinity data for\n",
    "- the maxsmi model, and\n",
    "- the canonical model."
   ]
  },
  {
   "cell_type": "code",
   "execution_count": 1,
   "metadata": {},
   "outputs": [],
   "source": [
    "import os\n",
    "from pathlib import Path\n",
    "from maxsmi.utils_analysis import retrieve_metric\n",
    "from maxsmi.utils_optimal_model import retrieve_optimal_model"
   ]
  },
  {
   "cell_type": "code",
   "execution_count": 2,
   "metadata": {},
   "outputs": [],
   "source": [
    "# Path to this notebook\n",
    "HERE = Path(_dh[-1])"
   ]
  },
  {
   "cell_type": "code",
   "execution_count": 3,
   "metadata": {},
   "outputs": [],
   "source": [
    "path_to_output = HERE.parents[0]"
   ]
  },
  {
   "cell_type": "markdown",
   "metadata": {},
   "source": [
    "## Load results for affinity data"
   ]
  },
  {
   "cell_type": "markdown",
   "metadata": {},
   "source": [
    "### Load maxsmi model"
   ]
  },
  {
   "cell_type": "code",
   "execution_count": 4,
   "metadata": {},
   "outputs": [],
   "source": [
    "TASK = \"affinity\""
   ]
  },
  {
   "cell_type": "code",
   "execution_count": 5,
   "metadata": {},
   "outputs": [
    {
     "name": "stdout",
     "output_type": "stream",
     "text": [
      "For the affinity data:\n",
      "the maxsmi deep learning model is: CONV1D\n",
      "using an augmentation number of 70 and\n",
      "augmentation strategy: augmentation_with_reduced_duplication\n"
     ]
    }
   ],
   "source": [
    "maxsmi_model = retrieve_optimal_model(TASK)\n",
    "print(f\"For the {TASK} data:\\n\"\n",
    "      f\"the maxsmi deep learning model is: {maxsmi_model[0]}\\n\"\n",
    "      f\"using an augmentation number of {maxsmi_model[2]} and\\n\"\n",
    "      f\"augmentation strategy: {maxsmi_model[1].__name__}\")"
   ]
  },
  {
   "cell_type": "code",
   "execution_count": 6,
   "metadata": {},
   "outputs": [],
   "source": [
    "test_r2_maxsmi = retrieve_metric(path_to_output,\n",
    "                                 \"r2\",\n",
    "                                 \"test\",\n",
    "                                 TASK,\n",
    "                                 maxsmi_model[1].__name__,\n",
    "                                 maxsmi_model[2],\n",
    "                                 maxsmi_model[1].__name__,\n",
    "                                 maxsmi_model[2],\n",
    "                                 maxsmi_model[0])"
   ]
  },
  {
   "cell_type": "code",
   "execution_count": 7,
   "metadata": {},
   "outputs": [],
   "source": [
    "test_rmse_maxsmi = retrieve_metric(path_to_output,\n",
    "                                   \"rmse\",\n",
    "                                   \"test\",\n",
    "                                   TASK,\n",
    "                                   maxsmi_model[1].__name__,\n",
    "                                   maxsmi_model[2],\n",
    "                                   maxsmi_model[1].__name__,\n",
    "                                   maxsmi_model[2],\n",
    "                                   maxsmi_model[0])"
   ]
  },
  {
   "cell_type": "code",
   "execution_count": 8,
   "metadata": {},
   "outputs": [
    {
     "name": "stdout",
     "output_type": "stream",
     "text": [
      "test_r2_maxsmi = 0.712, test_rmse_maxsmi = 0.777\n"
     ]
    }
   ],
   "source": [
    "print(f\"{test_r2_maxsmi = :.3f}, {test_rmse_maxsmi = :.3f}\")"
   ]
  },
  {
   "cell_type": "markdown",
   "metadata": {},
   "source": [
    "## Load the canonical counterpart"
   ]
  },
  {
   "cell_type": "markdown",
   "metadata": {},
   "source": [
    "### Canonical model"
   ]
  },
  {
   "cell_type": "code",
   "execution_count": 9,
   "metadata": {},
   "outputs": [],
   "source": [
    "test_r2_canonical = retrieve_metric(path_to_output,\n",
    "                                    \"r2\",\n",
    "                                    \"test\",\n",
    "                                    TASK,\n",
    "                                    \"no_augmentation\",\n",
    "                                    0,\n",
    "                                    \"no_augmentation\",\n",
    "                                    0,\n",
    "                                    \"CONV1D\")"
   ]
  },
  {
   "cell_type": "code",
   "execution_count": 10,
   "metadata": {},
   "outputs": [],
   "source": [
    "test_rmse_canonical = retrieve_metric(path_to_output,\n",
    "                                      \"rmse\",\n",
    "                                      \"test\",\n",
    "                                      TASK,\n",
    "                                      \"no_augmentation\",\n",
    "                                      0,\n",
    "                                      \"no_augmentation\",\n",
    "                                      0,\n",
    "                                      \"CONV1D\")"
   ]
  },
  {
   "cell_type": "code",
   "execution_count": 11,
   "metadata": {},
   "outputs": [
    {
     "name": "stdout",
     "output_type": "stream",
     "text": [
      "test_r2_canonical = 0.494, test_rmse_canonical = 1.031\n"
     ]
    }
   ],
   "source": [
    "print(f\"{test_r2_canonical = :.3f}, {test_rmse_canonical = :.3f}\")"
   ]
  }
 ],
 "metadata": {
  "kernelspec": {
   "display_name": "Python 3",
   "language": "python",
   "name": "python3"
  },
  "language_info": {
   "codemirror_mode": {
    "name": "ipython",
    "version": 3
   },
   "file_extension": ".py",
   "mimetype": "text/x-python",
   "name": "python",
   "nbconvert_exporter": "python",
   "pygments_lexer": "ipython3",
   "version": "3.8.6"
  }
 },
 "nbformat": 4,
 "nbformat_minor": 4
}
