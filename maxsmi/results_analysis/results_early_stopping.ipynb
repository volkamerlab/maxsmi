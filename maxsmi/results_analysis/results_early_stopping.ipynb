{
 "cells": [
  {
   "cell_type": "markdown",
   "metadata": {},
   "source": [
    "# maxsmi\n",
    "## Analysis of results\n",
    "\n",
    "This notebook serves to analyse the results of the simulations ran on the Curta cluster from the Freie Universität Berlin.\n",
    "\n",
    "### Early stopping\n",
    "\n",
    "Simulations can be run using the following command:\n",
    "```\n",
    "(maxsmi) $ python maxsmi/full_workflow_earlystopping.py --task lipophilicity --string-encoding smiles --aug-strategy-train augmentation_without_duplication --aug-strategy-test augmentation_without_duplication --aug-nb-train 5 --aug-nb-test 5 --ml-model CONV1D --eval-strategy True\n",
    "```\n"
   ]
  },
  {
   "cell_type": "markdown",
   "metadata": {},
   "source": [
    "### Goal\n",
    "\n",
    "The aim of this notebook is to compare the results for a subset of models that were trained with and without early stopping.\n",
    "\n",
    "Models that were trained are:\n",
    "\n",
    "- ESOL: (CONV2D, Augmentation with duplication, 4),\n",
    "- FreeSolv: (RNN, Augmentation with reduced duplication, 3),\n",
    "- Lipophilicity: (CONV1D, Augmentation without duplication, 5).\n",
    "\n",
    "Moreover, we use a t-test to determine if the mean of the two groups is statistically different."
   ]
  },
  {
   "cell_type": "code",
   "execution_count": 1,
   "metadata": {},
   "outputs": [],
   "source": [
    "import os\n",
    "from pathlib import Path\n",
    "import pickle\n",
    "from scipy import stats\n",
    "\n",
    "# Path to this notebook\n",
    "HERE = Path(_dh[-1])\n",
    "\n",
    "path_to_output = HERE.parents[0]"
   ]
  },
  {
   "cell_type": "code",
   "execution_count": 2,
   "metadata": {},
   "outputs": [],
   "source": [
    "def load_results(\n",
    "    path,\n",
    "    task,\n",
    "    augmentation_strategy_train,\n",
    "    train_augmentation,\n",
    "    augmentation_strategy_test,\n",
    "    test_augmentation,\n",
    "    ml_model,\n",
    "    string_encoding=\"smiles\",\n",
    "    trial=1,\n",
    "    early_stopping=False\n",
    "):\n",
    "    if early_stopping:\n",
    "        with open(\n",
    "            f\"{path}/output{trial}/{task}_{string_encoding}_{augmentation_strategy_train}_\"\n",
    "            f\"{train_augmentation}_{augmentation_strategy_test}_\"\n",
    "            f\"{test_augmentation}_{ml_model}_earlystopping/\"\n",
    "            f\"results_metrics.pkl\",\n",
    "            \"rb\", ) as f: \n",
    "            data = pickle.load(f)\n",
    "    else:\n",
    "        with open(\n",
    "            f\"{path}/output{trial}/{task}_{string_encoding}_{augmentation_strategy_train}_\"\n",
    "            f\"{train_augmentation}_{augmentation_strategy_test}_\"\n",
    "            f\"{test_augmentation}_{ml_model}/\"\n",
    "            f\"results_metrics.pkl\",\n",
    "            \"rb\", ) as f: \n",
    "            data = pickle.load(f)\n",
    "        \n",
    "        \n",
    "    return data"
   ]
  },
  {
   "cell_type": "code",
   "execution_count": 3,
   "metadata": {},
   "outputs": [],
   "source": [
    "TASK = \"ESOL\"\n",
    "ML_MODEL = \"CONV2D\"\n",
    "AUGMENTATION_STRATEGY = \"augmentation_with_duplication\"\n",
    "AUGMENTATION_NUMBER = 4\n",
    "STRING_ENCODING = \"smiles\""
   ]
  },
  {
   "cell_type": "code",
   "execution_count": 4,
   "metadata": {},
   "outputs": [],
   "source": [
    "TASK = \"Lipophilicity\"\n",
    "ML_MODEL = \"CONV1D\"\n",
    "AUGMENTATION_STRATEGY = \"augmentation_without_duplication\"\n",
    "AUGMENTATION_NUMBER = 5\n",
    "STRING_ENCODING = \"smiles\""
   ]
  },
  {
   "cell_type": "code",
   "execution_count": 5,
   "metadata": {},
   "outputs": [],
   "source": [
    "TASK = \"FreeSolv\"\n",
    "ML_MODEL = \"RNN\"\n",
    "AUGMENTATION_STRATEGY = \"augmentation_with_reduced_duplication\"\n",
    "AUGMENTATION_NUMBER = 3\n",
    "STRING_ENCODING = \"smiles\""
   ]
  },
  {
   "cell_type": "code",
   "execution_count": 6,
   "metadata": {},
   "outputs": [
    {
     "data": {
      "text/plain": [
       "1.9367644946937959"
      ]
     },
     "execution_count": 6,
     "metadata": {},
     "output_type": "execute_result"
    }
   ],
   "source": [
    "test_rmse_no_earlystopping = load_results(path_to_output, TASK, AUGMENTATION_STRATEGY, AUGMENTATION_NUMBER,\n",
    "             AUGMENTATION_STRATEGY, AUGMENTATION_NUMBER, ML_MODEL, STRING_ENCODING, trial=1, early_stopping=False).test[0][1]\n",
    "test_rmse_no_earlystopping"
   ]
  },
  {
   "cell_type": "code",
   "execution_count": 7,
   "metadata": {},
   "outputs": [
    {
     "data": {
      "text/plain": [
       "2.1166053526382274"
      ]
     },
     "execution_count": 7,
     "metadata": {},
     "output_type": "execute_result"
    }
   ],
   "source": [
    "test_rmse_earlystopping = load_results(path_to_output, TASK, AUGMENTATION_STRATEGY, AUGMENTATION_NUMBER,\n",
    "             AUGMENTATION_STRATEGY, AUGMENTATION_NUMBER, ML_MODEL, STRING_ENCODING, trial=1, early_stopping=True).test[0][1]\n",
    "test_rmse_earlystopping"
   ]
  },
  {
   "cell_type": "markdown",
   "metadata": {},
   "source": [
    "### T-test to determine the statistical difference"
   ]
  },
  {
   "cell_type": "markdown",
   "metadata": {},
   "source": [
    "_Note_: A p-value larger than a chosen threshold (e.g. 5% or 1%) indicates that our observation is not so unlikely to have occurred by chance."
   ]
  },
  {
   "cell_type": "code",
   "execution_count": 8,
   "metadata": {},
   "outputs": [
    {
     "data": {
      "text/plain": [
       "Ttest_indResult(statistic=1.1893322976106901, pvalue=0.23609318910730553)"
      ]
     },
     "execution_count": 8,
     "metadata": {},
     "output_type": "execute_result"
    }
   ],
   "source": [
    "rvs1 = stats.norm.rvs(loc=5, scale=10, size=80)\n",
    "rvs2 = stats.norm.rvs(loc=5, scale=10, size=80)\n",
    "stats.ttest_ind(rvs1, rvs2)"
   ]
  }
 ],
 "metadata": {
  "kernelspec": {
   "display_name": "Python 3",
   "language": "python",
   "name": "python3"
  },
  "language_info": {
   "codemirror_mode": {
    "name": "ipython",
    "version": 3
   },
   "file_extension": ".py",
   "mimetype": "text/x-python",
   "name": "python",
   "nbconvert_exporter": "python",
   "pygments_lexer": "ipython3",
   "version": "3.8.6"
  }
 },
 "nbformat": 4,
 "nbformat_minor": 4
}
