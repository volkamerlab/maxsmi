{
 "cells": [
  {
   "cell_type": "markdown",
   "metadata": {},
   "source": [
    "# maxsmi\n",
    "## Analysis of results\n",
    "\n",
    "This notebook serves to analyse the results of the simulations ran on the Curta cluster from the Freie Universität Berlin.\n",
    "\n",
    "### Early stopping\n",
    "\n",
    "Simulations can be run using the following command:\n",
    "```\n",
    "(maxsmi) $ python maxsmi/full_workflow_earlystopping.py --task lipophilicity --string-encoding smiles --aug-strategy-train augmentation_without_duplication --aug-strategy-test augmentation_without_duplication --aug-nb-train 5 --aug-nb-test 5 --ml-model CONV1D --eval-strategy True\n",
    "```\n"
   ]
  },
  {
   "cell_type": "markdown",
   "metadata": {},
   "source": [
    "### Goal\n",
    "\n",
    "The aim of this notebook is to compare the results for a subset of models that were trained with and without early stopping.\n",
    "\n",
    "Models that were trained are:\n",
    "\n",
    "- ESOL: (CONV2D, Augmentation with duplication, 4),\n",
    "- FreeSolv: (RNN, Augmentation with reduced duplication, 3),\n",
    "- Lipophilicity: (CONV1D, Augmentation without duplication, 5)."
   ]
  },
  {
   "cell_type": "code",
   "execution_count": null,
   "metadata": {},
   "outputs": [],
   "source": [
    "import os\n",
    "from pathlib import Path\n",
    "import pickle\n",
    "\n",
    "# Path to this notebook\n",
    "HERE = Path(_dh[-1])\n",
    "\n",
    "path_to_output = HERE.parents[0]"
   ]
  },
  {
   "cell_type": "code",
   "execution_count": null,
   "metadata": {},
   "outputs": [],
   "source": [
    "def load_results(\n",
    "    path,\n",
    "    task,\n",
    "    augmentation_strategy_train,\n",
    "    train_augmentation,\n",
    "    augmentation_strategy_test,\n",
    "    test_augmentation,\n",
    "    ml_model,\n",
    "    string_encoding=\"smiles\",\n",
    "    early_stopping=False\n",
    "):\n",
    "    \"\"\"\n",
    "    Loads the result data from simulations.\n",
    "\n",
    "    Parameters\n",
    "    ----------\n",
    "    path : str\n",
    "        The path to output folder.\n",
    "    task : str\n",
    "        The data with associated task, e.g. \"ESOL\", \"FreeSolv\"\n",
    "    augmentation_strategy_train : str\n",
    "        The augmentation strategy used on the train set.\n",
    "    train_augmentation : int\n",
    "        The number of augmentation on the train set.\n",
    "    augmentation_strategy_test : str\n",
    "        The augmentation strategy used on the test set.\n",
    "    test_augmentation : int\n",
    "        The number of augmentation on the test set.\n",
    "    ml_model : str\n",
    "        The machine learning model, e.g. \"CONV1D\".\n",
    "    string_encoding : str\n",
    "        The molecular encoding, default is \"smiles\".\n",
    "    early_stopping : bool, default False.\n",
    "        Whether the training was done with early stopping.\n",
    "\n",
    "    Returns\n",
    "    -------\n",
    "    data: pd.Pandas\n",
    "        Pandas data frame with performance metrics (on train and test sets), such as r2 score and time.\n",
    "    \"\"\"\n",
    "\n",
    "    if early_stopping:\n",
    "        with open(\n",
    "            f\"{path}/output/{task}_{string_encoding}_{augmentation_strategy_train}_\"\n",
    "            f\"{train_augmentation}_{augmentation_strategy_test}_\"\n",
    "            f\"{test_augmentation}_{ml_model}_earlystopping/\"\n",
    "            f\"results_metrics.pkl\",\n",
    "            \"rb\",\n",
    "        ) as f:\n",
    "            data = pickle.load(f)\n",
    "    else:\n",
    "        with open(\n",
    "            f\"{path}/output/{task}_{string_encoding}_{augmentation_strategy_train}_\"\n",
    "            f\"{train_augmentation}_{augmentation_strategy_test}_\"\n",
    "            f\"{test_augmentation}_{ml_model}/\"\n",
    "            f\"results_metrics.pkl\",\n",
    "            \"rb\",\n",
    "        ) as f:\n",
    "            data = pickle.load(f)\n",
    "\n",
    "    return data"
   ]
  },
  {
   "cell_type": "code",
   "execution_count": null,
   "metadata": {},
   "outputs": [],
   "source": [
    "TASK = \"ESOL\"\n",
    "ML_MODEL = \"CONV2D\"\n",
    "AUGMENTATION_STRATEGY = \"augmentation_with_duplication\"\n",
    "AUGMENTATION_NUMBER = 4\n",
    "STRING_ENCODING = \"smiles\""
   ]
  },
  {
   "cell_type": "code",
   "execution_count": null,
   "metadata": {},
   "outputs": [],
   "source": [
    "TASK = \"Lipophilicity\"\n",
    "ML_MODEL = \"CONV1D\"\n",
    "AUGMENTATION_STRATEGY = \"augmentation_without_duplication\"\n",
    "AUGMENTATION_NUMBER = 5\n",
    "STRING_ENCODING = \"smiles\""
   ]
  },
  {
   "cell_type": "code",
   "execution_count": null,
   "metadata": {},
   "outputs": [],
   "source": [
    "TASK = \"FreeSolv\"\n",
    "ML_MODEL = \"RNN\"\n",
    "AUGMENTATION_STRATEGY = \"augmentation_with_reduced_duplication\"\n",
    "AUGMENTATION_NUMBER = 3\n",
    "STRING_ENCODING = \"smiles\""
   ]
  },
  {
   "cell_type": "code",
   "execution_count": 6,
   "metadata": {},
   "outputs": [
    {
     "name": "stdout",
     "output_type": "stream",
     "text": [
      "Test RMSE with no early stopping: 2.692\n"
     ]
    }
   ],
   "source": [
    "test_rmse_no_earlystopping = load_results(path_to_output,\n",
    "                                          TASK, AUGMENTATION_STRATEGY, AUGMENTATION_NUMBER,\n",
    "                                          AUGMENTATION_STRATEGY, AUGMENTATION_NUMBER,\n",
    "                                          ML_MODEL, STRING_ENCODING,\n",
    "                                          early_stopping=False).test[0][1]\n",
    "print(f\"Test RMSE with no early stopping: {test_rmse_no_earlystopping:.3f}\")"
   ]
  },
  {
   "cell_type": "code",
   "execution_count": 7,
   "metadata": {},
   "outputs": [
    {
     "name": "stdout",
     "output_type": "stream",
     "text": [
      "Test RMSE with early stopping: 1.920\n"
     ]
    }
   ],
   "source": [
    "test_rmse_earlystopping = load_results(path_to_output,\n",
    "                                       TASK, AUGMENTATION_STRATEGY, AUGMENTATION_NUMBER,\n",
    "                                       AUGMENTATION_STRATEGY, AUGMENTATION_NUMBER,\n",
    "                                       ML_MODEL, STRING_ENCODING,\n",
    "                                       early_stopping=True).test[0][1]\n",
    "print(f\"Test RMSE with early stopping: {test_rmse_earlystopping:.3f}\")"
   ]
  }
 ],
 "metadata": {
  "kernelspec": {
   "display_name": "Python 3",
   "language": "python",
   "name": "python3"
  },
  "language_info": {
   "codemirror_mode": {
    "name": "ipython",
    "version": 3
   },
   "file_extension": ".py",
   "mimetype": "text/x-python",
   "name": "python",
   "nbconvert_exporter": "python",
   "pygments_lexer": "ipython3",
   "version": "3.8.6"
  }
 },
 "nbformat": 4,
 "nbformat_minor": 4
}
