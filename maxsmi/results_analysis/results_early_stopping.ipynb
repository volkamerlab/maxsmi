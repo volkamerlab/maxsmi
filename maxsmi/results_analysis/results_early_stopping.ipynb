{
 "cells": [
  {
   "cell_type": "markdown",
   "metadata": {},
   "source": [
    "# maxsmi\n",
    "## Analysis of results\n",
    "\n",
    "This notebook serves to analyse the results of the simulations ran on the Curta cluster from the Freie Universität Berlin.\n",
    "\n",
    "### Early stopping\n",
    "\n",
    "Simulations can be run using the following command:\n",
    "```\n",
    "(maxsmi) $ python maxsmi/full_workflow_earlystopping.py --task lipophilicity --string-encoding smiles --aug-strategy-train augmentation_without_duplication --aug-strategy-test augmentation_without_duplication --aug-nb-train 5 --aug-nb-test 5 --ml-model CONV1D --eval-strategy True\n",
    "```\n"
   ]
  },
  {
   "cell_type": "markdown",
   "metadata": {},
   "source": [
    "### Goal\n",
    "\n",
    "The aim of this notebook is to compare the results for a subset of models that were trained with and without early stopping.\n",
    "\n",
    "Models that were trained are:\n",
    "\n",
    "- ESOL: (CONV2D, Augmentation with duplication, 4),\n",
    "- FreeSolv: (RNN, Augmentation with reduced duplication, 3),\n",
    "- Lipophilicity: (CONV1D, Augmentation without duplication, 5)."
   ]
  },
  {
   "cell_type": "code",
   "execution_count": 1,
   "metadata": {},
   "outputs": [],
   "source": [
    "import os\n",
    "from pathlib import Path\n",
    "import pickle\n",
    "import numpy as np\n",
    "import matplotlib.pyplot as plt\n",
    "\n",
    "# Path to this notebook\n",
    "HERE = Path(_dh[-1])\n",
    "\n",
    "path_to_output = HERE.parents[0]"
   ]
  },
  {
   "cell_type": "markdown",
   "metadata": {},
   "source": [
    "Un/comment the cell(s) below for a given task of interest."
   ]
  },
  {
   "cell_type": "code",
   "execution_count": 2,
   "metadata": {},
   "outputs": [],
   "source": [
    "TASK = \"FreeSolv\"\n",
    "ML_MODEL = \"RNN\"\n",
    "AUGMENTATION_STRATEGY = \"augmentation_with_reduced_duplication\"\n",
    "AUGMENTATION_NUMBER = 3\n",
    "STRING_ENCODING = \"smiles\""
   ]
  },
  {
   "cell_type": "raw",
   "metadata": {},
   "source": [
    "TASK = \"ESOL\"\n",
    "ML_MODEL = \"CONV2D\"\n",
    "AUGMENTATION_STRATEGY = \"augmentation_with_duplication\"\n",
    "AUGMENTATION_NUMBER = 4\n",
    "STRING_ENCODING = \"smiles\""
   ]
  },
  {
   "cell_type": "raw",
   "metadata": {},
   "source": [
    "TASK = \"Lipophilicity\"\n",
    "ML_MODEL = \"CONV1D\"\n",
    "AUGMENTATION_STRATEGY = \"augmentation_without_duplication\"\n",
    "AUGMENTATION_NUMBER = 5\n",
    "STRING_ENCODING = \"smiles\""
   ]
  },
  {
   "cell_type": "code",
   "execution_count": 3,
   "metadata": {},
   "outputs": [],
   "source": [
    "def test_RMSE(path,\n",
    "              task,\n",
    "              augmentation_strategy_train,\n",
    "              train_augmentation,\n",
    "              augmentation_strategy_test,\n",
    "              test_augmentation,\n",
    "              ml_model,\n",
    "              string_encoding=\"smiles\",\n",
    "              trial=1):\n",
    "    \"\"\"\n",
    "    Loads the result data from simulations with and without early stopping.\n",
    "\n",
    "    Parameters\n",
    "    ----------\n",
    "    path : str\n",
    "        The path to output folder.\n",
    "    task : str\n",
    "        The data with associated task, e.g. \"ESOL\", \"FreeSolv\"\n",
    "    augmentation_strategy_train : str\n",
    "        The augmentation strategy used on the train set.\n",
    "    train_augmentation : int\n",
    "        The number of augmentation on the train set.\n",
    "    augmentation_strategy_test : str\n",
    "        The augmentation strategy used on the test set.\n",
    "    test_augmentation : int\n",
    "        The number of augmentation on the test set.\n",
    "    ml_model : str\n",
    "        The machine learning model, e.g. \"CONV1D\".\n",
    "    string_encoding : str\n",
    "        The molecular encoding, default is \"smiles\".\n",
    "    trial : int, default 1\n",
    "        Iteration of the training process.\n",
    "\n",
    "    Returns\n",
    "    -------\n",
    "    tuple: (float, float)\n",
    "        The test RMSE without and with early stopping.\n",
    "    \"\"\"\n",
    "\n",
    "    try:\n",
    "        with open(\n",
    "                f\"{path}/output_early_stopping/output_{trial}/\"\n",
    "                f\"{task}_{string_encoding}_{augmentation_strategy_train}_\"\n",
    "                f\"{train_augmentation}_{augmentation_strategy_test}_\"\n",
    "                f\"{test_augmentation}_{ml_model}_earlystopping/\"\n",
    "                f\"results_metrics.pkl\",\n",
    "                \"rb\",\n",
    "        ) as f:\n",
    "            data = pickle.load(f)\n",
    "            test_rmse_earlystopping = data.test[0][1]\n",
    "    except FileNotFoundError:\n",
    "        test_rmse_earlystopping = np.nan\n",
    "\n",
    "    try:\n",
    "        with open(\n",
    "                f\"{path}/output_early_stopping/output_{trial}/\"\n",
    "                f\"{task}_{string_encoding}_{augmentation_strategy_train}_\"\n",
    "                f\"{train_augmentation}_{augmentation_strategy_test}_\"\n",
    "                f\"{test_augmentation}_{ml_model}/\"\n",
    "                f\"results_metrics.pkl\",\n",
    "                \"rb\",\n",
    "        ) as f:\n",
    "            data = pickle.load(f)\n",
    "            test_rmse_no_earlystopping = data.test[0][1]\n",
    "    except FileNotFoundError:\n",
    "        test_rmse_no_earlystopping = np.nan\n",
    "\n",
    "    return (test_rmse_no_earlystopping, test_rmse_earlystopping)"
   ]
  },
  {
   "cell_type": "code",
   "execution_count": 4,
   "metadata": {},
   "outputs": [
    {
     "data": {
      "text/plain": [
       "[(1.8392073512321943, 1.8566417814555312),\n",
       " (1.8037040487036347, 1.8615302358806867),\n",
       " (2.076443573580853, 1.8329236462556449),\n",
       " (2.433022338323056, 1.8640063255457333),\n",
       " (1.7808560189909532, 1.9245162284889306),\n",
       " (2.2297661252873935, 1.8860288029500352),\n",
       " (2.028570919832693, 1.888703396595393),\n",
       " (2.354452138091834, 1.8660613626181033),\n",
       " (1.8103277033573009, 1.834616733271631),\n",
       " (1.7754037820576978, 1.9432375078702857)]"
      ]
     },
     "execution_count": 4,
     "metadata": {},
     "output_type": "execute_result"
    }
   ],
   "source": [
    "list_train_iterations = [test_RMSE(path_to_output,\n",
    "                         TASK,\n",
    "                         AUGMENTATION_STRATEGY,\n",
    "                         AUGMENTATION_NUMBER,\n",
    "                         AUGMENTATION_STRATEGY,\n",
    "                         AUGMENTATION_NUMBER,\n",
    "                         ML_MODEL, STRING_ENCODING,\n",
    "                         trial=i) for i in range(1, 11)]\n",
    "list_train_iterations"
   ]
  },
  {
   "cell_type": "code",
   "execution_count": 5,
   "metadata": {},
   "outputs": [
    {
     "data": {
      "image/png": "[encoded data removed]",
      "text/plain": [
       "<Figure size 432x288 with 1 Axes>"
      ]
     },
     "metadata": {
      "needs_background": "light"
     },
     "output_type": "display_data"
    }
   ],
   "source": [
    "plt.hist([without_early[0] for without_early in list_train_iterations], alpha=0.5, bins=20)\n",
    "plt.hist([with_early[1] for with_early in list_train_iterations], alpha=0.5, bins=30)\n",
    "plt.legend([\"Without early stopping\", \"With early stopping\", \"mean\"])\n",
    "plt.title(f\"Histogram of test RMSE\\nof {TASK} retrained 10 times\")\n",
    "plt.show()"
   ]
  },
  {
   "cell_type": "code",
   "execution_count": 6,
   "metadata": {},
   "outputs": [
    {
     "name": "stdout",
     "output_type": "stream",
     "text": [
      "Mean with early stopping: 1.876\n",
      "Standard deviation with early stopping: 0.034\n"
     ]
    }
   ],
   "source": [
    "mean_with_early = np.mean([with_early[1] for with_early in list_train_iterations])\n",
    "print(f\"Mean with early stopping: {mean_with_early:.3f}\")\n",
    "\n",
    "std_with_early = np.std([with_early[1] for with_early in list_train_iterations])\n",
    "print(f\"Standard deviation with early stopping: {std_with_early:.3f}\")"
   ]
  },
  {
   "cell_type": "code",
   "execution_count": 7,
   "metadata": {},
   "outputs": [
    {
     "name": "stdout",
     "output_type": "stream",
     "text": [
      "Mean without early stopping: 2.013\n",
      "Standard deviation without early stopping: 0.239\n"
     ]
    }
   ],
   "source": [
    "mean_without_early = np.mean([without_early[0] for without_early in list_train_iterations])\n",
    "print(f\"Mean without early stopping: {mean_without_early:.3f}\")\n",
    "\n",
    "std_without_early = np.std([without_early[0] for without_early in list_train_iterations])\n",
    "print(f\"Standard deviation without early stopping: {std_without_early:.3f}\")"
   ]
  }
 ],
 "metadata": {
  "kernelspec": {
   "display_name": "Python 3",
   "language": "python",
   "name": "python3"
  },
  "language_info": {
   "codemirror_mode": {
    "name": "ipython",
    "version": 3
   },
   "file_extension": ".py",
   "mimetype": "text/x-python",
   "name": "python",
   "nbconvert_exporter": "python",
   "pygments_lexer": "ipython3",
   "version": "3.8.6"
  }
 },
 "nbformat": 4,
 "nbformat_minor": 4
}
