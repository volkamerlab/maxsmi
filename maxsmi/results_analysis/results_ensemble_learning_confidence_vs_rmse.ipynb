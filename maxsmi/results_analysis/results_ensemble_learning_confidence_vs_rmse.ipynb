{
 "cells": [
  {
   "cell_type": "markdown",
   "metadata": {},
   "source": [
    "# maxsmi\n",
    "## Analysis of results\n",
    "\n",
    "This notebook serves to analyse the results of the simulations ran on the Curta cluster from the Freie Universität Berlin.\n",
    "\n",
    "_Note_:\n",
    "- The notebook will run using the results stored in the `output` folder. They were generated using the following:\n",
    "```\n",
    "(maxsmi) $ python maxsmi/full_workflow.py --task ESOL --string-encoding smiles --aug-strategy-train augmentation_with_reduced_duplication --aug-strategy-test augmentation_with_reduced_duplication --aug-nb-train 70 --aug-nb-test 70 --ml-model CONV1D --eval-strategy True\n",
    "```\n",
    "- a `figures` folder will be created in which the images are saved.\n",
    "\n",
    "📝 Have a look at the [README](https://github.com/volkamerlab/maxsmi/blob/main/README.md) page for more details."
   ]
  },
  {
   "cell_type": "markdown",
   "metadata": {},
   "source": [
    "## Ensemble learning results\n",
    "Here we load the data which contains relevant information if there was augmentation on the test set, such as\n",
    "- the absolute error between the true value and the average value\n",
    "- confidence of the prediction: is the standard deviation low or high?\n",
    "\n",
    "This data represents _only_ the test set (20%) and not the full data (100%)."
   ]
  },
  {
   "cell_type": "markdown",
   "metadata": {},
   "source": [
    "### Goal\n",
    "The aim of this notebook is to look at the best models, called the maxsmi models, and see how ensemble learning behaves."
   ]
  },
  {
   "cell_type": "code",
   "execution_count": 1,
   "metadata": {},
   "outputs": [],
   "source": [
    "import os\n",
    "import pandas as pd\n",
    "import numpy\n",
    "from pathlib import Path\n",
    "import matplotlib.pyplot as plt\n",
    "\n",
    "from maxsmi.utils_analysis import load_results\n",
    "from maxsmi.utils_smiles import get_num_heavy_atoms\n",
    "from maxsmi.utils_optimal_model import retrieve_optimal_model"
   ]
  },
  {
   "cell_type": "code",
   "execution_count": 2,
   "metadata": {},
   "outputs": [],
   "source": [
    "# Path to this notebook\n",
    "HERE = Path(_dh[-1])"
   ]
  },
  {
   "cell_type": "code",
   "execution_count": 3,
   "metadata": {},
   "outputs": [],
   "source": [
    "# Make a folder for output figures\n",
    "os.makedirs(f\"{HERE}/figures\", exist_ok=True)"
   ]
  },
  {
   "cell_type": "code",
   "execution_count": 4,
   "metadata": {},
   "outputs": [],
   "source": [
    "path_to_output = HERE.parents[0]"
   ]
  },
  {
   "cell_type": "markdown",
   "metadata": {},
   "source": [
    "## Dataset\n",
    "We consider the following datasets:\n",
    "\n",
    "- ESOL\n",
    "- lipophilicity\n",
    "- free solv\n",
    "\n",
    "Comment/uncomment the dataset of choice in the cell below."
   ]
  },
  {
   "cell_type": "code",
   "execution_count": 5,
   "metadata": {},
   "outputs": [],
   "source": [
    "# TASK = \"lipophilicity\"\n",
    "# TASK = \"ESOL\"\n",
    "TASK = \"free_solv\""
   ]
  },
  {
   "cell_type": "markdown",
   "metadata": {},
   "source": [
    "## Maxsmi models\n",
    "We retrieve the maxsmi models."
   ]
  },
  {
   "cell_type": "code",
   "execution_count": 6,
   "metadata": {},
   "outputs": [
    {
     "name": "stdout",
     "output_type": "stream",
     "text": [
      "For the free_solv data:\n",
      "the maxsmi deep learning model is: CONV1D\n",
      "using an augmentation number of 70 and\n",
      "augmentation strategy: augmentation_without_duplication\n"
     ]
    }
   ],
   "source": [
    "maxsmi_model = retrieve_optimal_model(TASK)\n",
    "print(f\"For the {TASK} data:\\n\"\n",
    "      f\"the maxsmi deep learning model is: {maxsmi_model[0]}\\n\"\n",
    "      f\"using an augmentation number of {maxsmi_model[2]} and\\n\"\n",
    "      f\"augmentation strategy: {maxsmi_model[1].__name__}\")"
   ]
  },
  {
   "cell_type": "markdown",
   "metadata": {},
   "source": [
    "## Load data for the maxsmi model on a specific task"
   ]
  },
  {
   "cell_type": "code",
   "execution_count": 7,
   "metadata": {},
   "outputs": [
    {
     "data": {
      "text/html": [
       "<div>\n",
       "<style scoped>\n",
       "    .dataframe tbody tr th:only-of-type {\n",
       "        vertical-align: middle;\n",
       "    }\n",
       "\n",
       "    .dataframe tbody tr th {\n",
       "        vertical-align: top;\n",
       "    }\n",
       "\n",
       "    .dataframe thead th {\n",
       "        text-align: right;\n",
       "    }\n",
       "</style>\n",
       "<table border=\"1\" class=\"dataframe\">\n",
       "  <thead>\n",
       "    <tr style=\"text-align: right;\">\n",
       "      <th></th>\n",
       "      <th>target</th>\n",
       "      <th>canonical_smiles</th>\n",
       "      <th>augmented_smiles</th>\n",
       "      <th>new_smiles</th>\n",
       "      <th>average_prediction</th>\n",
       "      <th>std_prediction</th>\n",
       "    </tr>\n",
       "  </thead>\n",
       "  <tbody>\n",
       "    <tr>\n",
       "      <th>394</th>\n",
       "      <td>-9.40</td>\n",
       "      <td>O=C(O)c1cc(-c2ccc(F)cc2F)ccc1O</td>\n",
       "      <td>[C(O)(c1c(O)ccc(c1)-c1c(F)cc(F)cc1)=O, c1(cc(-...</td>\n",
       "      <td>[C(O)(c1c(O)ccc(c1)-c1c(F)cc(F)cc1)=O, c1(cc(-...</td>\n",
       "      <td>-9.044036</td>\n",
       "      <td>0.864539</td>\n",
       "    </tr>\n",
       "    <tr>\n",
       "      <th>268</th>\n",
       "      <td>1.23</td>\n",
       "      <td>C1CCCCC1</td>\n",
       "      <td>[C1CCCCC1]</td>\n",
       "      <td>[C1CCCCC1]</td>\n",
       "      <td>0.487129</td>\n",
       "      <td>0.000000</td>\n",
       "    </tr>\n",
       "    <tr>\n",
       "      <th>364</th>\n",
       "      <td>-9.28</td>\n",
       "      <td>CS(C)=O</td>\n",
       "      <td>[O=S(C)C, CS(C)=O, CS(=O)C, S(C)(=O)C, S(C)(C)...</td>\n",
       "      <td>[O=S(C)C, CS(C)=O, CS(=O)C, S(C)(=O)C, S(C)(C)...</td>\n",
       "      <td>-5.858472</td>\n",
       "      <td>0.277142</td>\n",
       "    </tr>\n",
       "    <tr>\n",
       "      <th>612</th>\n",
       "      <td>-5.73</td>\n",
       "      <td>O=[N+]([O-])OCCO[N+](=O)[O-]</td>\n",
       "      <td>[C(CO[N+](=O)[O-])O[N+]([O-])=O, O=[N+]([O-])O...</td>\n",
       "      <td>[C(CO[N+](=O)[O-])O[N+]([O-])=O, O=[N+]([O-])O...</td>\n",
       "      <td>-5.244985</td>\n",
       "      <td>0.529231</td>\n",
       "    </tr>\n",
       "    <tr>\n",
       "      <th>370</th>\n",
       "      <td>0.10</td>\n",
       "      <td>ClC(Cl)=C(Cl)Cl</td>\n",
       "      <td>[C(Cl)(=C(Cl)Cl)Cl, ClC(Cl)=C(Cl)Cl, C(=C(Cl)C...</td>\n",
       "      <td>[C(L)(=C(L)L)L, LC(L)=C(L)L, C(=C(L)L)(L)L, LC...</td>\n",
       "      <td>-0.890657</td>\n",
       "      <td>0.397646</td>\n",
       "    </tr>\n",
       "  </tbody>\n",
       "</table>\n",
       "</div>"
      ],
      "text/plain": [
       "     target                canonical_smiles  \\\n",
       "394   -9.40  O=C(O)c1cc(-c2ccc(F)cc2F)ccc1O   \n",
       "268    1.23                        C1CCCCC1   \n",
       "364   -9.28                         CS(C)=O   \n",
       "612   -5.73    O=[N+]([O-])OCCO[N+](=O)[O-]   \n",
       "370    0.10                 ClC(Cl)=C(Cl)Cl   \n",
       "\n",
       "                                      augmented_smiles  \\\n",
       "394  [C(O)(c1c(O)ccc(c1)-c1c(F)cc(F)cc1)=O, c1(cc(-...   \n",
       "268                                         [C1CCCCC1]   \n",
       "364  [O=S(C)C, CS(C)=O, CS(=O)C, S(C)(=O)C, S(C)(C)...   \n",
       "612  [C(CO[N+](=O)[O-])O[N+]([O-])=O, O=[N+]([O-])O...   \n",
       "370  [C(Cl)(=C(Cl)Cl)Cl, ClC(Cl)=C(Cl)Cl, C(=C(Cl)C...   \n",
       "\n",
       "                                            new_smiles  average_prediction  \\\n",
       "394  [C(O)(c1c(O)ccc(c1)-c1c(F)cc(F)cc1)=O, c1(cc(-...           -9.044036   \n",
       "268                                         [C1CCCCC1]            0.487129   \n",
       "364  [O=S(C)C, CS(C)=O, CS(=O)C, S(C)(=O)C, S(C)(C)...           -5.858472   \n",
       "612  [C(CO[N+](=O)[O-])O[N+]([O-])=O, O=[N+]([O-])O...           -5.244985   \n",
       "370  [C(L)(=C(L)L)L, LC(L)=C(L)L, C(=C(L)L)(L)L, LC...           -0.890657   \n",
       "\n",
       "     std_prediction  \n",
       "394        0.864539  \n",
       "268        0.000000  \n",
       "364        0.277142  \n",
       "612        0.529231  \n",
       "370        0.397646  "
      ]
     },
     "execution_count": 7,
     "metadata": {},
     "output_type": "execute_result"
    }
   ],
   "source": [
    "maxsmi_data = load_results(path_to_output,\n",
    "                           TASK,\n",
    "                           maxsmi_model[1].__name__,\n",
    "                           maxsmi_model[2],\n",
    "                           maxsmi_model[1].__name__,\n",
    "                           maxsmi_model[2],\n",
    "                           maxsmi_model[0],\n",
    "                           ensemble_learning=True)\n",
    "maxsmi_data.head()"
   ]
  },
  {
   "cell_type": "markdown",
   "metadata": {},
   "source": [
    "### Prediction error\n",
    "\n",
    "We now compute the prediction error: the difference between the true value and the average prediction."
   ]
  },
  {
   "cell_type": "code",
   "execution_count": 8,
   "metadata": {},
   "outputs": [
    {
     "data": {
      "text/html": [
       "<div>\n",
       "<style scoped>\n",
       "    .dataframe tbody tr th:only-of-type {\n",
       "        vertical-align: middle;\n",
       "    }\n",
       "\n",
       "    .dataframe tbody tr th {\n",
       "        vertical-align: top;\n",
       "    }\n",
       "\n",
       "    .dataframe thead th {\n",
       "        text-align: right;\n",
       "    }\n",
       "</style>\n",
       "<table border=\"1\" class=\"dataframe\">\n",
       "  <thead>\n",
       "    <tr style=\"text-align: right;\">\n",
       "      <th></th>\n",
       "      <th>target</th>\n",
       "      <th>canonical_smiles</th>\n",
       "      <th>augmented_smiles</th>\n",
       "      <th>new_smiles</th>\n",
       "      <th>average_prediction</th>\n",
       "      <th>std_prediction</th>\n",
       "      <th>average_error</th>\n",
       "    </tr>\n",
       "  </thead>\n",
       "  <tbody>\n",
       "    <tr>\n",
       "      <th>394</th>\n",
       "      <td>-9.40</td>\n",
       "      <td>O=C(O)c1cc(-c2ccc(F)cc2F)ccc1O</td>\n",
       "      <td>[C(O)(c1c(O)ccc(c1)-c1c(F)cc(F)cc1)=O, c1(cc(-...</td>\n",
       "      <td>[C(O)(c1c(O)ccc(c1)-c1c(F)cc(F)cc1)=O, c1(cc(-...</td>\n",
       "      <td>-9.044036</td>\n",
       "      <td>0.864539</td>\n",
       "      <td>0.355964</td>\n",
       "    </tr>\n",
       "    <tr>\n",
       "      <th>268</th>\n",
       "      <td>1.23</td>\n",
       "      <td>C1CCCCC1</td>\n",
       "      <td>[C1CCCCC1]</td>\n",
       "      <td>[C1CCCCC1]</td>\n",
       "      <td>0.487129</td>\n",
       "      <td>0.000000</td>\n",
       "      <td>0.742871</td>\n",
       "    </tr>\n",
       "    <tr>\n",
       "      <th>364</th>\n",
       "      <td>-9.28</td>\n",
       "      <td>CS(C)=O</td>\n",
       "      <td>[O=S(C)C, CS(C)=O, CS(=O)C, S(C)(=O)C, S(C)(C)...</td>\n",
       "      <td>[O=S(C)C, CS(C)=O, CS(=O)C, S(C)(=O)C, S(C)(C)...</td>\n",
       "      <td>-5.858472</td>\n",
       "      <td>0.277142</td>\n",
       "      <td>3.421528</td>\n",
       "    </tr>\n",
       "    <tr>\n",
       "      <th>612</th>\n",
       "      <td>-5.73</td>\n",
       "      <td>O=[N+]([O-])OCCO[N+](=O)[O-]</td>\n",
       "      <td>[C(CO[N+](=O)[O-])O[N+]([O-])=O, O=[N+]([O-])O...</td>\n",
       "      <td>[C(CO[N+](=O)[O-])O[N+]([O-])=O, O=[N+]([O-])O...</td>\n",
       "      <td>-5.244985</td>\n",
       "      <td>0.529231</td>\n",
       "      <td>0.485015</td>\n",
       "    </tr>\n",
       "    <tr>\n",
       "      <th>370</th>\n",
       "      <td>0.10</td>\n",
       "      <td>ClC(Cl)=C(Cl)Cl</td>\n",
       "      <td>[C(Cl)(=C(Cl)Cl)Cl, ClC(Cl)=C(Cl)Cl, C(=C(Cl)C...</td>\n",
       "      <td>[C(L)(=C(L)L)L, LC(L)=C(L)L, C(=C(L)L)(L)L, LC...</td>\n",
       "      <td>-0.890657</td>\n",
       "      <td>0.397646</td>\n",
       "      <td>0.990657</td>\n",
       "    </tr>\n",
       "  </tbody>\n",
       "</table>\n",
       "</div>"
      ],
      "text/plain": [
       "     target                canonical_smiles  \\\n",
       "394   -9.40  O=C(O)c1cc(-c2ccc(F)cc2F)ccc1O   \n",
       "268    1.23                        C1CCCCC1   \n",
       "364   -9.28                         CS(C)=O   \n",
       "612   -5.73    O=[N+]([O-])OCCO[N+](=O)[O-]   \n",
       "370    0.10                 ClC(Cl)=C(Cl)Cl   \n",
       "\n",
       "                                      augmented_smiles  \\\n",
       "394  [C(O)(c1c(O)ccc(c1)-c1c(F)cc(F)cc1)=O, c1(cc(-...   \n",
       "268                                         [C1CCCCC1]   \n",
       "364  [O=S(C)C, CS(C)=O, CS(=O)C, S(C)(=O)C, S(C)(C)...   \n",
       "612  [C(CO[N+](=O)[O-])O[N+]([O-])=O, O=[N+]([O-])O...   \n",
       "370  [C(Cl)(=C(Cl)Cl)Cl, ClC(Cl)=C(Cl)Cl, C(=C(Cl)C...   \n",
       "\n",
       "                                            new_smiles  average_prediction  \\\n",
       "394  [C(O)(c1c(O)ccc(c1)-c1c(F)cc(F)cc1)=O, c1(cc(-...           -9.044036   \n",
       "268                                         [C1CCCCC1]            0.487129   \n",
       "364  [O=S(C)C, CS(C)=O, CS(=O)C, S(C)(=O)C, S(C)(C)...           -5.858472   \n",
       "612  [C(CO[N+](=O)[O-])O[N+]([O-])=O, O=[N+]([O-])O...           -5.244985   \n",
       "370  [C(L)(=C(L)L)L, LC(L)=C(L)L, C(=C(L)L)(L)L, LC...           -0.890657   \n",
       "\n",
       "     std_prediction  average_error  \n",
       "394        0.864539       0.355964  \n",
       "268        0.000000       0.742871  \n",
       "364        0.277142       3.421528  \n",
       "612        0.529231       0.485015  \n",
       "370        0.397646       0.990657  "
      ]
     },
     "execution_count": 8,
     "metadata": {},
     "output_type": "execute_result"
    }
   ],
   "source": [
    "maxsmi_data[\"average_error\"] = (maxsmi_data[\"target\"] -\n",
    "                                maxsmi_data[\"average_prediction\"]).abs()\n",
    "maxsmi_data.head()"
   ]
  },
  {
   "cell_type": "markdown",
   "metadata": {},
   "source": [
    "### Confidence in the prediction\n",
    "\n",
    "Now we want to look at how the confidence behaves with respect to the error.\n",
    "\n",
    "We focus on the Maxsmi models which only use augmentation without duplicate. In this case, it was the Maxsmi model trained on the free solv data.\n",
    "\n",
    "_Note_: The Maxsmi model for ESOL, lipophilicity use augmentation with reduced duplication and with duplication, respectively.\n",
    "\n",
    "Why? If we keep duplicates, then the standard deviation for small compounds will be zero, or close to zero, and so the results would be biased."
   ]
  },
  {
   "cell_type": "markdown",
   "metadata": {},
   "source": [
    "We compute the unique number of SMILES per compound:"
   ]
  },
  {
   "cell_type": "code",
   "execution_count": 9,
   "metadata": {},
   "outputs": [
    {
     "data": {
      "text/html": [
       "<div>\n",
       "<style scoped>\n",
       "    .dataframe tbody tr th:only-of-type {\n",
       "        vertical-align: middle;\n",
       "    }\n",
       "\n",
       "    .dataframe tbody tr th {\n",
       "        vertical-align: top;\n",
       "    }\n",
       "\n",
       "    .dataframe thead th {\n",
       "        text-align: right;\n",
       "    }\n",
       "</style>\n",
       "<table border=\"1\" class=\"dataframe\">\n",
       "  <thead>\n",
       "    <tr style=\"text-align: right;\">\n",
       "      <th></th>\n",
       "      <th>target</th>\n",
       "      <th>canonical_smiles</th>\n",
       "      <th>augmented_smiles</th>\n",
       "      <th>new_smiles</th>\n",
       "      <th>average_prediction</th>\n",
       "      <th>std_prediction</th>\n",
       "      <th>average_error</th>\n",
       "      <th>nb_unique_smiles</th>\n",
       "    </tr>\n",
       "  </thead>\n",
       "  <tbody>\n",
       "    <tr>\n",
       "      <th>394</th>\n",
       "      <td>-9.40</td>\n",
       "      <td>O=C(O)c1cc(-c2ccc(F)cc2F)ccc1O</td>\n",
       "      <td>[C(O)(c1c(O)ccc(c1)-c1c(F)cc(F)cc1)=O, c1(cc(-...</td>\n",
       "      <td>[C(O)(c1c(O)ccc(c1)-c1c(F)cc(F)cc1)=O, c1(cc(-...</td>\n",
       "      <td>-9.044036</td>\n",
       "      <td>0.864539</td>\n",
       "      <td>0.355964</td>\n",
       "      <td>70</td>\n",
       "    </tr>\n",
       "    <tr>\n",
       "      <th>268</th>\n",
       "      <td>1.23</td>\n",
       "      <td>C1CCCCC1</td>\n",
       "      <td>[C1CCCCC1]</td>\n",
       "      <td>[C1CCCCC1]</td>\n",
       "      <td>0.487129</td>\n",
       "      <td>0.000000</td>\n",
       "      <td>0.742871</td>\n",
       "      <td>1</td>\n",
       "    </tr>\n",
       "    <tr>\n",
       "      <th>364</th>\n",
       "      <td>-9.28</td>\n",
       "      <td>CS(C)=O</td>\n",
       "      <td>[O=S(C)C, CS(C)=O, CS(=O)C, S(C)(=O)C, S(C)(C)...</td>\n",
       "      <td>[O=S(C)C, CS(C)=O, CS(=O)C, S(C)(=O)C, S(C)(C)...</td>\n",
       "      <td>-5.858472</td>\n",
       "      <td>0.277142</td>\n",
       "      <td>3.421528</td>\n",
       "      <td>6</td>\n",
       "    </tr>\n",
       "    <tr>\n",
       "      <th>612</th>\n",
       "      <td>-5.73</td>\n",
       "      <td>O=[N+]([O-])OCCO[N+](=O)[O-]</td>\n",
       "      <td>[C(CO[N+](=O)[O-])O[N+]([O-])=O, O=[N+]([O-])O...</td>\n",
       "      <td>[C(CO[N+](=O)[O-])O[N+]([O-])=O, O=[N+]([O-])O...</td>\n",
       "      <td>-5.244985</td>\n",
       "      <td>0.529231</td>\n",
       "      <td>0.485015</td>\n",
       "      <td>30</td>\n",
       "    </tr>\n",
       "    <tr>\n",
       "      <th>370</th>\n",
       "      <td>0.10</td>\n",
       "      <td>ClC(Cl)=C(Cl)Cl</td>\n",
       "      <td>[C(Cl)(=C(Cl)Cl)Cl, ClC(Cl)=C(Cl)Cl, C(=C(Cl)C...</td>\n",
       "      <td>[C(L)(=C(L)L)L, LC(L)=C(L)L, C(=C(L)L)(L)L, LC...</td>\n",
       "      <td>-0.890657</td>\n",
       "      <td>0.397646</td>\n",
       "      <td>0.990657</td>\n",
       "      <td>5</td>\n",
       "    </tr>\n",
       "  </tbody>\n",
       "</table>\n",
       "</div>"
      ],
      "text/plain": [
       "     target                canonical_smiles  \\\n",
       "394   -9.40  O=C(O)c1cc(-c2ccc(F)cc2F)ccc1O   \n",
       "268    1.23                        C1CCCCC1   \n",
       "364   -9.28                         CS(C)=O   \n",
       "612   -5.73    O=[N+]([O-])OCCO[N+](=O)[O-]   \n",
       "370    0.10                 ClC(Cl)=C(Cl)Cl   \n",
       "\n",
       "                                      augmented_smiles  \\\n",
       "394  [C(O)(c1c(O)ccc(c1)-c1c(F)cc(F)cc1)=O, c1(cc(-...   \n",
       "268                                         [C1CCCCC1]   \n",
       "364  [O=S(C)C, CS(C)=O, CS(=O)C, S(C)(=O)C, S(C)(C)...   \n",
       "612  [C(CO[N+](=O)[O-])O[N+]([O-])=O, O=[N+]([O-])O...   \n",
       "370  [C(Cl)(=C(Cl)Cl)Cl, ClC(Cl)=C(Cl)Cl, C(=C(Cl)C...   \n",
       "\n",
       "                                            new_smiles  average_prediction  \\\n",
       "394  [C(O)(c1c(O)ccc(c1)-c1c(F)cc(F)cc1)=O, c1(cc(-...           -9.044036   \n",
       "268                                         [C1CCCCC1]            0.487129   \n",
       "364  [O=S(C)C, CS(C)=O, CS(=O)C, S(C)(=O)C, S(C)(C)...           -5.858472   \n",
       "612  [C(CO[N+](=O)[O-])O[N+]([O-])=O, O=[N+]([O-])O...           -5.244985   \n",
       "370  [C(L)(=C(L)L)L, LC(L)=C(L)L, C(=C(L)L)(L)L, LC...           -0.890657   \n",
       "\n",
       "     std_prediction  average_error  nb_unique_smiles  \n",
       "394        0.864539       0.355964                70  \n",
       "268        0.000000       0.742871                 1  \n",
       "364        0.277142       3.421528                 6  \n",
       "612        0.529231       0.485015                30  \n",
       "370        0.397646       0.990657                 5  "
      ]
     },
     "execution_count": 9,
     "metadata": {},
     "output_type": "execute_result"
    }
   ],
   "source": [
    "maxsmi_data[\"nb_unique_smiles\"] = maxsmi_data[\"augmented_smiles\"].apply(lambda x:\n",
    "                                                                        len(set(x)))\n",
    "maxsmi_data.head()"
   ]
  },
  {
   "cell_type": "markdown",
   "metadata": {},
   "source": [
    "We keep the entries which have a least a mimimum number of unique SMILES: if there is only one, the standard deviation will be zero, and so biased results."
   ]
  },
  {
   "cell_type": "code",
   "execution_count": 10,
   "metadata": {},
   "outputs": [],
   "source": [
    "maxsmi_data = maxsmi_data[maxsmi_data[\"nb_unique_smiles\"] > 6]"
   ]
  },
  {
   "cell_type": "code",
   "execution_count": 11,
   "metadata": {},
   "outputs": [],
   "source": [
    "def scatter_std_dev_vs_error(dataframe, task, save_fig=True):\n",
    "    \"\"\"\n",
    "    Scatter plot of the standard deviation\n",
    "    in the per SMILES prediction vs.\n",
    "    the prediction error.\n",
    "\n",
    "    Parameters\n",
    "    ----------\n",
    "    dataframe : pd.DataFrame\n",
    "        The dataframe of the results.\n",
    "    task : str\n",
    "        The task to consider\n",
    "    save_fig : bool\n",
    "        Whether to save the figure.\n",
    "\n",
    "    Returns\n",
    "    -------\n",
    "    None\n",
    "    \"\"\"\n",
    "\n",
    "    fig, (ax1, ax2) = plt.subplots(1, 2, figsize=(12, 4))\n",
    "    # fig.tight_layout() # Or equivalently,  \"plt.tight_layout()\"\n",
    "    fig.subplots_adjust(wspace=0.3)\n",
    "    fig.suptitle(f\"Maxsmi model on the {task} data\")\n",
    "\n",
    "    ax1.scatter(dataframe[\"std_prediction\"], dataframe[\"average_error\"])\n",
    "    ax1.set_xlabel(\"Standard deviation in the prediction\")\n",
    "    ax1.set_ylabel(\"Prediction error\")\n",
    "\n",
    "    increment = 0.2\n",
    "    intervals = numpy.arange(0, 1.4, increment)\n",
    "    averged_error_per_bin = []\n",
    "\n",
    "    for element in intervals:\n",
    "        maxsmi_data_per_bin = maxsmi_data[\n",
    "            (maxsmi_data[\"std_prediction\"] > element) &\n",
    "            (maxsmi_data[\"std_prediction\"] < element + increment)]\n",
    "        average = maxsmi_data_per_bin[\"average_error\"].mean()\n",
    "        averged_error_per_bin.append(average)\n",
    "\n",
    "    ax2.scatter(x=intervals+0.1, y=averged_error_per_bin)\n",
    "    for element in intervals:\n",
    "        ax2.vlines(element, ymin=0, ymax=2.2,\n",
    "                   linestyles=\"dashed\",\n",
    "                   colors=\"grey\",\n",
    "                   linewidth=0.9)\n",
    "    ax2.set_xlabel(\"Standard prediction per bin\")\n",
    "    ax2.set_ylabel(\"Mean prediction error\")\n",
    "\n",
    "    if save_fig:\n",
    "        plt.savefig(f\"figures/{task}_scatter_std_dev_vs_error.svg\",\n",
    "                    dpi=1200,\n",
    "                    facecolor='w',\n",
    "                    edgecolor='w',\n",
    "                    orientation='portrait',\n",
    "                    format=\"svg\",\n",
    "                    transparent=False,\n",
    "                    bbox_inches=None,\n",
    "                    pad_inches=0.1,)\n",
    "    plt.show()"
   ]
  },
  {
   "cell_type": "code",
   "execution_count": 12,
   "metadata": {},
   "outputs": [
    {
     "data": {
      "image/png": "[encoded data removed]",
      "text/plain": [
       "<Figure size 864x288 with 2 Axes>"
      ]
     },
     "metadata": {
      "needs_background": "light"
     },
     "output_type": "display_data"
    }
   ],
   "source": [
    "scatter_std_dev_vs_error(maxsmi_data, TASK)"
   ]
  }
 ],
 "metadata": {
  "kernelspec": {
   "display_name": "Python 3",
   "language": "python",
   "name": "python3"
  },
  "language_info": {
   "codemirror_mode": {
    "name": "ipython",
    "version": 3
   },
   "file_extension": ".py",
   "mimetype": "text/x-python",
   "name": "python",
   "nbconvert_exporter": "python",
   "pygments_lexer": "ipython3",
   "version": "3.8.6"
  }
 },
 "nbformat": 4,
 "nbformat_minor": 4
}
