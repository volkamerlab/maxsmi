{
 "cells": [
  {
   "cell_type": "markdown",
   "metadata": {},
   "source": [
    "# maxsmi\n",
    "## Analysis of results\n",
    "\n",
    "This notebook serves to analyse the results of the simulations ran on the Curta cluster from the Freie Universität Berlin.\n",
    "\n",
    "_Note_:\n",
    "- The notebook will run using the results stored in the `output` folder. They were generated using the following:\n",
    "```\n",
    "(maxsmi) $ python maxsmi/full_workflow.py --task ESOL --string-encoding smiles --aug-strategy-train augmentation_with_reduced_duplication --aug-strategy-test augmentation_with_reduced_duplication --aug-nb-train 70 --aug-nb-test 70 --ml-model CONV1D --eval-strategy True\n",
    "```\n",
    "- a `figures` folder will be created in which the images are saved.\n",
    "\n",
    "📝 Have a look at the [README](https://github.com/volkamerlab/maxsmi/blob/main/README.md) page for more details."
   ]
  },
  {
   "cell_type": "markdown",
   "metadata": {},
   "source": [
    "## Ensemble learning results\n",
    "Here we load the data which contains relevant information if there was augmentation on the test set, such as\n",
    "- the absolute error between the true value and the average value\n",
    "- confidence of the prediction: is the standard deviation low or high?\n",
    "\n",
    "This data represents _only_ the test set (20%) and not the full data (100%)."
   ]
  },
  {
   "cell_type": "markdown",
   "metadata": {},
   "source": [
    "### Goal\n",
    "The aim of this notebook is to look at the best models, called the maxsmi models, and see how ensemble learning behaves."
   ]
  },
  {
   "cell_type": "code",
   "execution_count": 1,
   "metadata": {},
   "outputs": [],
   "source": [
    "import os\n",
    "import pandas as pd\n",
    "import numpy\n",
    "from pathlib import Path\n",
    "import matplotlib.pyplot as plt\n",
    "\n",
    "from maxsmi.utils_analysis import load_results\n",
    "from maxsmi.utils_smiles import get_num_heavy_atoms\n",
    "from maxsmi.utils_optimal_model import retrieve_optimal_model"
   ]
  },
  {
   "cell_type": "code",
   "execution_count": 2,
   "metadata": {},
   "outputs": [],
   "source": [
    "# Path to this notebook\n",
    "HERE = Path(_dh[-1])"
   ]
  },
  {
   "cell_type": "code",
   "execution_count": 3,
   "metadata": {},
   "outputs": [],
   "source": [
    "# Make a folder for output figures\n",
    "os.makedirs(f\"{HERE}/figures\", exist_ok=True)"
   ]
  },
  {
   "cell_type": "code",
   "execution_count": 4,
   "metadata": {},
   "outputs": [],
   "source": [
    "path_to_output = HERE.parents[0]"
   ]
  },
  {
   "cell_type": "markdown",
   "metadata": {},
   "source": [
    "## Dataset\n",
    "We consider the following datasets:\n",
    "\n",
    "- ESOL\n",
    "- lipophilicity\n",
    "- FreeSolv\n",
    "\n",
    "Comment/uncomment the dataset of choice in the cell below."
   ]
  },
  {
   "cell_type": "code",
   "execution_count": 5,
   "metadata": {},
   "outputs": [],
   "source": [
    "TASK = \"lipophilicity\"\n",
    "TASK = \"ESOL\"\n",
    "TASK = \"FreeSolv\""
   ]
  },
  {
   "cell_type": "markdown",
   "metadata": {},
   "source": [
    "## Maxsmi models\n",
    "We retrieve the maxsmi models."
   ]
  },
  {
   "cell_type": "code",
   "execution_count": 6,
   "metadata": {},
   "outputs": [
    {
     "name": "stdout",
     "output_type": "stream",
     "text": [
      "For the FreeSolv data:\n",
      "the maxsmi deep learning model is: CONV1D\n",
      "using an augmentation number of 70 and\n",
      "augmentation strategy: augmentation_with_duplication\n"
     ]
    }
   ],
   "source": [
    "maxsmi_model = retrieve_optimal_model(TASK)\n",
    "print(f\"For the {TASK} data:\\n\"\n",
    "      f\"the maxsmi deep learning model is: {maxsmi_model[0]}\\n\"\n",
    "      f\"using an augmentation number of {maxsmi_model[2]} and\\n\"\n",
    "      f\"augmentation strategy: {maxsmi_model[1].__name__}\")"
   ]
  },
  {
   "cell_type": "markdown",
   "metadata": {},
   "source": [
    "## Load data for the maxsmi model on a specific task"
   ]
  },
  {
   "cell_type": "code",
   "execution_count": 7,
   "metadata": {},
   "outputs": [
    {
     "data": {
      "text/html": [
       "<div>\n",
       "<style scoped>\n",
       "    .dataframe tbody tr th:only-of-type {\n",
       "        vertical-align: middle;\n",
       "    }\n",
       "\n",
       "    .dataframe tbody tr th {\n",
       "        vertical-align: top;\n",
       "    }\n",
       "\n",
       "    .dataframe thead th {\n",
       "        text-align: right;\n",
       "    }\n",
       "</style>\n",
       "<table border=\"1\" class=\"dataframe\">\n",
       "  <thead>\n",
       "    <tr style=\"text-align: right;\">\n",
       "      <th></th>\n",
       "      <th>target</th>\n",
       "      <th>canonical_smiles</th>\n",
       "      <th>augmented_smiles</th>\n",
       "      <th>new_smiles</th>\n",
       "      <th>average_prediction</th>\n",
       "      <th>std_prediction</th>\n",
       "    </tr>\n",
       "  </thead>\n",
       "  <tbody>\n",
       "    <tr>\n",
       "      <th>394</th>\n",
       "      <td>-9.40</td>\n",
       "      <td>O=C(O)c1cc(-c2ccc(F)cc2F)ccc1O</td>\n",
       "      <td>[C(O)(c1c(O)ccc(c1)-c1c(F)cc(F)cc1)=O, c1(cc(-...</td>\n",
       "      <td>[C(O)(c1c(O)ccc(c1)-c1c(F)cc(F)cc1)=O, c1(cc(-...</td>\n",
       "      <td>-9.790817</td>\n",
       "      <td>1.189938</td>\n",
       "    </tr>\n",
       "    <tr>\n",
       "      <th>268</th>\n",
       "      <td>1.23</td>\n",
       "      <td>C1CCCCC1</td>\n",
       "      <td>[C1CCCCC1, C1CCCCC1, C1CCCCC1, C1CCCCC1, C1CCC...</td>\n",
       "      <td>[C1CCCCC1, C1CCCCC1, C1CCCCC1, C1CCCCC1, C1CCC...</td>\n",
       "      <td>0.798988</td>\n",
       "      <td>0.000000</td>\n",
       "    </tr>\n",
       "    <tr>\n",
       "      <th>364</th>\n",
       "      <td>-9.28</td>\n",
       "      <td>CS(C)=O</td>\n",
       "      <td>[O=S(C)C, O=S(C)C, O=S(C)C, O=S(C)C, O=S(C)C, ...</td>\n",
       "      <td>[O=S(C)C, O=S(C)C, O=S(C)C, O=S(C)C, O=S(C)C, ...</td>\n",
       "      <td>-6.220648</td>\n",
       "      <td>0.711818</td>\n",
       "    </tr>\n",
       "    <tr>\n",
       "      <th>612</th>\n",
       "      <td>-5.73</td>\n",
       "      <td>O=[N+]([O-])OCCO[N+](=O)[O-]</td>\n",
       "      <td>[C(CO[N+](=O)[O-])O[N+]([O-])=O, C(CO[N+](=O)[...</td>\n",
       "      <td>[C(CO[N+](=O)[O-])O[N+]([O-])=O, C(CO[N+](=O)[...</td>\n",
       "      <td>-5.587126</td>\n",
       "      <td>1.054408</td>\n",
       "    </tr>\n",
       "    <tr>\n",
       "      <th>370</th>\n",
       "      <td>0.10</td>\n",
       "      <td>ClC(Cl)=C(Cl)Cl</td>\n",
       "      <td>[C(Cl)(=C(Cl)Cl)Cl, C(Cl)(=C(Cl)Cl)Cl, C(Cl)(=...</td>\n",
       "      <td>[C(L)(=C(L)L)L, C(L)(=C(L)L)L, C(L)(=C(L)L)L, ...</td>\n",
       "      <td>-0.358095</td>\n",
       "      <td>0.652106</td>\n",
       "    </tr>\n",
       "  </tbody>\n",
       "</table>\n",
       "</div>"
      ],
      "text/plain": [
       "     target                canonical_smiles  \\\n",
       "394   -9.40  O=C(O)c1cc(-c2ccc(F)cc2F)ccc1O   \n",
       "268    1.23                        C1CCCCC1   \n",
       "364   -9.28                         CS(C)=O   \n",
       "612   -5.73    O=[N+]([O-])OCCO[N+](=O)[O-]   \n",
       "370    0.10                 ClC(Cl)=C(Cl)Cl   \n",
       "\n",
       "                                      augmented_smiles  \\\n",
       "394  [C(O)(c1c(O)ccc(c1)-c1c(F)cc(F)cc1)=O, c1(cc(-...   \n",
       "268  [C1CCCCC1, C1CCCCC1, C1CCCCC1, C1CCCCC1, C1CCC...   \n",
       "364  [O=S(C)C, O=S(C)C, O=S(C)C, O=S(C)C, O=S(C)C, ...   \n",
       "612  [C(CO[N+](=O)[O-])O[N+]([O-])=O, C(CO[N+](=O)[...   \n",
       "370  [C(Cl)(=C(Cl)Cl)Cl, C(Cl)(=C(Cl)Cl)Cl, C(Cl)(=...   \n",
       "\n",
       "                                            new_smiles  average_prediction  \\\n",
       "394  [C(O)(c1c(O)ccc(c1)-c1c(F)cc(F)cc1)=O, c1(cc(-...           -9.790817   \n",
       "268  [C1CCCCC1, C1CCCCC1, C1CCCCC1, C1CCCCC1, C1CCC...            0.798988   \n",
       "364  [O=S(C)C, O=S(C)C, O=S(C)C, O=S(C)C, O=S(C)C, ...           -6.220648   \n",
       "612  [C(CO[N+](=O)[O-])O[N+]([O-])=O, C(CO[N+](=O)[...           -5.587126   \n",
       "370  [C(L)(=C(L)L)L, C(L)(=C(L)L)L, C(L)(=C(L)L)L, ...           -0.358095   \n",
       "\n",
       "     std_prediction  \n",
       "394        1.189938  \n",
       "268        0.000000  \n",
       "364        0.711818  \n",
       "612        1.054408  \n",
       "370        0.652106  "
      ]
     },
     "execution_count": 7,
     "metadata": {},
     "output_type": "execute_result"
    }
   ],
   "source": [
    "maxsmi_data = load_results(path_to_output,\n",
    "                           TASK,\n",
    "                           maxsmi_model[1].__name__,\n",
    "                           maxsmi_model[2],\n",
    "                           maxsmi_model[1].__name__,\n",
    "                           maxsmi_model[2],\n",
    "                           maxsmi_model[0],\n",
    "                           ensemble_learning=True)\n",
    "maxsmi_data.head()"
   ]
  },
  {
   "cell_type": "markdown",
   "metadata": {},
   "source": [
    "### Prediction error\n",
    "\n",
    "We now compute the prediction error: the difference between the true value and the average prediction."
   ]
  },
  {
   "cell_type": "code",
   "execution_count": 8,
   "metadata": {},
   "outputs": [
    {
     "data": {
      "text/html": [
       "<div>\n",
       "<style scoped>\n",
       "    .dataframe tbody tr th:only-of-type {\n",
       "        vertical-align: middle;\n",
       "    }\n",
       "\n",
       "    .dataframe tbody tr th {\n",
       "        vertical-align: top;\n",
       "    }\n",
       "\n",
       "    .dataframe thead th {\n",
       "        text-align: right;\n",
       "    }\n",
       "</style>\n",
       "<table border=\"1\" class=\"dataframe\">\n",
       "  <thead>\n",
       "    <tr style=\"text-align: right;\">\n",
       "      <th></th>\n",
       "      <th>target</th>\n",
       "      <th>canonical_smiles</th>\n",
       "      <th>augmented_smiles</th>\n",
       "      <th>new_smiles</th>\n",
       "      <th>average_prediction</th>\n",
       "      <th>std_prediction</th>\n",
       "      <th>average_error</th>\n",
       "    </tr>\n",
       "  </thead>\n",
       "  <tbody>\n",
       "    <tr>\n",
       "      <th>394</th>\n",
       "      <td>-9.40</td>\n",
       "      <td>O=C(O)c1cc(-c2ccc(F)cc2F)ccc1O</td>\n",
       "      <td>[C(O)(c1c(O)ccc(c1)-c1c(F)cc(F)cc1)=O, c1(cc(-...</td>\n",
       "      <td>[C(O)(c1c(O)ccc(c1)-c1c(F)cc(F)cc1)=O, c1(cc(-...</td>\n",
       "      <td>-9.790817</td>\n",
       "      <td>1.189938</td>\n",
       "      <td>0.390817</td>\n",
       "    </tr>\n",
       "    <tr>\n",
       "      <th>268</th>\n",
       "      <td>1.23</td>\n",
       "      <td>C1CCCCC1</td>\n",
       "      <td>[C1CCCCC1, C1CCCCC1, C1CCCCC1, C1CCCCC1, C1CCC...</td>\n",
       "      <td>[C1CCCCC1, C1CCCCC1, C1CCCCC1, C1CCCCC1, C1CCC...</td>\n",
       "      <td>0.798988</td>\n",
       "      <td>0.000000</td>\n",
       "      <td>0.431012</td>\n",
       "    </tr>\n",
       "    <tr>\n",
       "      <th>364</th>\n",
       "      <td>-9.28</td>\n",
       "      <td>CS(C)=O</td>\n",
       "      <td>[O=S(C)C, O=S(C)C, O=S(C)C, O=S(C)C, O=S(C)C, ...</td>\n",
       "      <td>[O=S(C)C, O=S(C)C, O=S(C)C, O=S(C)C, O=S(C)C, ...</td>\n",
       "      <td>-6.220648</td>\n",
       "      <td>0.711818</td>\n",
       "      <td>3.059352</td>\n",
       "    </tr>\n",
       "    <tr>\n",
       "      <th>612</th>\n",
       "      <td>-5.73</td>\n",
       "      <td>O=[N+]([O-])OCCO[N+](=O)[O-]</td>\n",
       "      <td>[C(CO[N+](=O)[O-])O[N+]([O-])=O, C(CO[N+](=O)[...</td>\n",
       "      <td>[C(CO[N+](=O)[O-])O[N+]([O-])=O, C(CO[N+](=O)[...</td>\n",
       "      <td>-5.587126</td>\n",
       "      <td>1.054408</td>\n",
       "      <td>0.142874</td>\n",
       "    </tr>\n",
       "    <tr>\n",
       "      <th>370</th>\n",
       "      <td>0.10</td>\n",
       "      <td>ClC(Cl)=C(Cl)Cl</td>\n",
       "      <td>[C(Cl)(=C(Cl)Cl)Cl, C(Cl)(=C(Cl)Cl)Cl, C(Cl)(=...</td>\n",
       "      <td>[C(L)(=C(L)L)L, C(L)(=C(L)L)L, C(L)(=C(L)L)L, ...</td>\n",
       "      <td>-0.358095</td>\n",
       "      <td>0.652106</td>\n",
       "      <td>0.458095</td>\n",
       "    </tr>\n",
       "  </tbody>\n",
       "</table>\n",
       "</div>"
      ],
      "text/plain": [
       "     target                canonical_smiles  \\\n",
       "394   -9.40  O=C(O)c1cc(-c2ccc(F)cc2F)ccc1O   \n",
       "268    1.23                        C1CCCCC1   \n",
       "364   -9.28                         CS(C)=O   \n",
       "612   -5.73    O=[N+]([O-])OCCO[N+](=O)[O-]   \n",
       "370    0.10                 ClC(Cl)=C(Cl)Cl   \n",
       "\n",
       "                                      augmented_smiles  \\\n",
       "394  [C(O)(c1c(O)ccc(c1)-c1c(F)cc(F)cc1)=O, c1(cc(-...   \n",
       "268  [C1CCCCC1, C1CCCCC1, C1CCCCC1, C1CCCCC1, C1CCC...   \n",
       "364  [O=S(C)C, O=S(C)C, O=S(C)C, O=S(C)C, O=S(C)C, ...   \n",
       "612  [C(CO[N+](=O)[O-])O[N+]([O-])=O, C(CO[N+](=O)[...   \n",
       "370  [C(Cl)(=C(Cl)Cl)Cl, C(Cl)(=C(Cl)Cl)Cl, C(Cl)(=...   \n",
       "\n",
       "                                            new_smiles  average_prediction  \\\n",
       "394  [C(O)(c1c(O)ccc(c1)-c1c(F)cc(F)cc1)=O, c1(cc(-...           -9.790817   \n",
       "268  [C1CCCCC1, C1CCCCC1, C1CCCCC1, C1CCCCC1, C1CCC...            0.798988   \n",
       "364  [O=S(C)C, O=S(C)C, O=S(C)C, O=S(C)C, O=S(C)C, ...           -6.220648   \n",
       "612  [C(CO[N+](=O)[O-])O[N+]([O-])=O, C(CO[N+](=O)[...           -5.587126   \n",
       "370  [C(L)(=C(L)L)L, C(L)(=C(L)L)L, C(L)(=C(L)L)L, ...           -0.358095   \n",
       "\n",
       "     std_prediction  average_error  \n",
       "394        1.189938       0.390817  \n",
       "268        0.000000       0.431012  \n",
       "364        0.711818       3.059352  \n",
       "612        1.054408       0.142874  \n",
       "370        0.652106       0.458095  "
      ]
     },
     "execution_count": 8,
     "metadata": {},
     "output_type": "execute_result"
    }
   ],
   "source": [
    "maxsmi_data[\"average_error\"] = (maxsmi_data[\"target\"] -\n",
    "                                maxsmi_data[\"average_prediction\"]).abs()\n",
    "maxsmi_data.head()"
   ]
  },
  {
   "cell_type": "markdown",
   "metadata": {},
   "source": [
    "### Confidence in the prediction\n",
    "\n",
    "Now we want to look at how the confidence behaves with respect to the error."
   ]
  },
  {
   "cell_type": "markdown",
   "metadata": {},
   "source": [
    "We compute the number of SMILES per compound:"
   ]
  },
  {
   "cell_type": "code",
   "execution_count": 9,
   "metadata": {},
   "outputs": [
    {
     "data": {
      "text/html": [
       "<div>\n",
       "<style scoped>\n",
       "    .dataframe tbody tr th:only-of-type {\n",
       "        vertical-align: middle;\n",
       "    }\n",
       "\n",
       "    .dataframe tbody tr th {\n",
       "        vertical-align: top;\n",
       "    }\n",
       "\n",
       "    .dataframe thead th {\n",
       "        text-align: right;\n",
       "    }\n",
       "</style>\n",
       "<table border=\"1\" class=\"dataframe\">\n",
       "  <thead>\n",
       "    <tr style=\"text-align: right;\">\n",
       "      <th></th>\n",
       "      <th>target</th>\n",
       "      <th>canonical_smiles</th>\n",
       "      <th>augmented_smiles</th>\n",
       "      <th>new_smiles</th>\n",
       "      <th>average_prediction</th>\n",
       "      <th>std_prediction</th>\n",
       "      <th>average_error</th>\n",
       "      <th>nb_smiles</th>\n",
       "    </tr>\n",
       "  </thead>\n",
       "  <tbody>\n",
       "    <tr>\n",
       "      <th>394</th>\n",
       "      <td>-9.40</td>\n",
       "      <td>O=C(O)c1cc(-c2ccc(F)cc2F)ccc1O</td>\n",
       "      <td>[C(O)(c1c(O)ccc(c1)-c1c(F)cc(F)cc1)=O, c1(cc(-...</td>\n",
       "      <td>[C(O)(c1c(O)ccc(c1)-c1c(F)cc(F)cc1)=O, c1(cc(-...</td>\n",
       "      <td>-9.790817</td>\n",
       "      <td>1.189938</td>\n",
       "      <td>0.390817</td>\n",
       "      <td>70</td>\n",
       "    </tr>\n",
       "    <tr>\n",
       "      <th>268</th>\n",
       "      <td>1.23</td>\n",
       "      <td>C1CCCCC1</td>\n",
       "      <td>[C1CCCCC1, C1CCCCC1, C1CCCCC1, C1CCCCC1, C1CCC...</td>\n",
       "      <td>[C1CCCCC1, C1CCCCC1, C1CCCCC1, C1CCCCC1, C1CCC...</td>\n",
       "      <td>0.798988</td>\n",
       "      <td>0.000000</td>\n",
       "      <td>0.431012</td>\n",
       "      <td>1</td>\n",
       "    </tr>\n",
       "    <tr>\n",
       "      <th>364</th>\n",
       "      <td>-9.28</td>\n",
       "      <td>CS(C)=O</td>\n",
       "      <td>[O=S(C)C, O=S(C)C, O=S(C)C, O=S(C)C, O=S(C)C, ...</td>\n",
       "      <td>[O=S(C)C, O=S(C)C, O=S(C)C, O=S(C)C, O=S(C)C, ...</td>\n",
       "      <td>-6.220648</td>\n",
       "      <td>0.711818</td>\n",
       "      <td>3.059352</td>\n",
       "      <td>6</td>\n",
       "    </tr>\n",
       "    <tr>\n",
       "      <th>612</th>\n",
       "      <td>-5.73</td>\n",
       "      <td>O=[N+]([O-])OCCO[N+](=O)[O-]</td>\n",
       "      <td>[C(CO[N+](=O)[O-])O[N+]([O-])=O, C(CO[N+](=O)[...</td>\n",
       "      <td>[C(CO[N+](=O)[O-])O[N+]([O-])=O, C(CO[N+](=O)[...</td>\n",
       "      <td>-5.587126</td>\n",
       "      <td>1.054408</td>\n",
       "      <td>0.142874</td>\n",
       "      <td>30</td>\n",
       "    </tr>\n",
       "    <tr>\n",
       "      <th>370</th>\n",
       "      <td>0.10</td>\n",
       "      <td>ClC(Cl)=C(Cl)Cl</td>\n",
       "      <td>[C(Cl)(=C(Cl)Cl)Cl, C(Cl)(=C(Cl)Cl)Cl, C(Cl)(=...</td>\n",
       "      <td>[C(L)(=C(L)L)L, C(L)(=C(L)L)L, C(L)(=C(L)L)L, ...</td>\n",
       "      <td>-0.358095</td>\n",
       "      <td>0.652106</td>\n",
       "      <td>0.458095</td>\n",
       "      <td>5</td>\n",
       "    </tr>\n",
       "  </tbody>\n",
       "</table>\n",
       "</div>"
      ],
      "text/plain": [
       "     target                canonical_smiles  \\\n",
       "394   -9.40  O=C(O)c1cc(-c2ccc(F)cc2F)ccc1O   \n",
       "268    1.23                        C1CCCCC1   \n",
       "364   -9.28                         CS(C)=O   \n",
       "612   -5.73    O=[N+]([O-])OCCO[N+](=O)[O-]   \n",
       "370    0.10                 ClC(Cl)=C(Cl)Cl   \n",
       "\n",
       "                                      augmented_smiles  \\\n",
       "394  [C(O)(c1c(O)ccc(c1)-c1c(F)cc(F)cc1)=O, c1(cc(-...   \n",
       "268  [C1CCCCC1, C1CCCCC1, C1CCCCC1, C1CCCCC1, C1CCC...   \n",
       "364  [O=S(C)C, O=S(C)C, O=S(C)C, O=S(C)C, O=S(C)C, ...   \n",
       "612  [C(CO[N+](=O)[O-])O[N+]([O-])=O, C(CO[N+](=O)[...   \n",
       "370  [C(Cl)(=C(Cl)Cl)Cl, C(Cl)(=C(Cl)Cl)Cl, C(Cl)(=...   \n",
       "\n",
       "                                            new_smiles  average_prediction  \\\n",
       "394  [C(O)(c1c(O)ccc(c1)-c1c(F)cc(F)cc1)=O, c1(cc(-...           -9.790817   \n",
       "268  [C1CCCCC1, C1CCCCC1, C1CCCCC1, C1CCCCC1, C1CCC...            0.798988   \n",
       "364  [O=S(C)C, O=S(C)C, O=S(C)C, O=S(C)C, O=S(C)C, ...           -6.220648   \n",
       "612  [C(CO[N+](=O)[O-])O[N+]([O-])=O, C(CO[N+](=O)[...           -5.587126   \n",
       "370  [C(L)(=C(L)L)L, C(L)(=C(L)L)L, C(L)(=C(L)L)L, ...           -0.358095   \n",
       "\n",
       "     std_prediction  average_error  nb_smiles  \n",
       "394        1.189938       0.390817         70  \n",
       "268        0.000000       0.431012          1  \n",
       "364        0.711818       3.059352          6  \n",
       "612        1.054408       0.142874         30  \n",
       "370        0.652106       0.458095          5  "
      ]
     },
     "execution_count": 9,
     "metadata": {},
     "output_type": "execute_result"
    }
   ],
   "source": [
    "maxsmi_data[\"nb_smiles\"] = maxsmi_data[\"augmented_smiles\"].apply(lambda x:\n",
    "                                                                 len(set(x)))\n",
    "maxsmi_data.head()"
   ]
  },
  {
   "cell_type": "markdown",
   "metadata": {},
   "source": [
    "We keep the entries which have a least a mimimum number of unique SMILES: if there is only one, the standard deviation will be zero, and so biased results."
   ]
  },
  {
   "cell_type": "code",
   "execution_count": 10,
   "metadata": {},
   "outputs": [],
   "source": [
    "maxsmi_data = maxsmi_data[maxsmi_data[\"nb_smiles\"] > 6]"
   ]
  },
  {
   "cell_type": "code",
   "execution_count": 11,
   "metadata": {},
   "outputs": [],
   "source": [
    "def scatter_std_dev_vs_error(dataframe, task, save_fig=True):\n",
    "    \"\"\"\n",
    "    Scatter plot of the standard deviation\n",
    "    in the per SMILES prediction vs.\n",
    "    the prediction error.\n",
    "\n",
    "    Parameters\n",
    "    ----------\n",
    "    dataframe : pd.DataFrame\n",
    "        The dataframe of the results.\n",
    "    task : str\n",
    "        The task to consider\n",
    "    save_fig : bool\n",
    "        Whether to save the figure.\n",
    "\n",
    "    Returns\n",
    "    -------\n",
    "    None\n",
    "    \"\"\"\n",
    "\n",
    "    fig, (ax1, ax2) = plt.subplots(1, 2, figsize=(12, 4))\n",
    "    # fig.tight_layout() # Or equivalently,  \"plt.tight_layout()\"\n",
    "    fig.subplots_adjust(wspace=0.3)\n",
    "    fig.suptitle(f\"Maxsmi model on the {task} data\")\n",
    "\n",
    "    ax1.scatter(dataframe[\"std_prediction\"], dataframe[\"average_error\"])\n",
    "    ax1.set_xlabel(\"Standard deviation in the prediction\")\n",
    "    ax1.set_ylabel(\"Prediction error\")\n",
    "\n",
    "    increment = 0.2\n",
    "    intervals = numpy.arange(0, 1.4, increment)\n",
    "    averged_error_per_bin = []\n",
    "\n",
    "    for element in intervals:\n",
    "        maxsmi_data_per_bin = maxsmi_data[\n",
    "            (maxsmi_data[\"std_prediction\"] > element) &\n",
    "            (maxsmi_data[\"std_prediction\"] < element + increment)]\n",
    "        average = maxsmi_data_per_bin[\"average_error\"].mean()\n",
    "        averged_error_per_bin.append(average)\n",
    "\n",
    "    ax2.scatter(x=intervals+0.1, y=averged_error_per_bin)\n",
    "    for element in intervals:\n",
    "        ax2.vlines(element, ymin=0, ymax=2.2,\n",
    "                   linestyles=\"dashed\",\n",
    "                   colors=\"grey\",\n",
    "                   linewidth=0.9)\n",
    "    ax2.set_xlabel(\"Standard deviation in the prediction\")\n",
    "    ax2.set_ylabel(\"Mean prediction error per bin\")\n",
    "\n",
    "    if save_fig:\n",
    "        plt.savefig(f\"figures/{task}_scatter_std_dev_vs_error.svg\",\n",
    "                    dpi=1200,\n",
    "                    facecolor='w',\n",
    "                    edgecolor='w',\n",
    "                    orientation='portrait',\n",
    "                    format=\"svg\",\n",
    "                    transparent=False,\n",
    "                    bbox_inches=None,\n",
    "                    pad_inches=0.1,)\n",
    "    plt.show()"
   ]
  },
  {
   "cell_type": "code",
   "execution_count": 12,
   "metadata": {},
   "outputs": [
    {
     "data": {
      "image/png": "[encoded data removed]",
      "text/plain": [
       "<Figure size 864x288 with 2 Axes>"
      ]
     },
     "metadata": {
      "needs_background": "light"
     },
     "output_type": "display_data"
    }
   ],
   "source": [
    "scatter_std_dev_vs_error(maxsmi_data, TASK, False)"
   ]
  },
  {
   "cell_type": "code",
   "execution_count": 13,
   "metadata": {},
   "outputs": [],
   "source": [
    "def confidence_curve(dataframe, task, save_fig=True):\n",
    "    \"\"\"\n",
    "    Plots the confidence curve.\n",
    "\n",
    "    Parameters\n",
    "    ----------\n",
    "    dataframe : pd.DataFrame\n",
    "        The dataframe of the results.\n",
    "    task : str\n",
    "        The task to consider\n",
    "    save_fig : bool\n",
    "        Whether to save the figure.\n",
    "\n",
    "    Returns\n",
    "    -------\n",
    "    None\n",
    "    \"\"\"\n",
    "\n",
    "    std_error_zip = list(zip(dataframe['std_prediction'].values,\n",
    "                             dataframe['average_error'].values))\n",
    "    # Sort the standard deviation values in increasing order\n",
    "    std_error_zip.sort(key=lambda x: x[0])\n",
    "    avg_err = []\n",
    "\n",
    "    while std_error_zip:\n",
    "        # Computer the mean on the observations\n",
    "        avg_err.append(numpy.mean([err[1] for err in std_error_zip]))\n",
    "        # Remove the observation with the highest standard deviation\n",
    "        std_error_zip = std_error_zip[: -1]\n",
    "\n",
    "    # avg_err.append(0)\n",
    "    fig, ax = plt.subplots()\n",
    "    x_axis = [100 - i/len(avg_err)*100 for i in range(len(avg_err), 0, -1)]\n",
    "    plt.plot(x_axis, avg_err)\n",
    "\n",
    "    x_ax = [i for i in range(0, 110, 10)]\n",
    "    ax.set_xticks(x_ax)\n",
    "    ax.set_xticklabels(x_ax[::-1])\n",
    "    ax.set_title(f\"Confidence curve\\nusing the Maxsmi model on the {task} data\")\n",
    "    ax.set_xlabel(\"% of compounds ranked by uncertainty\")\n",
    "    ax.set_ylabel(\"Mean prediction error\")\n",
    "\n",
    "    if save_fig:\n",
    "        plt.savefig(f\"figures/{task}_confidence_curve.png\",\n",
    "                    dpi=1200,\n",
    "                    facecolor='w',\n",
    "                    edgecolor='w',\n",
    "                    orientation='portrait',\n",
    "                    # format=\"svg\",\n",
    "                    format=\"png\",\n",
    "                    transparent=False,\n",
    "                    bbox_inches=None,\n",
    "                    pad_inches=0.1,)\n",
    "    plt.show()"
   ]
  },
  {
   "cell_type": "code",
   "execution_count": 14,
   "metadata": {},
   "outputs": [
    {
     "data": {
      "image/png": "[encoded data removed]",
      "text/plain": [
       "<Figure size 432x288 with 1 Axes>"
      ]
     },
     "metadata": {
      "needs_background": "light"
     },
     "output_type": "display_data"
    }
   ],
   "source": [
    "confidence_curve(maxsmi_data, TASK)"
   ]
  },
  {
   "cell_type": "code",
   "execution_count": 15,
   "metadata": {},
   "outputs": [],
   "source": [
    "def all_confidence_curves():\n",
    "    \"\"\"\n",
    "    #TODO: Add\n",
    "    \"\"\"\n",
    "\n",
    "    for task in [\"FreeSolv\", \"ESOL\", \"lipophilicity\"]:\n",
    "        maxsmi_model = maxsmi_model = retrieve_optimal_model(task)\n",
    "        print(f\"For the {task} data:\\n\"\n",
    "              f\"the maxsmi deep learning model is: {maxsmi_model[0]}\\n\"\n",
    "              f\"using an augmentation number of {maxsmi_model[2]} and\\n\"\n",
    "              f\"augmentation strategy: {maxsmi_model[1].__name__}\\n\\n\")\n",
    "        maxsmi_data = load_results(path_to_output,\n",
    "                                   task,\n",
    "                                   maxsmi_model[1].__name__,\n",
    "                                   maxsmi_model[2],\n",
    "                                   maxsmi_model[1].__name__,\n",
    "                                   maxsmi_model[2],\n",
    "                                   maxsmi_model[0],\n",
    "                                   ensemble_learning=True)\n",
    "\n",
    "        maxsmi_data[\"average_error\"] = (maxsmi_data[\"target\"] -\n",
    "                                        maxsmi_data[\"average_prediction\"]).abs()\n",
    "        maxsmi_data[\"nb_smiles\"] = maxsmi_data[\"augmented_smiles\"].apply(lambda x:\n",
    "                                                                         len(set(x)))\n",
    "        maxsmi_data = maxsmi_data[maxsmi_data[\"nb_smiles\"] > 6]\n",
    "\n",
    "        std_error_zip = list(zip(maxsmi_data['std_prediction'].values,\n",
    "                                 maxsmi_data['average_error'].values))\n",
    "\n",
    "        # Sort the standard deviation values in increasing order\n",
    "        std_error_zip.sort(key=lambda x: x[0])\n",
    "        avg_err = []\n",
    "\n",
    "        while std_error_zip:\n",
    "            # Computer the mean on the observations\n",
    "            avg_err.append(numpy.mean([err[1] for err in std_error_zip]))\n",
    "            # Remove the observation with the highest standard deviation\n",
    "            std_error_zip = std_error_zip[: -1]\n",
    "\n",
    "        fig, ax = plt.subplots()\n",
    "        x_axis = [100 - i/len(avg_err)*100 for i in range(len(avg_err), 0, -1)]\n",
    "        plt.plot(x_axis, avg_err)\n",
    "\n",
    "        x_ax = [i for i in range(0, 110, 10)]\n",
    "        ax.set_xticks(x_ax)\n",
    "        ax.set_xticklabels(x_ax[::-1])\n",
    "        ax.set_title(f\"Confidence curve\\nusing the Maxsmi model on the {task} data\")\n",
    "        ax.set_xlabel(\"% of compounds ranked by uncertainty\")\n",
    "        ax.set_ylabel(\"Mean prediction error\")\n",
    "\n",
    "    plt.savefig(f\"figures/{task}_confidence_curve.png\",\n",
    "                dpi=1200,\n",
    "                facecolor='w',\n",
    "                edgecolor='w',\n",
    "                orientation='portrait',\n",
    "                # format=\"svg\",\n",
    "                format=\"png\",\n",
    "                transparent=False,\n",
    "                bbox_inches=None,\n",
    "                pad_inches=0.1,)\n",
    "    plt.show()"
   ]
  },
  {
   "cell_type": "code",
   "execution_count": 16,
   "metadata": {},
   "outputs": [
    {
     "name": "stdout",
     "output_type": "stream",
     "text": [
      "For the FreeSolv data:\n",
      "the maxsmi deep learning model is: CONV1D\n",
      "using an augmentation number of 70 and\n",
      "augmentation strategy: augmentation_with_duplication\n",
      "\n",
      "\n",
      "For the ESOL data:\n",
      "the maxsmi deep learning model is: CONV1D\n",
      "using an augmentation number of 70 and\n",
      "augmentation strategy: augmentation_with_reduced_duplication\n",
      "\n",
      "\n",
      "For the lipophilicity data:\n",
      "the maxsmi deep learning model is: CONV1D\n",
      "using an augmentation number of 80 and\n",
      "augmentation strategy: augmentation_without_duplication\n",
      "\n",
      "\n"
     ]
    },
    {
     "data": {
      "image/png": "[encoded data removed]",
      "text/plain": [
       "<Figure size 432x288 with 1 Axes>"
      ]
     },
     "metadata": {
      "needs_background": "light"
     },
     "output_type": "display_data"
    },
    {
     "data": {
      "image/png": "[encoded data removed]",
      "text/plain": [
       "<Figure size 432x288 with 1 Axes>"
      ]
     },
     "metadata": {
      "needs_background": "light"
     },
     "output_type": "display_data"
    },
    {
     "data": {
      "image/png": "[encoded data removed]",
      "text/plain": [
       "<Figure size 432x288 with 1 Axes>"
      ]
     },
     "metadata": {
      "needs_background": "light"
     },
     "output_type": "display_data"
    }
   ],
   "source": [
    "all_confidence_curves()"
   ]
  },
  {
   "cell_type": "markdown",
   "metadata": {},
   "source": [
    "__Plot lipophilicity and ESOL confidence curves next to each other__"
   ]
  },
  {
   "cell_type": "code",
   "execution_count": 17,
   "metadata": {},
   "outputs": [],
   "source": [
    "def some_confidence_curves():\n",
    "    \"\"\"\n",
    "    #TODO: Add\n",
    "    \"\"\"\n",
    "    fig, (ax1, ax2) = plt.subplots(1, 2, figsize=(12, 4))\n",
    "    # fig.tight_layout() # Or equivalently,  \"plt.tight_layout()\"\n",
    "    fig.subplots_adjust(wspace=0.3)\n",
    "    fig.suptitle(f\"Confidence curves of Maxsmi models\")\n",
    "\n",
    "    for ax, task in zip([ax1, ax2], [\"ESOL\", \"lipophilicity\"]):\n",
    "        maxsmi_model = maxsmi_model = retrieve_optimal_model(task)\n",
    "        maxsmi_data = load_results(path_to_output,\n",
    "                                   task,\n",
    "                                   maxsmi_model[1].__name__,\n",
    "                                   maxsmi_model[2],\n",
    "                                   maxsmi_model[1].__name__,\n",
    "                                   maxsmi_model[2],\n",
    "                                   maxsmi_model[0],\n",
    "                                   ensemble_learning=True)\n",
    "\n",
    "        maxsmi_data[\"average_error\"] = (maxsmi_data[\"target\"] -\n",
    "                                        maxsmi_data[\"average_prediction\"]).abs()\n",
    "        maxsmi_data[\"nb_smiles\"] = maxsmi_data[\"augmented_smiles\"].apply(lambda x:\n",
    "                                                                         len(set(x)))\n",
    "        maxsmi_data = maxsmi_data[maxsmi_data[\"nb_smiles\"] > 6]\n",
    "\n",
    "        std_error_zip = list(zip(maxsmi_data['std_prediction'].values,\n",
    "                                 maxsmi_data['average_error'].values))\n",
    "\n",
    "        # Sort the standard deviation values in increasing order\n",
    "        std_error_zip.sort(key=lambda x: x[0])\n",
    "        avg_err = []\n",
    "\n",
    "        while std_error_zip:\n",
    "            # Computer the mean on the observations\n",
    "            avg_err.append(numpy.mean([err[1] for err in std_error_zip]))\n",
    "            # Remove the observation with the highest standard deviation\n",
    "            std_error_zip = std_error_zip[: -1]\n",
    "\n",
    "        x_axis = [100 - i/len(avg_err)*100 for i in range(len(avg_err), 0, -1)]\n",
    "        ax.plot(x_axis, avg_err)\n",
    "\n",
    "        x_ax = [i for i in range(0, 110, 10)]\n",
    "        ax.set_xticks(x_ax)\n",
    "        ax.set_xticklabels(x_ax[::-1])\n",
    "        ax.set_title(f\"{task} data\")\n",
    "        ax.set_xlabel(\"% of compounds ranked by uncertainty\")\n",
    "        ax.set_ylabel(\"Mean prediction error\")\n",
    "\n",
    "    plt.savefig(f\"figures/ESOL_lipophilicity_confidence_curve.png\",\n",
    "                dpi=1200,\n",
    "                facecolor='w',\n",
    "                edgecolor='w',\n",
    "                orientation='portrait',\n",
    "                format=\"png\",\n",
    "                transparent=False,\n",
    "                bbox_inches=None,\n",
    "                pad_inches=0.1,)\n",
    "    plt.show()"
   ]
  },
  {
   "cell_type": "code",
   "execution_count": 18,
   "metadata": {},
   "outputs": [
    {
     "data": {
      "image/png": "[encoded data removed]",
      "text/plain": [
       "<Figure size 864x288 with 2 Axes>"
      ]
     },
     "metadata": {
      "needs_background": "light"
     },
     "output_type": "display_data"
    }
   ],
   "source": [
    "some_confidence_curves()"
   ]
  }
 ],
 "metadata": {
  "kernelspec": {
   "display_name": "Python 3",
   "language": "python",
   "name": "python3"
  },
  "language_info": {
   "codemirror_mode": {
    "name": "ipython",
    "version": 3
   },
   "file_extension": ".py",
   "mimetype": "text/x-python",
   "name": "python",
   "nbconvert_exporter": "python",
   "pygments_lexer": "ipython3",
   "version": "3.8.6"
  }
 },
 "nbformat": 4,
 "nbformat_minor": 4
}
