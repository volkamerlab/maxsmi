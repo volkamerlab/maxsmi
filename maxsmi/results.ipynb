{
 "cells": [
  {
   "cell_type": "markdown",
   "metadata": {},
   "source": [
    "# Results\n",
    "\n",
    "This notebook is created to analyse results from simulations.\n",
    "\n",
    "## Prerequisites\n",
    "This notebook will run under the condition that some simulations have been run, e.g.\n",
    "```\n",
    "(maxsmi) $ python maxsmi/full_workflow.py --task ESOL --aug-train 5 --aug-test 2\n",
    "```\n",
    "\n",
    "Have a look at the [README](https://github.com/t-kimber/maxsmi/blob/main/README.md) page for more details."
   ]
  },
  {
   "cell_type": "code",
   "execution_count": 1,
   "metadata": {},
   "outputs": [],
   "source": [
    "import pickle\n",
    "import os\n",
    "import numpy as np\n",
    "import matplotlib.pyplot as plt"
   ]
  },
  {
   "cell_type": "code",
   "execution_count": 2,
   "metadata": {},
   "outputs": [],
   "source": [
    "TASK = \"ESOL\"\n",
    "STRING_ENCODING = \"smiles\"\n",
    "TRAIN_AUGMENTATION = [0, 3, 6]\n",
    "TEST_AUGMENTATION = [0, 3]"
   ]
  },
  {
   "cell_type": "markdown",
   "metadata": {},
   "source": [
    "## Metrics\n",
    "\n",
    "### r2"
   ]
  },
  {
   "cell_type": "code",
   "execution_count": 3,
   "metadata": {},
   "outputs": [],
   "source": [
    "def r2_metric(TRAIN_AUGMENTATION, TEST_AUGMENTATION):\n",
    "    with open(f\"output/{TASK}_{STRING_ENCODING}_{TRAIN_AUGMENTATION}_{TEST_AUGMENTATION}/results_metrics.pkl\", 'rb') as f: \n",
    "        data = pickle.load(f)\n",
    "        return data.test[0][2]"
   ]
  },
  {
   "cell_type": "code",
   "execution_count": 4,
   "metadata": {},
   "outputs": [
    {
     "data": {
      "text/plain": [
       "0.6488812102798891"
      ]
     },
     "execution_count": 4,
     "metadata": {},
     "output_type": "execute_result"
    }
   ],
   "source": [
    "r2_metric(0,0)"
   ]
  },
  {
   "cell_type": "markdown",
   "metadata": {},
   "source": [
    "## Plot results"
   ]
  },
  {
   "cell_type": "code",
   "execution_count": 5,
   "metadata": {},
   "outputs": [
    {
     "data": {
      "text/plain": [
       "array([[0.64888121, 0.66529054, 0.67841975],\n",
       "       [0.62911891, 0.764106  , 0.70848751]])"
      ]
     },
     "execution_count": 5,
     "metadata": {},
     "output_type": "execute_result"
    }
   ],
   "source": [
    "Z = np.zeros((len(TEST_AUGMENTATION), len(TRAIN_AUGMENTATION)))\n",
    "for i, test in enumerate(TEST_AUGMENTATION):\n",
    "    for j, train in enumerate(TRAIN_AUGMENTATION):\n",
    "        Z[i, j] = r2_metric(train, test)\n",
    "Z"
   ]
  },
  {
   "cell_type": "code",
   "execution_count": 6,
   "metadata": {},
   "outputs": [
    {
     "data": {
      "image/png": "[encoded data removed]",
      "text/plain": [
       "<Figure size 432x288 with 2 Axes>"
      ]
     },
     "metadata": {
      "needs_background": "light"
     },
     "output_type": "display_data"
    }
   ],
   "source": [
    "fig, ax = plt.subplots()\n",
    "im = ax.imshow(Z)\n",
    "ax.set_xlabel(\"train augmentation\")\n",
    "ax.set_ylabel(\"test augmentation\")\n",
    "ax.set_xticks(np.array([0, 1, 2]))\n",
    "ax.set_xticklabels(TRAIN_AUGMENTATION)\n",
    "ax.set_yticks(np.array([0, 1]))\n",
    "ax.set_yticklabels(TEST_AUGMENTATION)\n",
    "ax.set_title(f\"r2 metric for {TASK} data set\")\n",
    "fig.colorbar(im) # adding the colobar on the right\n",
    "plt.show()"
   ]
  }
 ],
 "metadata": {
  "kernelspec": {
   "display_name": "Python 3",
   "language": "python",
   "name": "python3"
  },
  "language_info": {
   "codemirror_mode": {
    "name": "ipython",
    "version": 3
   },
   "file_extension": ".py",
   "mimetype": "text/x-python",
   "name": "python",
   "nbconvert_exporter": "python",
   "pygments_lexer": "ipython3",
   "version": "3.8.6"
  }
 },
 "nbformat": 4,
 "nbformat_minor": 4
}
