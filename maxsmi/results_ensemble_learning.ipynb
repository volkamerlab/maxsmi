{
 "cells": [
  {
   "cell_type": "markdown",
   "metadata": {},
   "source": [
    "# Results\n",
    "\n",
    "This notebook is created to analyse results from simulations using specifically the ensemble learning approach.\n",
    "\n",
    "## Prerequisites\n",
    "This notebook will run under the condition that some simulations have been run, e.g.\n",
    "```\n",
    "(maxsmi) $ python maxsmi/full_workflow.py --task ESOL --string-encoding smiles --aug-strategy-train augmentation_with_duplication --aug-strategy-test augmentation_with_duplication --aug-nb-train 10 --aug-nb-test 10 --ml-model CONV1D --eval-strategy True\n",
    "```\n",
    "\n",
    "Have a look at the [README](https://github.com/t-kimber/maxsmi/blob/main/README.md) page for more details."
   ]
  },
  {
   "cell_type": "code",
   "execution_count": 1,
   "metadata": {},
   "outputs": [],
   "source": [
    "import pickle\n",
    "import os\n",
    "import numpy as np\n",
    "import matplotlib.pyplot as plt\n",
    "from rdkit import Chem"
   ]
  },
  {
   "cell_type": "code",
   "execution_count": 2,
   "metadata": {},
   "outputs": [],
   "source": [
    "TASK = \"ESOL\"\n",
    "STRING_ENCODING = \"smiles\"\n",
    "TRAIN_AUGMENTATION = 100\n",
    "TEST_AUGMENTATION = 100\n",
    "AUGMENTATION_STRATEGY = \"augmentation_without_duplication\"\n",
    "ML_MODEL = \"CONV1D\""
   ]
  },
  {
   "cell_type": "markdown",
   "metadata": {},
   "source": [
    "# Load results"
   ]
  },
  {
   "cell_type": "markdown",
   "metadata": {},
   "source": [
    "This data represents _only_ the test set (20%) and not the full data (100%). It contains most relevant information."
   ]
  },
  {
   "cell_type": "code",
   "execution_count": 3,
   "metadata": {},
   "outputs": [],
   "source": [
    "with open(f\"output/{TASK}_{STRING_ENCODING}_{AUGMENTATION_STRATEGY}_{TRAIN_AUGMENTATION}_{TEST_AUGMENTATION}_{ML_MODEL}/results_ensemble_learning.pkl\", 'rb') as f: \n",
    "    test_data = pickle.load(f)"
   ]
  },
  {
   "cell_type": "code",
   "execution_count": 4,
   "metadata": {},
   "outputs": [
    {
     "data": {
      "text/html": [
       "<div>\n",
       "<style scoped>\n",
       "    .dataframe tbody tr th:only-of-type {\n",
       "        vertical-align: middle;\n",
       "    }\n",
       "\n",
       "    .dataframe tbody tr th {\n",
       "        vertical-align: top;\n",
       "    }\n",
       "\n",
       "    .dataframe thead th {\n",
       "        text-align: right;\n",
       "    }\n",
       "</style>\n",
       "<table border=\"1\" class=\"dataframe\">\n",
       "  <thead>\n",
       "    <tr style=\"text-align: right;\">\n",
       "      <th></th>\n",
       "      <th>target</th>\n",
       "      <th>canonical_smiles</th>\n",
       "      <th>augmented_smiles</th>\n",
       "      <th>new_smiles</th>\n",
       "      <th>average_prediction</th>\n",
       "      <th>std_prediction</th>\n",
       "    </tr>\n",
       "  </thead>\n",
       "  <tbody>\n",
       "    <tr>\n",
       "      <th>181</th>\n",
       "      <td>-8.60</td>\n",
       "      <td>CCOc1ccc(C(C)(C)COCc2cccc(Oc3ccccc3)c2)cc1</td>\n",
       "      <td>[C(C)Oc1ccc(C(C)(C)COCc2cccc(c2)Oc2ccccc2)cc1,...</td>\n",
       "      <td>[C(C)Oc1ccc(C(C)(C)COCc2cccc(c2)Oc2ccccc2)cc1,...</td>\n",
       "      <td>-6.335364</td>\n",
       "      <td>0.432646</td>\n",
       "    </tr>\n",
       "    <tr>\n",
       "      <th>277</th>\n",
       "      <td>-0.60</td>\n",
       "      <td>CCS</td>\n",
       "      <td>[C(S)C, CCS, SCC, C(C)S]</td>\n",
       "      <td>[C(S)C, CCS, SCC, C(C)S]</td>\n",
       "      <td>-0.811274</td>\n",
       "      <td>0.167853</td>\n",
       "    </tr>\n",
       "    <tr>\n",
       "      <th>125</th>\n",
       "      <td>-0.60</td>\n",
       "      <td>CC(=O)OCC(COC(C)=O)OC(C)=O</td>\n",
       "      <td>[CC(=O)OCC(OC(=O)C)COC(=O)C, O=C(OCC(COC(=O)C)...</td>\n",
       "      <td>[CC(=O)OCC(OC(=O)C)COC(=O)C, O=C(OCC(COC(=O)C)...</td>\n",
       "      <td>-0.887806</td>\n",
       "      <td>0.308910</td>\n",
       "    </tr>\n",
       "    <tr>\n",
       "      <th>937</th>\n",
       "      <td>-0.67</td>\n",
       "      <td>CCC(C)C(C)=O</td>\n",
       "      <td>[C(C(C)CC)(=O)C, CC(C(=O)C)CC, CC(C(C)=O)CC, C...</td>\n",
       "      <td>[C(C(C)CC)(=O)C, CC(C(=O)C)CC, CC(C(C)=O)CC, C...</td>\n",
       "      <td>-1.068527</td>\n",
       "      <td>0.296181</td>\n",
       "    </tr>\n",
       "    <tr>\n",
       "      <th>444</th>\n",
       "      <td>-5.05</td>\n",
       "      <td>C=CCCCCCCC</td>\n",
       "      <td>[C(CC)CCCCC=C, C(=C)CCCCCCC, C(CCC=C)CCCC, C(C...</td>\n",
       "      <td>[C(CC)CCCCC=C, C(=C)CCCCCCC, C(CCC=C)CCCC, C(C...</td>\n",
       "      <td>-4.789051</td>\n",
       "      <td>0.156997</td>\n",
       "    </tr>\n",
       "  </tbody>\n",
       "</table>\n",
       "</div>"
      ],
      "text/plain": [
       "     target                            canonical_smiles  \\\n",
       "181   -8.60  CCOc1ccc(C(C)(C)COCc2cccc(Oc3ccccc3)c2)cc1   \n",
       "277   -0.60                                         CCS   \n",
       "125   -0.60                  CC(=O)OCC(COC(C)=O)OC(C)=O   \n",
       "937   -0.67                                CCC(C)C(C)=O   \n",
       "444   -5.05                                  C=CCCCCCCC   \n",
       "\n",
       "                                      augmented_smiles  \\\n",
       "181  [C(C)Oc1ccc(C(C)(C)COCc2cccc(c2)Oc2ccccc2)cc1,...   \n",
       "277                           [C(S)C, CCS, SCC, C(C)S]   \n",
       "125  [CC(=O)OCC(OC(=O)C)COC(=O)C, O=C(OCC(COC(=O)C)...   \n",
       "937  [C(C(C)CC)(=O)C, CC(C(=O)C)CC, CC(C(C)=O)CC, C...   \n",
       "444  [C(CC)CCCCC=C, C(=C)CCCCCCC, C(CCC=C)CCCC, C(C...   \n",
       "\n",
       "                                            new_smiles  average_prediction  \\\n",
       "181  [C(C)Oc1ccc(C(C)(C)COCc2cccc(c2)Oc2ccccc2)cc1,...           -6.335364   \n",
       "277                           [C(S)C, CCS, SCC, C(C)S]           -0.811274   \n",
       "125  [CC(=O)OCC(OC(=O)C)COC(=O)C, O=C(OCC(COC(=O)C)...           -0.887806   \n",
       "937  [C(C(C)CC)(=O)C, CC(C(=O)C)CC, CC(C(C)=O)CC, C...           -1.068527   \n",
       "444  [C(CC)CCCCC=C, C(=C)CCCCCCC, C(CCC=C)CCCC, C(C...           -4.789051   \n",
       "\n",
       "     std_prediction  \n",
       "181        0.432646  \n",
       "277        0.167853  \n",
       "125        0.308910  \n",
       "937        0.296181  \n",
       "444        0.156997  "
      ]
     },
     "execution_count": 4,
     "metadata": {},
     "output_type": "execute_result"
    }
   ],
   "source": [
    "test_data.head()"
   ]
  },
  {
   "cell_type": "markdown",
   "metadata": {},
   "source": [
    "# Some statistics"
   ]
  },
  {
   "cell_type": "markdown",
   "metadata": {},
   "source": [
    "### Distribution of the target"
   ]
  },
  {
   "cell_type": "code",
   "execution_count": 5,
   "metadata": {},
   "outputs": [
    {
     "data": {
      "image/png": "[encoded data removed]",
      "text/plain": [
       "<Figure size 432x288 with 1 Axes>"
      ]
     },
     "metadata": {
      "needs_background": "light"
     },
     "output_type": "display_data"
    },
    {
     "name": "stdout",
     "output_type": "stream",
     "text": [
      "Minimum value: -9.15\n",
      "Minimum value: 1.58\n"
     ]
    }
   ],
   "source": [
    "fig, ax = plt.subplots()\n",
    "plt.hist(test_data['target'])\n",
    "ax.set_title(f\"Histogram of the values of {TASK} on test data set\")\n",
    "plt.show()\n",
    "print(f\"Minimum value: {test_data['target'].min()}\")\n",
    "print(f\"Minimum value: {test_data['target'].max()}\")"
   ]
  },
  {
   "cell_type": "markdown",
   "metadata": {},
   "source": [
    "### Range of standard deviation of prediction"
   ]
  },
  {
   "cell_type": "code",
   "execution_count": 6,
   "metadata": {},
   "outputs": [
    {
     "name": "stdout",
     "output_type": "stream",
     "text": [
      "Minimum: 0.02 \t \t associated index: 1075\n"
     ]
    }
   ],
   "source": [
    "print(f\"Minimum: {test_data['std_prediction'].min():.2f} \\t \\t associated index: {test_data['std_prediction'].idxmin()}\")"
   ]
  },
  {
   "cell_type": "code",
   "execution_count": 7,
   "metadata": {},
   "outputs": [
    {
     "name": "stdout",
     "output_type": "stream",
     "text": [
      "Maximum: 0.57 \t \t associated index: 272\n"
     ]
    }
   ],
   "source": [
    "print(f\"Maximum: {test_data['std_prediction'].max():.2f} \\t \\t associated index: {test_data['std_prediction'].idxmax()}\")"
   ]
  },
  {
   "cell_type": "markdown",
   "metadata": {},
   "source": [
    "### Look at the molecules"
   ]
  },
  {
   "cell_type": "code",
   "execution_count": 8,
   "metadata": {},
   "outputs": [],
   "source": [
    "def ensemble_learning_metric(metric=\"min\"):\n",
    "    \"\"\"\n",
    "    Return the rdkit molecule object with `metric` standard deviation.\n",
    "    \n",
    "    Parameters\n",
    "    ----------\n",
    "    metric : str\n",
    "        The metric to consider for the standard deviation of the prediction.\n",
    "    \n",
    "    Returns\n",
    "    -------\n",
    "    tuple\n",
    "        target, canonical SMILES, random SMILES, RDKit molecule.\n",
    "    \"\"\"\n",
    "    \n",
    "    if metric == \"min\":\n",
    "        index = test_data['std_prediction'].idxmin()\n",
    "        print(f\"Molecule with high confidence prediction (std of) : {test_data['std_prediction'].min():.2f}\")\n",
    "    if metric == \"max\":\n",
    "        index = test_data['std_prediction'].idxmax()\n",
    "        print(f\"Molecule with low confidence prediction (std of) : {test_data['std_prediction'].max():.2f}\")\n",
    "        \n",
    "    canonical_smile = test_data.loc[index][\"canonical_smiles\"]\n",
    "    mol = Chem.MolFromSmiles(canonical_smile)\n",
    "    print(\"Canonical SMILES: \",  canonical_smile)\n",
    "    random_smiles = test_data.loc[index][\"augmented_smiles\"]\n",
    "    target = test_data.loc[index][\"target\"]\n",
    "    print(f\"True value: {target:.2f}\")\n",
    "    average_prediction = test_data.loc[index]['average_prediction']\n",
    "    print(f\"Average prediction: {average_prediction:.2f}\")\n",
    "    absolute_error = np.absolute(test_data.loc[index][\"target\"]-test_data.loc[index][\"average_prediction\"])\n",
    "    print(f\"Absolute of the averaged error: {absolute_error:.2f}\")\n",
    "    return (target, canonical_smile, random_smiles, mol)"
   ]
  },
  {
   "cell_type": "code",
   "execution_count": 9,
   "metadata": {},
   "outputs": [
    {
     "name": "stdout",
     "output_type": "stream",
     "text": [
      "Molecule with high confidence prediction (std of) : 0.02\n",
      "Canonical SMILES:  ICI\n",
      "True value: -2.34\n",
      "Average prediction: -1.92\n",
      "Absolute of the averaged error: 0.42\n"
     ]
    },
    {
     "data": {
      "image/png": "[encoded data removed]",
      "text/plain": [
       "<rdkit.Chem.rdchem.Mol at 0x7ffa22985b20>"
      ]
     },
     "execution_count": 9,
     "metadata": {},
     "output_type": "execute_result"
    }
   ],
   "source": [
    "high_confidence_mol = ensemble_learning_metric(\"min\")\n",
    "high_confidence_mol[3]"
   ]
  },
  {
   "cell_type": "code",
   "execution_count": 10,
   "metadata": {},
   "outputs": [
    {
     "name": "stdout",
     "output_type": "stream",
     "text": [
      "Molecule with low confidence prediction (std of) : 0.57\n",
      "Canonical SMILES:  CC1(C)C(C=C(Br)Br)C1C(=O)OC(C#N)c1cccc(Oc2ccccc2)c1\n",
      "True value: -8.40\n",
      "Average prediction: -7.18\n",
      "Absolute of the averaged error: 1.22\n"
     ]
    },
    {
     "data": {
      "image/png": "[encoded data removed]",
      "text/plain": [
       "<rdkit.Chem.rdchem.Mol at 0x7ffa22d0db70>"
      ]
     },
     "execution_count": 10,
     "metadata": {},
     "output_type": "execute_result"
    }
   ],
   "source": [
    "low_confidence_mol = ensemble_learning_metric(\"max\")\n",
    "low_confidence_mol[3]"
   ]
  },
  {
   "cell_type": "code",
   "execution_count": 11,
   "metadata": {},
   "outputs": [
    {
     "data": {
      "image/png": "[encoded data removed]",
      "text/plain": [
       "<Figure size 432x288 with 1 Axes>"
      ]
     },
     "metadata": {
      "needs_background": "light"
     },
     "output_type": "display_data"
    }
   ],
   "source": [
    "fig, ax = plt.subplots()\n",
    "x = test_data[\"target\"]\n",
    "y = test_data[\"average_prediction\"]\n",
    "err = test_data[\"std_prediction\"]\n",
    "\n",
    "plt.errorbar(x, y, yerr=err, fmt='o')\n",
    "\n",
    "ax.set_xticks(np.arange(-9, 4, 2))\n",
    "ax.set_yticks(np.arange(-9, 4, 2))\n",
    "ax.set_xlabel(\"true\")\n",
    "ax.set_ylabel(\"predicted\")\n",
    "ax.set_aspect(\"equal\", adjustable=\"box\")\n",
    "ax.set_title(f\"True VS Predicted values on {TASK} data set\")\n",
    "\n",
    "plt.show()"
   ]
  }
 ],
 "metadata": {
  "kernelspec": {
   "display_name": "Python 3",
   "language": "python",
   "name": "python3"
  },
  "language_info": {
   "codemirror_mode": {
    "name": "ipython",
    "version": 3
   },
   "file_extension": ".py",
   "mimetype": "text/x-python",
   "name": "python",
   "nbconvert_exporter": "python",
   "pygments_lexer": "ipython3",
   "version": "3.8.6"
  }
 },
 "nbformat": 4,
 "nbformat_minor": 4
}
