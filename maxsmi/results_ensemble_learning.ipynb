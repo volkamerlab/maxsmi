{
 "cells": [
  {
   "cell_type": "markdown",
   "metadata": {},
   "source": [
    "# Results\n",
    "\n",
    "This notebook is created to analyse results from simulations using specifically the ensemble learning approach.\n",
    "\n",
    "## Prerequisites\n",
    "This notebook will run under the condition that some simulations have been run, e.g.\n",
    "```\n",
    "(maxsmi) $ python maxsmi/full_workflow.py --task ESOL --string-encoding smiles --aug-strategy-train augmentation_with_duplication --aug-strategy-test augmentation_with_duplication --aug-nb-train 10 --aug-nb-test 10 --ml-model CONV1D --eval-strategy True\n",
    "```\n",
    "\n",
    "Have a look at the [README](https://github.com/t-kimber/maxsmi/blob/main/README.md) page for more details."
   ]
  },
  {
   "cell_type": "code",
   "execution_count": 1,
   "metadata": {},
   "outputs": [],
   "source": [
    "import pickle\n",
    "import os\n",
    "import numpy as np\n",
    "import matplotlib.pyplot as plt\n",
    "from rdkit import Chem\n",
    "from rdkit.Chem import PandasTools"
   ]
  },
  {
   "cell_type": "code",
   "execution_count": 2,
   "metadata": {},
   "outputs": [],
   "source": [
    "TASK = \"ESOL\"\n",
    "STRING_ENCODING = \"smiles\"\n",
    "TRAIN_AUGMENTATION = 100\n",
    "TEST_AUGMENTATION = 100\n",
    "#AUGMENTATION_STRATEGY = \"augmentation_without_duplication\"\n",
    "AUGMENTATION_STRATEGY = \"augmentation_with_duplication\"\n",
    "ML_MODEL = \"CONV1D\""
   ]
  },
  {
   "cell_type": "code",
   "execution_count": 3,
   "metadata": {},
   "outputs": [],
   "source": [
    "#TASK = \"ESOL\"\n",
    "#STRING_ENCODING = \"smiles\"\n",
    "#TRAIN_AUGMENTATION = 0\n",
    "#TEST_AUGMENTATION = 0\n",
    "#AUGMENTATION_STRATEGY = \"no_augmentation\"\n",
    "#ML_MODEL = \"CONV1D\""
   ]
  },
  {
   "cell_type": "markdown",
   "metadata": {},
   "source": [
    "# Load results"
   ]
  },
  {
   "cell_type": "markdown",
   "metadata": {},
   "source": [
    "## General results\n",
    "Here we load the data which contains relevant information, such as\n",
    "- total time of execution of the script: loading data, featurizing, train, and testing\n",
    "- training time\n",
    "- testing time\n",
    "- the evolution of the loss by epoch\n",
    "- MSE, RMSE, R2 on train set\n",
    "- MSE, RMSE, R2 on train set"
   ]
  },
  {
   "cell_type": "code",
   "execution_count": 4,
   "metadata": {},
   "outputs": [],
   "source": [
    "def load_results(task, string_encoding, augmentation_strategy, train_augmentation, test_augmentation, ml_model):\n",
    "    with open(f\"output/{task}_{string_encoding}_{augmentation_strategy}_{train_augmentation}_{test_augmentation}_{ml_model}/results_metrics.pkl\", 'rb') as f: \n",
    "        results = pickle.load(f)\n",
    "        print(f\"Data: \\t\\t\\t {task}\")\n",
    "        print(f\"String encoding: \\t {string_encoding}\")\n",
    "        print(f\"Augmentation strategy: \\t {augmentation_strategy}\")\n",
    "        print(f\"Train augmentation: \\t {train_augmentation}\")\n",
    "        print(f\"Test augmentation: \\t {test_augmentation}\")\n",
    "        print(f\"Model: \\t\\t\\t {ml_model}\")\n",
    "        print(\"\\n\")\n",
    "        print(f\"Train R2: \\t\\t {results.train[0][2]:.3f}\")\n",
    "        print(f\"Test R2: \\t\\t {results.test[0][2]:.3f}\")\n",
    "        print(f\"Total execution time: \\t {results.execution[0]}\")\n",
    "        print(f\"Training time: \\t\\t {results.time_training[0]}\")\n",
    "        return results"
   ]
  },
  {
   "cell_type": "code",
   "execution_count": 5,
   "metadata": {},
   "outputs": [
    {
     "name": "stdout",
     "output_type": "stream",
     "text": [
      "Data: \t\t\t ESOL\n",
      "String encoding: \t smiles\n",
      "Augmentation strategy: \t augmentation_with_duplication\n",
      "Train augmentation: \t 100\n",
      "Test augmentation: \t 100\n",
      "Model: \t\t\t CONV1D\n",
      "\n",
      "\n",
      "Train R2: \t\t 0.987\n",
      "Test R2: \t\t 0.925\n",
      "Total execution time: \t 0 days 00:28:11.432880\n",
      "Training time: \t\t 0 days 00:25:30.804204\n"
     ]
    }
   ],
   "source": [
    "results = load_results(TASK, STRING_ENCODING, AUGMENTATION_STRATEGY, TRAIN_AUGMENTATION, TEST_AUGMENTATION, ML_MODEL)"
   ]
  },
  {
   "cell_type": "code",
   "execution_count": 6,
   "metadata": {},
   "outputs": [
    {
     "data": {
      "text/html": [
       "<div>\n",
       "<style scoped>\n",
       "    .dataframe tbody tr th:only-of-type {\n",
       "        vertical-align: middle;\n",
       "    }\n",
       "\n",
       "    .dataframe tbody tr th {\n",
       "        vertical-align: top;\n",
       "    }\n",
       "\n",
       "    .dataframe thead th {\n",
       "        text-align: right;\n",
       "    }\n",
       "</style>\n",
       "<table border=\"1\" class=\"dataframe\">\n",
       "  <thead>\n",
       "    <tr style=\"text-align: right;\">\n",
       "      <th></th>\n",
       "      <th>execution</th>\n",
       "      <th>time_training</th>\n",
       "      <th>time_testing</th>\n",
       "      <th>loss</th>\n",
       "      <th>train</th>\n",
       "      <th>test</th>\n",
       "    </tr>\n",
       "  </thead>\n",
       "  <tbody>\n",
       "    <tr>\n",
       "      <th>0</th>\n",
       "      <td>0 days 00:28:11.432880</td>\n",
       "      <td>0 days 00:25:30.804204</td>\n",
       "      <td>0 days 00:00:16.517917</td>\n",
       "      <td>[0.040372018813343506, 0.01875718626544755, 0....</td>\n",
       "      <td>(0.05643834173679352, 0.23756755888462067, 0.9...</td>\n",
       "      <td>(0.32957857847213745, 0.5740893483161926, 0.92...</td>\n",
       "    </tr>\n",
       "  </tbody>\n",
       "</table>\n",
       "</div>"
      ],
      "text/plain": [
       "               execution          time_training           time_testing  \\\n",
       "0 0 days 00:28:11.432880 0 days 00:25:30.804204 0 days 00:00:16.517917   \n",
       "\n",
       "                                                loss  \\\n",
       "0  [0.040372018813343506, 0.01875718626544755, 0....   \n",
       "\n",
       "                                               train  \\\n",
       "0  (0.05643834173679352, 0.23756755888462067, 0.9...   \n",
       "\n",
       "                                                test  \n",
       "0  (0.32957857847213745, 0.5740893483161926, 0.92...  "
      ]
     },
     "execution_count": 6,
     "metadata": {},
     "output_type": "execute_result"
    }
   ],
   "source": [
    "results"
   ]
  },
  {
   "cell_type": "markdown",
   "metadata": {},
   "source": [
    "## Ensemble learning results\n",
    "Here we load the data which contains relevant information if there was augmentation on the test set, such as\n",
    "- confidence of the prediction (is the standard deviation low or high?)\n",
    "- the absolute error between the true value and the average value"
   ]
  },
  {
   "cell_type": "markdown",
   "metadata": {},
   "source": [
    "This data represents _only_ the test set (20%) and not the full data (100%). It contains most relevant information."
   ]
  },
  {
   "cell_type": "code",
   "execution_count": 7,
   "metadata": {},
   "outputs": [],
   "source": [
    "with open(f\"output/{TASK}_{STRING_ENCODING}_{AUGMENTATION_STRATEGY}_{TRAIN_AUGMENTATION}_{TEST_AUGMENTATION}_{ML_MODEL}/results_ensemble_learning.pkl\", 'rb') as f: \n",
    "    test_data = pickle.load(f)"
   ]
  },
  {
   "cell_type": "code",
   "execution_count": 8,
   "metadata": {},
   "outputs": [
    {
     "data": {
      "text/html": [
       "<div>\n",
       "<style scoped>\n",
       "    .dataframe tbody tr th:only-of-type {\n",
       "        vertical-align: middle;\n",
       "    }\n",
       "\n",
       "    .dataframe tbody tr th {\n",
       "        vertical-align: top;\n",
       "    }\n",
       "\n",
       "    .dataframe thead th {\n",
       "        text-align: right;\n",
       "    }\n",
       "</style>\n",
       "<table border=\"1\" class=\"dataframe\">\n",
       "  <thead>\n",
       "    <tr style=\"text-align: right;\">\n",
       "      <th></th>\n",
       "      <th>target</th>\n",
       "      <th>canonical_smiles</th>\n",
       "      <th>augmented_smiles</th>\n",
       "      <th>new_smiles</th>\n",
       "      <th>average_prediction</th>\n",
       "      <th>std_prediction</th>\n",
       "    </tr>\n",
       "  </thead>\n",
       "  <tbody>\n",
       "    <tr>\n",
       "      <th>181</th>\n",
       "      <td>-8.60</td>\n",
       "      <td>CCOc1ccc(C(C)(C)COCc2cccc(Oc3ccccc3)c2)cc1</td>\n",
       "      <td>[C(C)Oc1ccc(C(C)(C)COCc2cccc(c2)Oc2ccccc2)cc1,...</td>\n",
       "      <td>[C(C)Oc1ccc(C(C)(C)COCc2cccc(c2)Oc2ccccc2)cc1,...</td>\n",
       "      <td>-6.481063</td>\n",
       "      <td>0.444268</td>\n",
       "    </tr>\n",
       "    <tr>\n",
       "      <th>277</th>\n",
       "      <td>-0.60</td>\n",
       "      <td>CCS</td>\n",
       "      <td>[C(S)C, C(S)C, C(S)C, C(S)C, C(S)C, C(S)C, C(S...</td>\n",
       "      <td>[C(S)C, C(S)C, C(S)C, C(S)C, C(S)C, C(S)C, C(S...</td>\n",
       "      <td>-0.979006</td>\n",
       "      <td>0.117905</td>\n",
       "    </tr>\n",
       "    <tr>\n",
       "      <th>125</th>\n",
       "      <td>-0.60</td>\n",
       "      <td>CC(=O)OCC(COC(C)=O)OC(C)=O</td>\n",
       "      <td>[CC(=O)OCC(OC(=O)C)COC(=O)C, O=C(OCC(COC(=O)C)...</td>\n",
       "      <td>[CC(=O)OCC(OC(=O)C)COC(=O)C, O=C(OCC(COC(=O)C)...</td>\n",
       "      <td>-1.144300</td>\n",
       "      <td>0.399497</td>\n",
       "    </tr>\n",
       "    <tr>\n",
       "      <th>937</th>\n",
       "      <td>-0.67</td>\n",
       "      <td>CCC(C)C(C)=O</td>\n",
       "      <td>[C(C(C)CC)(=O)C, C(C(C)CC)(=O)C, CC(C(=O)C)CC,...</td>\n",
       "      <td>[C(C(C)CC)(=O)C, C(C(C)CC)(=O)C, CC(C(=O)C)CC,...</td>\n",
       "      <td>-1.006674</td>\n",
       "      <td>0.204917</td>\n",
       "    </tr>\n",
       "    <tr>\n",
       "      <th>444</th>\n",
       "      <td>-5.05</td>\n",
       "      <td>C=CCCCCCCC</td>\n",
       "      <td>[C(CC)CCCCC=C, C(CC)CCCCC=C, C(CC)CCCCC=C, C(C...</td>\n",
       "      <td>[C(CC)CCCCC=C, C(CC)CCCCC=C, C(CC)CCCCC=C, C(C...</td>\n",
       "      <td>-5.182458</td>\n",
       "      <td>0.147329</td>\n",
       "    </tr>\n",
       "  </tbody>\n",
       "</table>\n",
       "</div>"
      ],
      "text/plain": [
       "     target                            canonical_smiles  \\\n",
       "181   -8.60  CCOc1ccc(C(C)(C)COCc2cccc(Oc3ccccc3)c2)cc1   \n",
       "277   -0.60                                         CCS   \n",
       "125   -0.60                  CC(=O)OCC(COC(C)=O)OC(C)=O   \n",
       "937   -0.67                                CCC(C)C(C)=O   \n",
       "444   -5.05                                  C=CCCCCCCC   \n",
       "\n",
       "                                      augmented_smiles  \\\n",
       "181  [C(C)Oc1ccc(C(C)(C)COCc2cccc(c2)Oc2ccccc2)cc1,...   \n",
       "277  [C(S)C, C(S)C, C(S)C, C(S)C, C(S)C, C(S)C, C(S...   \n",
       "125  [CC(=O)OCC(OC(=O)C)COC(=O)C, O=C(OCC(COC(=O)C)...   \n",
       "937  [C(C(C)CC)(=O)C, C(C(C)CC)(=O)C, CC(C(=O)C)CC,...   \n",
       "444  [C(CC)CCCCC=C, C(CC)CCCCC=C, C(CC)CCCCC=C, C(C...   \n",
       "\n",
       "                                            new_smiles  average_prediction  \\\n",
       "181  [C(C)Oc1ccc(C(C)(C)COCc2cccc(c2)Oc2ccccc2)cc1,...           -6.481063   \n",
       "277  [C(S)C, C(S)C, C(S)C, C(S)C, C(S)C, C(S)C, C(S...           -0.979006   \n",
       "125  [CC(=O)OCC(OC(=O)C)COC(=O)C, O=C(OCC(COC(=O)C)...           -1.144300   \n",
       "937  [C(C(C)CC)(=O)C, C(C(C)CC)(=O)C, CC(C(=O)C)CC,...           -1.006674   \n",
       "444  [C(CC)CCCCC=C, C(CC)CCCCC=C, C(CC)CCCCC=C, C(C...           -5.182458   \n",
       "\n",
       "     std_prediction  \n",
       "181        0.444268  \n",
       "277        0.117905  \n",
       "125        0.399497  \n",
       "937        0.204917  \n",
       "444        0.147329  "
      ]
     },
     "execution_count": 8,
     "metadata": {},
     "output_type": "execute_result"
    }
   ],
   "source": [
    "test_data.head()"
   ]
  },
  {
   "cell_type": "markdown",
   "metadata": {},
   "source": [
    "# Some statistics"
   ]
  },
  {
   "cell_type": "markdown",
   "metadata": {},
   "source": [
    "### Distribution of the target"
   ]
  },
  {
   "cell_type": "code",
   "execution_count": 9,
   "metadata": {},
   "outputs": [
    {
     "data": {
      "image/png": "[encoded data removed]",
      "text/plain": [
       "<Figure size 432x288 with 1 Axes>"
      ]
     },
     "metadata": {
      "needs_background": "light"
     },
     "output_type": "display_data"
    },
    {
     "name": "stdout",
     "output_type": "stream",
     "text": [
      "Minimum value: -9.15\n",
      "Minimum value: 1.58\n"
     ]
    }
   ],
   "source": [
    "fig, ax = plt.subplots()\n",
    "plt.hist(test_data['target'])\n",
    "ax.set_title(f\"Histogram of the values of {TASK} on test data set\")\n",
    "plt.show()\n",
    "print(f\"Minimum value: {test_data['target'].min()}\")\n",
    "print(f\"Minimum value: {test_data['target'].max()}\")"
   ]
  },
  {
   "cell_type": "markdown",
   "metadata": {},
   "source": [
    "### Range of standard deviation of prediction"
   ]
  },
  {
   "cell_type": "code",
   "execution_count": 10,
   "metadata": {},
   "outputs": [
    {
     "name": "stdout",
     "output_type": "stream",
     "text": [
      "Minimum: 0.00 \t \t associated index: 835\n"
     ]
    }
   ],
   "source": [
    "print(f\"Minimum: {test_data['std_prediction'].min():.2f} \\t \\t associated index: {test_data['std_prediction'].idxmin()}\")"
   ]
  },
  {
   "cell_type": "code",
   "execution_count": 11,
   "metadata": {},
   "outputs": [
    {
     "name": "stdout",
     "output_type": "stream",
     "text": [
      "Maximum: 0.56 \t \t associated index: 272\n"
     ]
    }
   ],
   "source": [
    "print(f\"Maximum: {test_data['std_prediction'].max():.2f} \\t \\t associated index: {test_data['std_prediction'].idxmax()}\")"
   ]
  },
  {
   "cell_type": "markdown",
   "metadata": {},
   "source": [
    "### Look at the molecules"
   ]
  },
  {
   "cell_type": "code",
   "execution_count": 12,
   "metadata": {},
   "outputs": [],
   "source": [
    "def ensemble_learning_metric(metric=\"min\", num=3, augmentation_strategy=AUGMENTATION_STRATEGY):\n",
    "    \"\"\"\n",
    "    Return the rdkit molecule object with `metric` standard deviation.\n",
    "    \n",
    "    Parameters\n",
    "    ----------\n",
    "    metric : str\n",
    "        The metric to consider for the standard deviation of the prediction.\n",
    "    num : int\n",
    "        The number `num` to consider.\n",
    "    \n",
    "    Returns\n",
    "    -------\n",
    "    tuple\n",
    "        target, canonical SMILES, random SMILES, RDKit molecule.\n",
    "    \"\"\"\n",
    "    \n",
    "    print(\"Augmentation strategy: \", AUGMENTATION_STRATEGY)\n",
    "    print(\"\\n\")\n",
    "    if metric == \"min\":\n",
    "        selection = test_data.nsmallest(num, 'std_prediction', keep=\"all\")\n",
    "    if metric == \"max\":\n",
    "        selection = test_data.nlargest(num, 'std_prediction', keep=\"all\")\n",
    "        \n",
    "    for index in selection.index:\n",
    "        canonical_smile = test_data.loc[index][\"canonical_smiles\"]\n",
    "        mol = Chem.MolFromSmiles(canonical_smile)\n",
    "        print(\"Canonical SMILES: \",  canonical_smile)\n",
    "        random_smiles = test_data.loc[index][\"augmented_smiles\"]\n",
    "        target = test_data.loc[index][\"target\"]\n",
    "        print(f\"True value: {target:.2f}\")\n",
    "        average_prediction = test_data.loc[index]['average_prediction']\n",
    "        print(f\"Average prediction: {average_prediction:.2f}\")\n",
    "        absolute_error = np.absolute(test_data.loc[index][\"target\"]-test_data.loc[index][\"average_prediction\"])\n",
    "        print(f\"Absolute of the averaged error: {absolute_error:.2f}\")\n",
    "        selection.loc[index, \"absolute_average_error\"] = absolute_error\n",
    "        #print(mol)\n",
    "        print(\"\\n\")\n",
    "        PandasTools.AddMoleculeColumnToFrame(selection, smilesCol='canonical_smiles')\n",
    "    return selection"
   ]
  },
  {
   "cell_type": "code",
   "execution_count": 13,
   "metadata": {},
   "outputs": [
    {
     "name": "stdout",
     "output_type": "stream",
     "text": [
      "Augmentation strategy:  augmentation_with_duplication\n",
      "\n",
      "\n",
      "Canonical SMILES:  c1ccccc1\n",
      "True value: -1.64\n",
      "Average prediction: -1.97\n",
      "Absolute of the averaged error: 0.33\n",
      "\n",
      "\n",
      "Canonical SMILES:  BrCCBr\n",
      "True value: -1.68\n",
      "Average prediction: -1.55\n",
      "Absolute of the averaged error: 0.13\n",
      "\n",
      "\n",
      "Canonical SMILES:  BrCBr\n",
      "True value: -1.17\n",
      "Average prediction: -1.06\n",
      "Absolute of the averaged error: 0.11\n",
      "\n",
      "\n"
     ]
    },
    {
     "data": {
      "text/html": [
       "<div>\n",
       "<style scoped>\n",
       "    .dataframe tbody tr th:only-of-type {\n",
       "        vertical-align: middle;\n",
       "    }\n",
       "\n",
       "    .dataframe tbody tr th {\n",
       "        vertical-align: top;\n",
       "    }\n",
       "\n",
       "    .dataframe thead th {\n",
       "        text-align: right;\n",
       "    }\n",
       "</style>\n",
       "<table border=\"1\" class=\"dataframe\">\n",
       "  <thead>\n",
       "    <tr style=\"text-align: right;\">\n",
       "      <th></th>\n",
       "      <th>target</th>\n",
       "      <th>average_prediction</th>\n",
       "      <th>absolute_average_error</th>\n",
       "      <th>std_prediction</th>\n",
       "      <th>canonical_smiles</th>\n",
       "      <th>ROMol</th>\n",
       "    </tr>\n",
       "  </thead>\n",
       "  <tbody>\n",
       "    <tr>\n",
       "      <th>835</th>\n",
       "      <td>-1.64</td>\n",
       "      <td>-1.973259</td>\n",
       "      <td>0.333259</td>\n",
       "      <td>0.000000</td>\n",
       "      <td>c1ccccc1</td>\n",
       "      <td><img data-content=\"rdkit/molecule\" src=\"data:image/png;base64,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\" alt=\"Mol\"/></td>\n",
       "    </tr>\n",
       "    <tr>\n",
       "      <th>1012</th>\n",
       "      <td>-1.68</td>\n",
       "      <td>-1.547675</td>\n",
       "      <td>0.132325</td>\n",
       "      <td>0.019760</td>\n",
       "      <td>BrCCBr</td>\n",
       "      <td><img data-content=\"rdkit/molecule\" src=\"data:image/png;base64,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\" alt=\"Mol\"/></td>\n",
       "    </tr>\n",
       "    <tr>\n",
       "      <th>614</th>\n",
       "      <td>-1.17</td>\n",
       "      <td>-1.061414</td>\n",
       "      <td>0.108586</td>\n",
       "      <td>0.028614</td>\n",
       "      <td>BrCBr</td>\n",
       "      <td><img data-content=\"rdkit/molecule\" src=\"data:image/png;base64,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\" alt=\"Mol\"/></td>\n",
       "    </tr>\n",
       "  </tbody>\n",
       "</table>\n",
       "</div>"
      ],
      "text/plain": [
       "      target  average_prediction  absolute_average_error  std_prediction  \\\n",
       "835    -1.64           -1.973259                0.333259        0.000000   \n",
       "1012   -1.68           -1.547675                0.132325        0.019760   \n",
       "614    -1.17           -1.061414                0.108586        0.028614   \n",
       "\n",
       "     canonical_smiles                                              ROMol  \n",
       "835          c1ccccc1  <img data-content=\"rdkit/molecule\" src=\"data:i...  \n",
       "1012           BrCCBr  <img data-content=\"rdkit/molecule\" src=\"data:i...  \n",
       "614             BrCBr  <img data-content=\"rdkit/molecule\" src=\"data:i...  "
      ]
     },
     "execution_count": 13,
     "metadata": {},
     "output_type": "execute_result"
    }
   ],
   "source": [
    "high_confidence_mol = ensemble_learning_metric(\"min\")\n",
    "high_confidence_mol[[\"target\", \"average_prediction\", \"absolute_average_error\", \"std_prediction\", \"canonical_smiles\", \"ROMol\"]]"
   ]
  },
  {
   "cell_type": "code",
   "execution_count": 14,
   "metadata": {},
   "outputs": [
    {
     "name": "stdout",
     "output_type": "stream",
     "text": [
      "Augmentation strategy:  augmentation_with_duplication\n",
      "\n",
      "\n",
      "Canonical SMILES:  CC1(C)C(C=C(Br)Br)C1C(=O)OC(C#N)c1cccc(Oc2ccccc2)c1\n",
      "True value: -8.40\n",
      "Average prediction: -7.45\n",
      "Absolute of the averaged error: 0.95\n",
      "\n",
      "\n",
      "Canonical SMILES:  O=C1NC(=O)C2C3C(C(O)(c4ccccc4)c4ccccn4)=CC(C3=C(c3ccccc3)c3ccccn3)C12\n",
      "True value: -3.93\n",
      "Average prediction: -5.62\n",
      "Absolute of the averaged error: 1.69\n",
      "\n",
      "\n",
      "Canonical SMILES:  CCCCC(=O)OC1(C(=O)CO)C(C)CC2C3CCC4=CC(=O)C=CC4(C)C3(F)C(O)CC21C\n",
      "True value: -4.71\n",
      "Average prediction: -5.57\n",
      "Absolute of the averaged error: 0.86\n",
      "\n",
      "\n"
     ]
    },
    {
     "data": {
      "text/html": [
       "<div>\n",
       "<style scoped>\n",
       "    .dataframe tbody tr th:only-of-type {\n",
       "        vertical-align: middle;\n",
       "    }\n",
       "\n",
       "    .dataframe tbody tr th {\n",
       "        vertical-align: top;\n",
       "    }\n",
       "\n",
       "    .dataframe thead th {\n",
       "        text-align: right;\n",
       "    }\n",
       "</style>\n",
       "<table border=\"1\" class=\"dataframe\">\n",
       "  <thead>\n",
       "    <tr style=\"text-align: right;\">\n",
       "      <th></th>\n",
       "      <th>target</th>\n",
       "      <th>average_prediction</th>\n",
       "      <th>absolute_average_error</th>\n",
       "      <th>std_prediction</th>\n",
       "      <th>canonical_smiles</th>\n",
       "      <th>ROMol</th>\n",
       "    </tr>\n",
       "  </thead>\n",
       "  <tbody>\n",
       "    <tr>\n",
       "      <th>272</th>\n",
       "      <td>-8.402</td>\n",
       "      <td>-7.447228</td>\n",
       "      <td>0.954772</td>\n",
       "      <td>0.565000</td>\n",
       "      <td>CC1(C)C(C=C(Br)Br)C1C(=O)OC(C#N)c1cccc(Oc2cccc...</td>\n",
       "      <td><img data-content=\"rdkit/molecule\" src=\"data:image/png;base64,iVBORw0KGgoAAAANSUhEUgAAAMgAAADICAIAAAAiOjnJAAAABmJLR0QA/wD/AP+gvaeTAAAVM0lEQVR4nO2deVRT17rAv4Qgk8xFRcGpggJLBOPQ1jrgUKuN9lXF5dXS1vUUpaumLeqiVCVYquKMl6rltq9vcVuXlavtg1qlFWypFQesUqsyKyA4MAlKEhJI9vtj6zFlEpKzycD3+8MVc06+s0l+2d93ztl7R0AIAQThG6GxG4BYJigWwgQUC2ECioUwAcVCmIBiIUxAsRAmoFgIE1AshAkoFsIEFAthAoqFMAHFQpiAYiFMQLEQJqBYCBNQLIQJKBbCBBQLYQKKhTABxUKYgGIhTECxECagWAgTUCyECSgWwgQUC2ECioUwAcVCmIBiIUxAsRAmoFgIE1AshAkoFsIEFAthAoqFMAHFQpiAYiFMQLEQJqBYCBNQLIQJKBbCBBQLYQKKhTABxUKYgGIhTECx4O5dUKkeP0D4AsWC2FjYvBkAHv+L8AKKBQIBaLVw9aqx22FZiIzdAJNg0yZYsQIcHY3dDgsCeywAAAcHePttKCszdjssCEGv/U3ojRuhuho+/RQKC+GHH2DSJJBIYPNmsLODqChjN8786b1iDR0KZWVQWgrHjsHatRAZCdu3g7U1iETQ3Gzsxpk/vTcVajQAAFZW0NICACASPX2AGE7vFautTygWj6BYKBYTeq9YXCpsmxMRw+m97+KYMWUqlZVINKClRQSPeyzV2LFyJyctwHPGbp3Z03vFunDBT6lUikQKW9tGP78+jo4tGs2jy5e9Bg0aBFBh7NaZPb03Fba0tACASCRqaPg0L89Brf6Ce8bYTbMEertYVlZWnE/cM0ZumUXQS8XSarWEEKFQKBQKObE0Gg1gj8UTvVQs3axHfdLtuozbNsvAfN5EhQIqK8HHh5dgWq12+PDh1tbWoCMZpkIeMROx0tMhPR2GD4edO+Ff/zI8nq2tbUlJCX3MiRUYGNhr75zyjpmkwq+/hvh4kEqhXz8oKOA3NpcK+Q3byzETsRwcgPYlSiU8x/PVS1tbW29vb1tbW37D9nLMJBUuXw7vvgvu7uDpCe7u/Maur6+/ffs2vzERc+ixamshJgaUSoiLA6EQFi+G8+d5DI81OwvMQSyFAjIyIDsb7Ozg99/hP//hd6IWXr5igTmIpTvqgMEIBLx8xQIUC8ViAoqFYjGBB7G0Wu3Dhw8Nj9MhVCZaXOs+5i08Fu/8Y6hYqampjo6Oq1ev5qU17UOHeNIeRfcxb+GxeOcfQ9/N/v37KxSK/Px8XlrTLlWE3Jw6VejtPQHgxrBhAkI8bGx4vEiKqZAFhvZY/v7+AoEgPz9fq9Xy0qC23FSpXszKer+4GACW5+X5nzlzUyDgMT6KxQJDxXJycvL09FQqlWXMJqjrfvAsJECxWMBD8e7n5wcAN27cMDxUu+jeJGZxwxiLdxbwIJa/vz8A5OXlGR6qXVj3WFi8s4C3Hst8xcJUyAIzEEs3/bFIWygWC8xArL59+44aNerKlSvR0dEPHjwYPHgwj2OnHj58SK/u1tXV8RWTQ6VSNbNYuUahgKIi/sPyC+EDd3d3ALhz5w4v0XQpKipasGABbaq9vT0AODg4bNu2TaVSGRhZo9EkJycPGDAAAOzs7BwcHGQymeFhKfn5+aGhoXPnzh00aFBCQkJzczMvYQkh5ORJ8v77ZN8+snIlbzGfcO/evdraWjqFyUD4EWvSpEkAkJmZyUs0Sl1dXVRUlI2NDVUqKiqqoKAgLCyMSubj43PixAm9gx8/fpyecwDA+PHjQ0JC6OOAgIDTp08b0uyqqqqIiAiaWGnjAWDMmDFnzpwxJOxjMjLI0qVEqSSEkA0bSH4+uXGDh7CEVFdXS6VSGxubCRMmiMXi8+fPGxiQH7FWrFgBAImJibxEU6vVSUlJHh4eACAUCkNDQ0tLS7mtGRkZNPkCwMKFC5vKy7sV/Pr163PnzqUvHzx4cHJyMv2C6oaVSCRlZWXdbbZKpUpISHB2dqbNDgsLu3v3blpa2vDhwwFAIBCEhoaWd7O1T8nJIVOnEgAycyZRKAghJDKSpKQQgYCEhZH79/UMS4hcLt+8eXPfvn0BQCQSubi4AICVlVVERERtba3eYfkRa/fu3QDw7rvvGh4qLS1txIgR9AOeMWPGlStX2u6jVqsTEhKcnJw+FouJnR2RyR5/iTunspKEh8eHhACAq6trfHx8U1NT27COjo60j5TJZK126AitVpuSkjJs2DDa7JkzZ/7555/cVoVCER8f7+DgQPN4txNuWRlZupQIBASAeHiQTz4h77xD1q4lO3eSf/6T2NgQAOLqSj77jLS0dCMsIRqNJiUlZciQIVyzr1271tjYKJPJaF/r5uaWkJDQ0s2wFH7EOnnyJACEhIQYEuTixYtTpkyhf+TIkSNTUlI637+iouJhRAQBIABkxAjy448d7trYSGJiiIMDAVA6OcVERXXyXayoqOhWwj1//jytBADA39//+PHjulsTExP37dvX3Nx8+/ZtLuzIkSN/+umnzsM+brZMRuzsCADp04dIpaS+/vEm2mkRQoqKyNy5j9+EoCDS5YSbmZkZHBxM2yMWi3/55RfdrQUFBbNnz6Zbx44dm52d3cWwHPyIVVpaCgADBgzQ7+Xl5eVhYWECgQAA3N3du1ft/vorGT368TsrkZCbN/+2VaMhycnE0/PpDkVFXYl6+vTpgIAALjPeunWr7T6FhYWhoaG02QMHDkxKSmr15a6qqqIpJjAw8LfffiNdTrjNzc0HDhz496uvEgAiEJB//IPoFAPt8P33ZOhQuvP/RkXdu3evk33piQVtg5eXV1JSkkaj4bZev379hRdeOHfuHCEkLS2N9mcCgSAsLOx+dxIuP2JptVr6Dnb3xPDRo0cymYxePujTp49UKq3nvpRdR60me/YQJycCQOzsyOXLRC4nhYVErSbBwY+VmjCh69/mJ1FbZ0blk4RbW1vb6sTi4cOH7QY5derUqFGjOJPKy8tpWPp20czYKuH+8MMPVD6RUFi7eDG5cKFLzVUoiEx2KShIKBQ6OzvHx8e3Tbg1NTVSqZSeWNBDK7ie7wlLliyhNeKqVatqamrkcjmXGV1dXbueGXkQq7S0NCEhwd7evu01RlcdBg4cOFwHsVgcGBjo5eVFvxBvvvmm/oUt5e5dEhZGxo0jJ048PSFfvZp4e5OkJKLzpewWlZWVXG86YsSI1NTUVicWzyzzaVGva5JKpdJNuL6+vidPniQdn1h0nZvFxRKJhEYIDAzMysrSbUOrE4t2I7RrUlFR0Zw5c2jYoKCg33///Zkt0V+sioqK3bt3jx8/ntNIIBAIhd274urh4SEWi8+ePat3M1qjVP7thDwnp0t1/bPgMiP3B86aNUu3Qn8mujWWr69veno6ISQ9Pd3X15c+OXLkSBrczc1t7969hlxRa9VNHjx4sKMTi44oLCx89dVX6UuCg4PpB5SWljZ06FAuM3aecLstVl1dXXJyskQi4fone3v70NDQw4cP08ukaWlpdE+tVlunQ2VlZckTiouLV65cCQB+fn58XjykrFz59IS8poavqGq1ev369ba2ti4uLnpfQmtbY9HMaG9vP2zYMJFIFB4eXlVVZXhrlUrl5s2b7ezsAKBPnz60p8nIyOhWkLY1llwu37BhA+3PXFxccnNzO3ptV8VSKBQpKSkSiYS2EgBsbW0lEklycnJjYyPdJyEhgX7z1Gp159FKSkpsbW0FAgHXV/NJdvbTE3JeuXTpEgCIxWJDgjQ1NW3ZsoXeRfDz86PJLjIyEgCkUilPLX3MrVu3aNaOiYnR6FUM6GZGFxcXmhmLi4tnz57t6uoaGRnZ0QufIVZTU1NaWlpYWBgtEQDAyspq0qRJSUlJDQ0NrXZWq9W0Y9+/f3/nYWkd8Pbbb3ftr9OLNmWp4Zw/fx4AJk6cSAjJyMg4ceJE2zehi5SVlS1cuJC7pLJp0yYA+OSTT3hr6xOCgoIA4PLly4YEKSgooJlRIBDQSw90UQIvL6+OXtKhWDU1Ne+88w4t92htMWXKlAMHDlRXV3fSgmPHjtHKqZOTu/T0dABwcnJicW+RKWfPngWAl156iRAiFosB4NKlS7xEjo6OBoCtW7fyEk2X0aNHA8DVq1dzc3MTExPpVQ/9+O6779atW0cf0wtMQ4YM6WjnDmttZ2dn+o309/eXyWRFRUVZWVkRERHPdbrYy4IFCyZPnlxdXR0fH9/uDiqVSiqVAkBcXJynp2cnoUyQdtcB5D0yv3CRs7Oz16xZc/jwYb1DvfHGGzt37mwVtqOdO94gEn311Vc+Pj7caUsX2bdv37hx4xISElavXs3dLuDYvn17YWFhQEBAREREt8KaAuyGHLIbHt1qvUJ+G9xJtM6uDrz22mvdtQoAgoODlyxZ0tTU9PHHH7faVF5evmPHDgD47LPP6DKN5gU7sdgNj261dG+PdbFMpthv377d3t7+8OHD2dnZus9LpVK5XL5s2bJp06axOC5rdPuVHu4A9IbR0r3GEcvLy2vNmjWEEFrr0Sd//vlnOm2adlrmiG6/YnY1FosutpM/n9WiIBs2bOjfv/+5c+e+//57AFCr1bRmj42NHThwIKODsoZ1jWVGYhmnxwIAR0fHmJgYAFi/fr1Kpdq5c2dBQYG/v/+aNWsYHbEHMOvi3RJqLMqqVasCAgJu3rwZHx+/bds2AEhMTDTHmp0Di/e2YTvagaFYVlZW1KetW7fK5fIlS5ZMnz6d3eF6AN1+xVxqLKbFuxFqLMq8efNefvlljUZjZ2e3a9cupsfqAXT7lV5eYz2zi2W+ot/rr7+u0WimT58+aNAg1sdije5nM3/+/FdeeYW7Jc9jZH4xVvHOfPqvm5sbAPTv35/1gXoA3Xfz66+/NiRUTk5OdHT0559/TmeOMPp1DEKIRqMRCARWVlbTpk2Ty+VjxowxJKBWq6WDxoxZY1EsaQI7/VsKCwsNWQysvLx82bJlEydOzMzM3LJlC32yqakJGLxLur7Onz8/KSlJ7zK3vLz8rbfe+uCDD+h/n/2x6n2vu4vs378feJoZZnTu379Pp2WPHTuWTjfoFnRmFTf4TiqVPnjwQC6Xx8fH29radnFsZ7dQKpX047927ZreQerq6tauXUuTvrOzMx23kpycDACLFi3q6FXMxdq3bx8A0AvxFsCRI0dosSgUCsPDw2u6NkK1ubk5KSmJ1gN05mpJSUlLS8uXX37JDfHYsmUL763VarVHjx4FAGtr68jIyO6OHqMzh/v168c1+9atW/RvcXd3DwgIOHToUEevZS7Wnj17AODDDz9kfaAeo7sTV06dOkUHRQHAxIkT6UyEjIwMOgQPAMaNG8dkJC0hhJAHDx5IpVKaDQcMGND1CRqnTp3iJsCFhIT88ccfRGcGEQBMmTKlk4H5zMWidwbXr1/P+kA9TGFhITdxhZtu0IqrV6/OmDGD7jNixIijR48SQvLy8rhpfd7e3q2m9THiypUr3KzayZMnd55zc3Jypk6dSnf29fWlw1y7O4OIuVhbt24FgOjoaNYHMgqtJq60mtKZmZkJOtP56cIbtODt27ev7kTFHkCr1SYnJ9N0TGeAtc3jDQ0NS5cupXPdPDw89u/f39zcXFlZGR4eTvu8dpcmaBfmYsXFxQHAxo0bWR/IWNDMSOfcctMNuK0HDx6sra2lyzc4OTnRUjo8PLzzuVPsqK+vj4qKopU4nXSu219qNBqxWMzNHKYnFnTKrrW1dbdmEDEXSyaTAYBMJmN9IONSVFTEZYqgoCBu0SK6Xgjt1QBg5syZf/31l3GbSgjJy8ubNWsWV+Fd0JlsnZubW1paShcP404sJBJJUdeWJuBgLtbGjRsBIC4ujvWBTIG0tDQ6NZRmxuPHj7/44ov0sxk7dqyBK2/xTlpamre3N5cZuWkyGRkZ3HXU8ePH63diwVysjz76CAC2bdvG+kAmgkKh2LRpE82M9F8vL6/k5OQeqND1gF5ao5nRzc0tOjp60aJFvJxYMBdr3bp1ALCT77mjJk5xcfHSpUv37NkTFxcnl8uN3ZxnwC1aRKtAXk4smN9p6Z2/Ef/8888fOnTI2K3oKnQtiW+//VYkEl24cCEqKqrzSX5dgblYrW4q3blzRyAQmN2Mwt4AXcCIS4UG0tM3od977z0fH5/Y2Fi1Wq13zMa6+9W3C5saG/hpIsKAHhIrKyurpaVFpVJpNBq6mqpYLP7111/1i3n6mx13i69mJG+5mXtG06xublLw2WKED5iLtWvXLh8fnyNHjojF4osXL6amptKlfK5duxYSEjJv3rzy8nI9wiobG+T1NTb2fY/vjzp77ADvzUYMha8zi07QY7nEjqivqkj/Iub/9n4gr68p/uOX09/s+PGAZd4sMnd6QizSteUS6SJ3HaFWyn85tOvTBcNiJZ5fRM79+au4E59/XHLlt5NJFnuzyKzpIbEoz1wucfHixW0vn2i1mtzMlF1hY2IlnrHzBqbEh9fd7XQJYcQE6FGxKB0tl+jo6Dhr1qxWO5/LytgfMTVW4hkr8fyf9fMr8v/o+QYjemAEsciTla5pZuR+A6K8vFx3OXU6AMjKSrg3fPLe5eNyM1N4+fEgpGcwjliUVr8BQZekps8vX76cW0L4239/0dL8jEVNEVPDmGJRdH8DYs6cOVFRUfoNAEJMCuOLRf7+GxD0TrseA4AQk0JAnqxfZXQqKir8/f0fPXqUmpo6f/58YzcHMQgTEgsA+vXrV11dXVVVRVcnR8wX5rd0ukXvHGNjkZiWWJY0H7+Xg2IhTDAtsTAVWgymJRb2WBaDCX2EhJBd//2SAATYY1kApiSWVtNwp1hoZUJNQvTGhFKhVqMBACF2VxaBKYmlbQEAoRB7LEvAlMTCHsuCMCmxWgAAayzLwITEIloNAAiE2GNZAqbSPTTW3W+ovfPC/BX2zoZO7kZMAVPpsU5/s6O2oqRZ3TTINxjnoFoApiIW4BxUy8JUUiEAjJ7yX88Ner4wJ8Paxm7asnXGbg5iECbUY5397mBhzqkhAS/gFQcLwLRGkCIWgwn1WIglgWIhTECxECagWAgTUCyECSgWwgQUC2ECioUwAcVCmIBiIUxAsRAmoFgIE1AshAkoFsIEFAthAoqFMAHFQpiAYiFMQLEQJqBYCBNQLIQJKBbCBBQLYQKKhTABxUKYgGIhTECxECagWAgTUCyECSgWwgQUC2ECioUwAcVCmIBiIUxAsRAmoFgIE1AshAkoFsIEFAthAoqFMAHFQpiAYiFMQLEQJqBYCBNQLIQJKBbCBBQLYcL/A9BxkGmzJ511AAAAAElFTkSuQmCC\" alt=\"Mol\"/></td>\n",
       "    </tr>\n",
       "    <tr>\n",
       "      <th>922</th>\n",
       "      <td>-3.931</td>\n",
       "      <td>-5.619806</td>\n",
       "      <td>1.688806</td>\n",
       "      <td>0.491904</td>\n",
       "      <td>O=C1NC(=O)C2C3C(C(O)(c4ccccc4)c4ccccn4)=CC(C3=...</td>\n",
       "      <td><img data-content=\"rdkit/molecule\" src=\"data:image/png;base64,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\" alt=\"Mol\"/></td>\n",
       "    </tr>\n",
       "    <tr>\n",
       "      <th>851</th>\n",
       "      <td>-4.710</td>\n",
       "      <td>-5.570812</td>\n",
       "      <td>0.860812</td>\n",
       "      <td>0.487199</td>\n",
       "      <td>CCCCC(=O)OC1(C(=O)CO)C(C)CC2C3CCC4=CC(=O)C=CC4...</td>\n",
       "      <td><img data-content=\"rdkit/molecule\" src=\"data:image/png;base64,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\" alt=\"Mol\"/></td>\n",
       "    </tr>\n",
       "  </tbody>\n",
       "</table>\n",
       "</div>"
      ],
      "text/plain": [
       "     target  average_prediction  absolute_average_error  std_prediction  \\\n",
       "272  -8.402           -7.447228                0.954772        0.565000   \n",
       "922  -3.931           -5.619806                1.688806        0.491904   \n",
       "851  -4.710           -5.570812                0.860812        0.487199   \n",
       "\n",
       "                                      canonical_smiles  \\\n",
       "272  CC1(C)C(C=C(Br)Br)C1C(=O)OC(C#N)c1cccc(Oc2cccc...   \n",
       "922  O=C1NC(=O)C2C3C(C(O)(c4ccccc4)c4ccccn4)=CC(C3=...   \n",
       "851  CCCCC(=O)OC1(C(=O)CO)C(C)CC2C3CCC4=CC(=O)C=CC4...   \n",
       "\n",
       "                                                 ROMol  \n",
       "272  <img data-content=\"rdkit/molecule\" src=\"data:i...  \n",
       "922  <img data-content=\"rdkit/molecule\" src=\"data:i...  \n",
       "851  <img data-content=\"rdkit/molecule\" src=\"data:i...  "
      ]
     },
     "execution_count": 14,
     "metadata": {},
     "output_type": "execute_result"
    }
   ],
   "source": [
    "low_confidence_mol = ensemble_learning_metric(\"max\")\n",
    "low_confidence_mol[[\"target\", \"average_prediction\", \"absolute_average_error\", \"std_prediction\", \"canonical_smiles\", \"ROMol\"]]"
   ]
  },
  {
   "cell_type": "code",
   "execution_count": 15,
   "metadata": {},
   "outputs": [
    {
     "data": {
      "image/png": "[encoded data removed]",
      "text/plain": [
       "<Figure size 432x288 with 1 Axes>"
      ]
     },
     "metadata": {
      "needs_background": "light"
     },
     "output_type": "display_data"
    }
   ],
   "source": [
    "fig, ax = plt.subplots()\n",
    "x = test_data[\"target\"]\n",
    "y = test_data[\"average_prediction\"]\n",
    "err = test_data[\"std_prediction\"]\n",
    "\n",
    "plt.errorbar(x, y, yerr=err, fmt='o')\n",
    "\n",
    "ax.set_xticks(np.arange(-9, 4, 2))\n",
    "ax.set_yticks(np.arange(-9, 4, 2))\n",
    "ax.set_xlabel(\"true\")\n",
    "ax.set_ylabel(\"predicted\")\n",
    "ax.set_aspect(\"equal\", adjustable=\"box\")\n",
    "ax.set_title(f\"True VS Predicted values on {TASK} data set \\n {AUGMENTATION_STRATEGY}\")\n",
    "\n",
    "plt.show()"
   ]
  }
 ],
 "metadata": {
  "kernelspec": {
   "display_name": "Python 3",
   "language": "python",
   "name": "python3"
  },
  "language_info": {
   "codemirror_mode": {
    "name": "ipython",
    "version": 3
   },
   "file_extension": ".py",
   "mimetype": "text/x-python",
   "name": "python",
   "nbconvert_exporter": "python",
   "pygments_lexer": "ipython3",
   "version": "3.8.6"
  }
 },
 "nbformat": 4,
 "nbformat_minor": 4
}
