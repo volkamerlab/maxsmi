{
 "cells": [
  {
   "cell_type": "markdown",
   "metadata": {},
   "source": [
    "# maxsmi\n",
    "## Analysis of results\n",
    "\n",
    "This notebook serves to analyse the results of the simulations ran on the Curta cluster from the Freie Universität Berlin.\n",
    "\n",
    "_Note_:\n",
    "- The notebook will run using the results stored in the `output` folder. They were generated using the following:\n",
    "```\n",
    "(maxsmi) $ python maxsmi/full_workflow.py --task ESOL --string-encoding smiles --aug-strategy-train augmentation_with_reduced_duplication --aug-strategy-test augmentation_with_reduced_duplication --aug-nb-train 70 --aug-nb-test 70 --ml-model CONV1D --eval-strategy True\n",
    "```\n",
    "- a `figures` folder will be created in which the images are saved.\n",
    "\n",
    "📝 Have a look at the [README](https://github.com/volkamerlab/maxsmi/blob/main/README.md) page for more details."
   ]
  },
  {
   "cell_type": "markdown",
   "metadata": {},
   "source": [
    "## Ensemble learning results\n",
    "Here we load the data which contains relevant information if there was augmentation on the test set, such as\n",
    "- the absolute error between the true value and the average value\n",
    "- confidence of the prediction: is the standard deviation low or high?\n",
    "\n",
    "This data represents _only_ the test set (20%) and not the full data (100%)."
   ]
  },
  {
   "cell_type": "markdown",
   "metadata": {},
   "source": [
    "### Goal\n",
    "The aim of this notebook is to look at the best models which use duplication of SMILES (with and with reduced) in training and testing and analyse whether a model could learn inherent symmetry of compounds."
   ]
  },
  {
   "cell_type": "code",
   "execution_count": 13,
   "metadata": {},
   "outputs": [],
   "source": [
    "import os\n",
    "import pandas as pd\n",
    "from collections import Counter\n",
    "import matplotlib.pyplot as plt\n",
    "\n",
    "from rdkit import Chem\n",
    "from rdkit.Chem import PandasTools, Draw\n",
    "\n",
    "from utils_analysis import load_results\n",
    "from utils_smiles import get_num_heavy_atoms"
   ]
  },
  {
   "cell_type": "code",
   "execution_count": 2,
   "metadata": {},
   "outputs": [],
   "source": [
    "# Make a folder for output figures\n",
    "os.makedirs(\"figures\", exist_ok=True)"
   ]
  },
  {
   "cell_type": "markdown",
   "metadata": {},
   "source": [
    "## Dataset\n",
    "We consider the following datasets:\n",
    "\n",
    "- ESOL\n",
    "- lipophilicity\n",
    "\n",
    "_Note_: we do not look at the free_solv data, since the best strategy for this task is augmentation without duplication, which is not the focus of this study, but rather augmentation with or with reduced duplication. \n",
    "\n",
    "Comment/uncomment the dataset of choice in the cell below."
   ]
  },
  {
   "cell_type": "code",
   "execution_count": 16,
   "metadata": {},
   "outputs": [],
   "source": [
    "TASK = \"lipophilicity\"\n",
    "# TASK = \"ESOL\"\n",
    "TASK = \"free_solv\""
   ]
  },
  {
   "cell_type": "markdown",
   "metadata": {},
   "source": [
    "## Best models\n",
    "Retrieve best models for the ESOL and the lipophilicity data sets."
   ]
  },
  {
   "cell_type": "code",
   "execution_count": 17,
   "metadata": {},
   "outputs": [],
   "source": [
    "if TASK == \"ESOL\":\n",
    "    STRING_ENCODING = \"smiles\"\n",
    "    TRAIN_AUGMENTATION = 70\n",
    "    TEST_AUGMENTATION = 70\n",
    "    AUGMENTATION_STRATEGY_TRAIN = \"augmentation_with_reduced_duplication\"\n",
    "    AUGMENTATION_STRATEGY_TEST = \"augmentation_with_reduced_duplication\"\n",
    "    ML_MODEL = \"CONV1D\"\n",
    "\n",
    "elif TASK == \"lipophilicity\":\n",
    "    STRING_ENCODING = \"smiles\"\n",
    "    TRAIN_AUGMENTATION = 80\n",
    "    TEST_AUGMENTATION = 80\n",
    "    AUGMENTATION_STRATEGY_TRAIN = \"augmentation_with_duplication\"\n",
    "    AUGMENTATION_STRATEGY_TEST = \"augmentation_with_duplication\"\n",
    "    ML_MODEL = \"CONV1D\"\n",
    "    \n",
    "elif TASK == \"free_solv\":\n",
    "    STRING_ENCODING = \"smiles\"\n",
    "    TRAIN_AUGMENTATION = 70\n",
    "    TEST_AUGMENTATION = 70\n",
    "    AUGMENTATION_STRATEGY_TRAIN = \"augmentation_without_duplication\"\n",
    "    AUGMENTATION_STRATEGY_TEST = \"augmentation_without_duplication\"\n",
    "    ML_MODEL = \"CONV1D\""
   ]
  },
  {
   "cell_type": "markdown",
   "metadata": {},
   "source": [
    "## Load data"
   ]
  },
  {
   "cell_type": "code",
   "execution_count": 18,
   "metadata": {},
   "outputs": [
    {
     "data": {
      "text/html": [
       "<div>\n",
       "<style scoped>\n",
       "    .dataframe tbody tr th:only-of-type {\n",
       "        vertical-align: middle;\n",
       "    }\n",
       "\n",
       "    .dataframe tbody tr th {\n",
       "        vertical-align: top;\n",
       "    }\n",
       "\n",
       "    .dataframe thead th {\n",
       "        text-align: right;\n",
       "    }\n",
       "</style>\n",
       "<table border=\"1\" class=\"dataframe\">\n",
       "  <thead>\n",
       "    <tr style=\"text-align: right;\">\n",
       "      <th></th>\n",
       "      <th>target</th>\n",
       "      <th>canonical_smiles</th>\n",
       "      <th>augmented_smiles</th>\n",
       "      <th>new_smiles</th>\n",
       "      <th>average_prediction</th>\n",
       "      <th>std_prediction</th>\n",
       "    </tr>\n",
       "  </thead>\n",
       "  <tbody>\n",
       "    <tr>\n",
       "      <th>394</th>\n",
       "      <td>-9.40</td>\n",
       "      <td>O=C(O)c1cc(-c2ccc(F)cc2F)ccc1O</td>\n",
       "      <td>[C(O)(c1c(O)ccc(c1)-c1c(F)cc(F)cc1)=O, c1(cc(-...</td>\n",
       "      <td>[C(O)(c1c(O)ccc(c1)-c1c(F)cc(F)cc1)=O, c1(cc(-...</td>\n",
       "      <td>-9.044036</td>\n",
       "      <td>0.864539</td>\n",
       "    </tr>\n",
       "    <tr>\n",
       "      <th>268</th>\n",
       "      <td>1.23</td>\n",
       "      <td>C1CCCCC1</td>\n",
       "      <td>[C1CCCCC1]</td>\n",
       "      <td>[C1CCCCC1]</td>\n",
       "      <td>0.487129</td>\n",
       "      <td>0.000000</td>\n",
       "    </tr>\n",
       "    <tr>\n",
       "      <th>364</th>\n",
       "      <td>-9.28</td>\n",
       "      <td>CS(C)=O</td>\n",
       "      <td>[O=S(C)C, CS(C)=O, CS(=O)C, S(C)(=O)C, S(C)(C)...</td>\n",
       "      <td>[O=S(C)C, CS(C)=O, CS(=O)C, S(C)(=O)C, S(C)(C)...</td>\n",
       "      <td>-5.858472</td>\n",
       "      <td>0.277142</td>\n",
       "    </tr>\n",
       "    <tr>\n",
       "      <th>612</th>\n",
       "      <td>-5.73</td>\n",
       "      <td>O=[N+]([O-])OCCO[N+](=O)[O-]</td>\n",
       "      <td>[C(CO[N+](=O)[O-])O[N+]([O-])=O, O=[N+]([O-])O...</td>\n",
       "      <td>[C(CO[N+](=O)[O-])O[N+]([O-])=O, O=[N+]([O-])O...</td>\n",
       "      <td>-5.244985</td>\n",
       "      <td>0.529231</td>\n",
       "    </tr>\n",
       "    <tr>\n",
       "      <th>370</th>\n",
       "      <td>0.10</td>\n",
       "      <td>ClC(Cl)=C(Cl)Cl</td>\n",
       "      <td>[C(Cl)(=C(Cl)Cl)Cl, ClC(Cl)=C(Cl)Cl, C(=C(Cl)C...</td>\n",
       "      <td>[C(L)(=C(L)L)L, LC(L)=C(L)L, C(=C(L)L)(L)L, LC...</td>\n",
       "      <td>-0.890657</td>\n",
       "      <td>0.397646</td>\n",
       "    </tr>\n",
       "  </tbody>\n",
       "</table>\n",
       "</div>"
      ],
      "text/plain": [
       "     target                canonical_smiles  \\\n",
       "394   -9.40  O=C(O)c1cc(-c2ccc(F)cc2F)ccc1O   \n",
       "268    1.23                        C1CCCCC1   \n",
       "364   -9.28                         CS(C)=O   \n",
       "612   -5.73    O=[N+]([O-])OCCO[N+](=O)[O-]   \n",
       "370    0.10                 ClC(Cl)=C(Cl)Cl   \n",
       "\n",
       "                                      augmented_smiles  \\\n",
       "394  [C(O)(c1c(O)ccc(c1)-c1c(F)cc(F)cc1)=O, c1(cc(-...   \n",
       "268                                         [C1CCCCC1]   \n",
       "364  [O=S(C)C, CS(C)=O, CS(=O)C, S(C)(=O)C, S(C)(C)...   \n",
       "612  [C(CO[N+](=O)[O-])O[N+]([O-])=O, O=[N+]([O-])O...   \n",
       "370  [C(Cl)(=C(Cl)Cl)Cl, ClC(Cl)=C(Cl)Cl, C(=C(Cl)C...   \n",
       "\n",
       "                                            new_smiles  average_prediction  \\\n",
       "394  [C(O)(c1c(O)ccc(c1)-c1c(F)cc(F)cc1)=O, c1(cc(-...           -9.044036   \n",
       "268                                         [C1CCCCC1]            0.487129   \n",
       "364  [O=S(C)C, CS(C)=O, CS(=O)C, S(C)(=O)C, S(C)(C)...           -5.858472   \n",
       "612  [C(CO[N+](=O)[O-])O[N+]([O-])=O, O=[N+]([O-])O...           -5.244985   \n",
       "370  [C(L)(=C(L)L)L, LC(L)=C(L)L, C(=C(L)L)(L)L, LC...           -0.890657   \n",
       "\n",
       "     std_prediction  \n",
       "394        0.864539  \n",
       "268        0.000000  \n",
       "364        0.277142  \n",
       "612        0.529231  \n",
       "370        0.397646  "
      ]
     },
     "execution_count": 18,
     "metadata": {},
     "output_type": "execute_result"
    }
   ],
   "source": [
    "test_data = load_results(TASK,\n",
    "                         AUGMENTATION_STRATEGY_TRAIN,\n",
    "                         TRAIN_AUGMENTATION,\n",
    "                         AUGMENTATION_STRATEGY_TEST,\n",
    "                         TEST_AUGMENTATION,\n",
    "                         ML_MODEL,\n",
    "                         STRING_ENCODING,\n",
    "                         True)\n",
    "test_data.head()"
   ]
  },
  {
   "cell_type": "code",
   "execution_count": 19,
   "metadata": {},
   "outputs": [
    {
     "data": {
      "text/plain": [
       "2.4536542892456055"
      ]
     },
     "execution_count": 19,
     "metadata": {},
     "output_type": "execute_result"
    }
   ],
   "source": [
    "test_data[\"std_prediction\"].max()"
   ]
  },
  {
   "cell_type": "code",
   "execution_count": 20,
   "metadata": {},
   "outputs": [],
   "source": [
    "std_dev_threshold = 0.4"
   ]
  },
  {
   "cell_type": "code",
   "execution_count": 21,
   "metadata": {},
   "outputs": [],
   "source": [
    "high_std_dev = test_data[test_data[\"std_prediction\"] >= std_dev_threshold ]"
   ]
  },
  {
   "cell_type": "code",
   "execution_count": 22,
   "metadata": {},
   "outputs": [],
   "source": [
    "low_std_dev = test_data[test_data[\"std_prediction\"] < std_dev_threshold ]"
   ]
  },
  {
   "cell_type": "code",
   "execution_count": 23,
   "metadata": {
    "jupyter": {
     "source_hidden": true
    }
   },
   "outputs": [
    {
     "data": {
      "text/plain": [
       "((82, 6), (47, 6))"
      ]
     },
     "execution_count": 23,
     "metadata": {},
     "output_type": "execute_result"
    }
   ],
   "source": [
    "high_std_dev.shape, low_std_dev.shape"
   ]
  },
  {
   "cell_type": "code",
   "execution_count": 25,
   "metadata": {},
   "outputs": [
    {
     "data": {
      "image/png": "[encoded data removed]",
      "text/plain": [
       "<Figure size 432x288 with 1 Axes>"
      ]
     },
     "metadata": {
      "needs_background": "light"
     },
     "output_type": "display_data"
    }
   ],
   "source": [
    "plt.errorbar(test_data[\"target\"], test_data[\"average_prediction\"], yerr=test_data[\"std_prediction\"], fmt='o')#, ecolor=None, elinewidth=None, capsize=None, barsabove=False,)\n",
    "plt.show()"
   ]
  },
  {
   "cell_type": "code",
   "execution_count": 26,
   "metadata": {},
   "outputs": [
    {
     "data": {
      "image/png": "[encoded data removed]",
      "text/plain": [
       "<Figure size 432x288 with 1 Axes>"
      ]
     },
     "metadata": {
      "needs_background": "light"
     },
     "output_type": "display_data"
    }
   ],
   "source": [
    "plt.hist(test_data[\"std_prediction\"], alpha=0.5)\n",
    "plt.show()"
   ]
  },
  {
   "cell_type": "markdown",
   "metadata": {},
   "source": [
    "## Load the canonical counterpart"
   ]
  },
  {
   "cell_type": "code",
   "execution_count": null,
   "metadata": {},
   "outputs": [],
   "source": [
    "test_data_canonical = load_results(TASK,\n",
    "                                   \"no_augmentation\",\n",
    "                                   0,\n",
    "                                   \"no_augmentation\",\n",
    "                                   0,\n",
    "                                   ML_MODEL,\n",
    "                                   STRING_ENCODING,\n",
    "                                   True)\n",
    "test_data_canonical.head()"
   ]
  },
  {
   "cell_type": "markdown",
   "metadata": {},
   "source": [
    "Merge the tables into one dataframe."
   ]
  },
  {
   "cell_type": "code",
   "execution_count": null,
   "metadata": {},
   "outputs": [],
   "source": [
    "test_data_canonical = test_data_canonical.rename(columns={\"average_\\\n",
    "prediction\": \"canonical_prediction\"})"
   ]
  },
  {
   "cell_type": "code",
   "execution_count": null,
   "metadata": {},
   "outputs": [],
   "source": [
    "data = pd.concat([test_data, test_data_canonical[\"canonical_prediction\"]],\n",
    "                 axis=1)\n",
    "data.head()"
   ]
  },
  {
   "cell_type": "markdown",
   "metadata": {},
   "source": [
    "### Size of molecules\n",
    "Compute the number of heavy atoms in each molecule."
   ]
  },
  {
   "cell_type": "code",
   "execution_count": null,
   "metadata": {},
   "outputs": [],
   "source": [
    "data[\"num_heavy_atoms\"] = data[\"canonical_\\\n",
    "smiles\"].apply(get_num_heavy_atoms)"
   ]
  },
  {
   "cell_type": "markdown",
   "metadata": {},
   "source": [
    "## Difference in prediction error with and without augmentation"
   ]
  },
  {
   "cell_type": "code",
   "execution_count": null,
   "metadata": {},
   "outputs": [],
   "source": [
    "data[\"average_error\"] = (data[\"target\"] - data[\"average_prediction\"]).abs()\n",
    "data[\"canonical_error\"] = (data[\"target\"] - data[\"canonical_prediction\"]).abs()\n",
    "data.head()"
   ]
  },
  {
   "cell_type": "code",
   "execution_count": null,
   "metadata": {},
   "outputs": [],
   "source": [
    "data[\"errors_difference\"] = (data[\"average_error\"] -\n",
    "                             data[\"canonical_error\"]).abs()"
   ]
  },
  {
   "cell_type": "code",
   "execution_count": null,
   "metadata": {},
   "outputs": [],
   "source": [
    "data = data[data[\"average_error\"] < data[\"canonical_error\"]]"
   ]
  },
  {
   "cell_type": "code",
   "execution_count": null,
   "metadata": {},
   "outputs": [],
   "source": [
    "for index in data.index:\n",
    "    nb_unique_smiles = len(Counter(data.loc[index][\"augmented_smiles\"]))\n",
    "    data.loc[index,\n",
    "             \"nb_unique_smiles\"] = nb_unique_smiles\n",
    "\n",
    "data[\"nb_unique_smiles\"] = data[\"nb_unique_smiles\"].astype(\"int32\")"
   ]
  },
  {
   "cell_type": "code",
   "execution_count": null,
   "metadata": {},
   "outputs": [],
   "source": [
    "data.head(2)"
   ]
  },
  {
   "cell_type": "code",
   "execution_count": null,
   "metadata": {},
   "outputs": [],
   "source": [
    "data = data[data[\"num_heavy_atoms\"] < 15]\n",
    "data = data.sort_values(by=\"errors_difference\", ascending=False)[0:4]\n",
    "data = data[[\"canonical_smiles\",\n",
    "             \"target\",\n",
    "             \"canonical_prediction\",\n",
    "             \"average_prediction\",\n",
    "             \"std_prediction\",\n",
    "             \"canonical_error\",\n",
    "             \"average_error\",\n",
    "             ]]"
   ]
  },
  {
   "cell_type": "markdown",
   "metadata": {},
   "source": [
    "## Draw molecules"
   ]
  },
  {
   "cell_type": "code",
   "execution_count": null,
   "metadata": {},
   "outputs": [],
   "source": [
    "for index in data.index:\n",
    "    canonical_smile = data.loc[index][\"canonical_smiles\"]\n",
    "    mol = Chem.MolFromSmiles(canonical_smile)\n",
    "    PandasTools.AddMoleculeColumnToFrame(data,\n",
    "                                         smilesCol=\"canonical_smiles\")\n",
    "data = data.rename(columns={\"ROMol\": \"graph\"})"
   ]
  },
  {
   "cell_type": "code",
   "execution_count": null,
   "metadata": {},
   "outputs": [],
   "source": [
    "df = data.style.\\\n",
    "    set_caption(f\"Data: {TASK}\").\\\n",
    "    format({\"target\": \"{:.2f}\",\n",
    "            \"prediction\": \"{:.2f}\",\n",
    "            \"average_prediction\": \"{:.2f}\",\n",
    "            \"std_prediction\": \"{:.2f}\",\n",
    "            \"canonical_error\": \"{:.2f}\",\n",
    "            \"average_error\": \"{:.2f}\",\n",
    "            \"errors_difference\": \"{:.2f}\"})\n",
    "df"
   ]
  },
  {
   "cell_type": "markdown",
   "metadata": {},
   "source": [
    "### Export molecules"
   ]
  },
  {
   "cell_type": "code",
   "execution_count": null,
   "metadata": {},
   "outputs": [],
   "source": [
    "def export_rdkit_images(task):\n",
    "    \"\"\"\n",
    "    Export molecular graph for interesting molecules.\n",
    "    \"\"\"\n",
    "    indices = []\n",
    "    if task == \"ESOL\":\n",
    "        indices = [1063, 971]\n",
    "    elif task == \"lipophilicity\":\n",
    "        indices = [1701]\n",
    "    for ind in indices:\n",
    "        canonical_smile = df.data.canonical_smiles[ind]\n",
    "        molecule = Chem.MolFromSmiles(canonical_smile)\n",
    "        Draw.MolToFile(molecule, f\"figures/{task}_{canonical_smile}.png\")"
   ]
  },
  {
   "cell_type": "code",
   "execution_count": null,
   "metadata": {},
   "outputs": [],
   "source": [
    "export_rdkit_images(TASK)"
   ]
  }
 ],
 "metadata": {
  "kernelspec": {
   "display_name": "Python 3",
   "language": "python",
   "name": "python3"
  },
  "language_info": {
   "codemirror_mode": {
    "name": "ipython",
    "version": 3
   },
   "file_extension": ".py",
   "mimetype": "text/x-python",
   "name": "python",
   "nbconvert_exporter": "python",
   "pygments_lexer": "ipython3",
   "version": "3.8.6"
  }
 },
 "nbformat": 4,
 "nbformat_minor": 4
}
