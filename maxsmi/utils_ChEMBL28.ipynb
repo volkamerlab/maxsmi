{
 "cells": [
  {
   "cell_type": "markdown",
   "metadata": {},
   "source": [
    "# Data\n",
    "## ChEMBL v.28\n",
    "This notebook exploits ChEMBL data, more specifically the curated version available on openkinome, see https://github.com/openkinome/kinodata/releases/tag/v0.2 ."
   ]
  },
  {
   "cell_type": "code",
   "execution_count": 1,
   "metadata": {},
   "outputs": [],
   "source": [
    "import pandas as pd\n",
    "from collections import Counter\n",
    "import matplotlib.pyplot as plt"
   ]
  },
  {
   "cell_type": "markdown",
   "metadata": {},
   "source": [
    "Retrieve data from [openkinome](https://github.com/openkinome/kinodata)."
   ]
  },
  {
   "cell_type": "code",
   "execution_count": 2,
   "metadata": {},
   "outputs": [
    {
     "name": "stdout",
     "output_type": "stream",
     "text": [
      "Shape of data: (186972, 17)\n"
     ]
    }
   ],
   "source": [
    "path = \"https://github.com/openkinome/kinodata/releases/download/\\\n",
    "v0.2/activities-chembl28_v0.2.zip\"\n",
    "\n",
    "data = pd.read_csv(path)\n",
    "print(f\"Shape of data: {data.shape}\")"
   ]
  },
  {
   "cell_type": "code",
   "execution_count": 3,
   "metadata": {},
   "outputs": [
    {
     "data": {
      "text/html": [
       "<div>\n",
       "<style scoped>\n",
       "    .dataframe tbody tr th:only-of-type {\n",
       "        vertical-align: middle;\n",
       "    }\n",
       "\n",
       "    .dataframe tbody tr th {\n",
       "        vertical-align: top;\n",
       "    }\n",
       "\n",
       "    .dataframe thead th {\n",
       "        text-align: right;\n",
       "    }\n",
       "</style>\n",
       "<table border=\"1\" class=\"dataframe\">\n",
       "  <thead>\n",
       "    <tr style=\"text-align: right;\">\n",
       "      <th></th>\n",
       "      <th>Unnamed: 0</th>\n",
       "      <th>activities.activity_id</th>\n",
       "      <th>assays.chembl_id</th>\n",
       "      <th>target_dictionary.chembl_id</th>\n",
       "      <th>molecule_dictionary.chembl_id</th>\n",
       "      <th>molecule_dictionary.max_phase</th>\n",
       "      <th>activities.standard_type</th>\n",
       "      <th>activities.standard_value</th>\n",
       "      <th>activities.standard_units</th>\n",
       "      <th>compound_structures.canonical_smiles</th>\n",
       "      <th>compound_structures.standard_inchi</th>\n",
       "      <th>component_sequences.sequence</th>\n",
       "      <th>assays.confidence_score</th>\n",
       "      <th>docs.chembl_id</th>\n",
       "      <th>docs.year</th>\n",
       "      <th>docs.authors</th>\n",
       "      <th>UniprotID</th>\n",
       "    </tr>\n",
       "  </thead>\n",
       "  <tbody>\n",
       "    <tr>\n",
       "      <th>0</th>\n",
       "      <td>96251</td>\n",
       "      <td>16291323</td>\n",
       "      <td>CHEMBL3705523</td>\n",
       "      <td>CHEMBL2973</td>\n",
       "      <td>CHEMBL3666724</td>\n",
       "      <td>0</td>\n",
       "      <td>pIC50</td>\n",
       "      <td>14.096910</td>\n",
       "      <td>nM</td>\n",
       "      <td>CCCC(=O)Nc1cccc(-c2nc(Nc3ccc4[nH]ncc4c3)c3cc(O...</td>\n",
       "      <td>InChI=1S/C31H33N7O3/c1-2-4-29(40)33-22-6-3-5-2...</td>\n",
       "      <td>MSRPPPTGKMPGAPETAPGDGAGASRQRKLEALIRDPRSPINVESL...</td>\n",
       "      <td>9</td>\n",
       "      <td>CHEMBL3639077</td>\n",
       "      <td>2014.0</td>\n",
       "      <td>NaN</td>\n",
       "      <td>O75116</td>\n",
       "    </tr>\n",
       "    <tr>\n",
       "      <th>1</th>\n",
       "      <td>97672</td>\n",
       "      <td>16306943</td>\n",
       "      <td>CHEMBL3705523</td>\n",
       "      <td>CHEMBL2973</td>\n",
       "      <td>CHEMBL1968705</td>\n",
       "      <td>0</td>\n",
       "      <td>pIC50</td>\n",
       "      <td>14.000000</td>\n",
       "      <td>nM</td>\n",
       "      <td>CCCC(=O)Nc1cccc(-c2nc(Nc3ccc4[nH]ncc4c3)c3cc(O...</td>\n",
       "      <td>InChI=1S/C31H33N7O2/c1-2-6-29(39)33-23-8-5-7-2...</td>\n",
       "      <td>MSRPPPTGKMPGAPETAPGDGAGASRQRKLEALIRDPRSPINVESL...</td>\n",
       "      <td>9</td>\n",
       "      <td>CHEMBL3639077</td>\n",
       "      <td>2014.0</td>\n",
       "      <td>NaN</td>\n",
       "      <td>O75116</td>\n",
       "    </tr>\n",
       "    <tr>\n",
       "      <th>2</th>\n",
       "      <td>93879</td>\n",
       "      <td>16264754</td>\n",
       "      <td>CHEMBL3705523</td>\n",
       "      <td>CHEMBL2973</td>\n",
       "      <td>CHEMBL3666728</td>\n",
       "      <td>0</td>\n",
       "      <td>pIC50</td>\n",
       "      <td>14.000000</td>\n",
       "      <td>nM</td>\n",
       "      <td>CCCC(=O)Nc1cccc(-c2nc(Nc3ccc4[nH]ncc4c3)c3cc(O...</td>\n",
       "      <td>InChI=1S/C34H40N8O3/c1-5-7-32(43)36-24-9-6-8-2...</td>\n",
       "      <td>MSRPPPTGKMPGAPETAPGDGAGASRQRKLEALIRDPRSPINVESL...</td>\n",
       "      <td>9</td>\n",
       "      <td>CHEMBL3639077</td>\n",
       "      <td>2014.0</td>\n",
       "      <td>NaN</td>\n",
       "      <td>O75116</td>\n",
       "    </tr>\n",
       "    <tr>\n",
       "      <th>3</th>\n",
       "      <td>100714</td>\n",
       "      <td>16340050</td>\n",
       "      <td>CHEMBL3705523</td>\n",
       "      <td>CHEMBL2973</td>\n",
       "      <td>CHEMBL1997433</td>\n",
       "      <td>0</td>\n",
       "      <td>pIC50</td>\n",
       "      <td>13.958607</td>\n",
       "      <td>nM</td>\n",
       "      <td>CCCC(=O)Nc1cccc(-c2nc(Nc3ccc4[nH]ncc4c3)c3cc(O...</td>\n",
       "      <td>InChI=1S/C28H28N6O3/c1-3-5-26(35)30-20-7-4-6-1...</td>\n",
       "      <td>MSRPPPTGKMPGAPETAPGDGAGASRQRKLEALIRDPRSPINVESL...</td>\n",
       "      <td>9</td>\n",
       "      <td>CHEMBL3639077</td>\n",
       "      <td>2014.0</td>\n",
       "      <td>NaN</td>\n",
       "      <td>O75116</td>\n",
       "    </tr>\n",
       "    <tr>\n",
       "      <th>4</th>\n",
       "      <td>95877</td>\n",
       "      <td>16287186</td>\n",
       "      <td>CHEMBL3705523</td>\n",
       "      <td>CHEMBL2973</td>\n",
       "      <td>CHEMBL3666721</td>\n",
       "      <td>0</td>\n",
       "      <td>pIC50</td>\n",
       "      <td>13.920819</td>\n",
       "      <td>nM</td>\n",
       "      <td>CCCC(=O)Nc1cccc(-c2nc(Nc3ccc4[nH]ncc4c3)c3cc(O...</td>\n",
       "      <td>InChI=1S/C32H35N7O2/c1-2-7-30(40)34-24-9-6-8-2...</td>\n",
       "      <td>MSRPPPTGKMPGAPETAPGDGAGASRQRKLEALIRDPRSPINVESL...</td>\n",
       "      <td>9</td>\n",
       "      <td>CHEMBL3639077</td>\n",
       "      <td>2014.0</td>\n",
       "      <td>NaN</td>\n",
       "      <td>O75116</td>\n",
       "    </tr>\n",
       "  </tbody>\n",
       "</table>\n",
       "</div>"
      ],
      "text/plain": [
       "   Unnamed: 0  activities.activity_id assays.chembl_id  \\\n",
       "0       96251                16291323    CHEMBL3705523   \n",
       "1       97672                16306943    CHEMBL3705523   \n",
       "2       93879                16264754    CHEMBL3705523   \n",
       "3      100714                16340050    CHEMBL3705523   \n",
       "4       95877                16287186    CHEMBL3705523   \n",
       "\n",
       "  target_dictionary.chembl_id molecule_dictionary.chembl_id  \\\n",
       "0                  CHEMBL2973                 CHEMBL3666724   \n",
       "1                  CHEMBL2973                 CHEMBL1968705   \n",
       "2                  CHEMBL2973                 CHEMBL3666728   \n",
       "3                  CHEMBL2973                 CHEMBL1997433   \n",
       "4                  CHEMBL2973                 CHEMBL3666721   \n",
       "\n",
       "   molecule_dictionary.max_phase activities.standard_type  \\\n",
       "0                              0                    pIC50   \n",
       "1                              0                    pIC50   \n",
       "2                              0                    pIC50   \n",
       "3                              0                    pIC50   \n",
       "4                              0                    pIC50   \n",
       "\n",
       "   activities.standard_value activities.standard_units  \\\n",
       "0                  14.096910                        nM   \n",
       "1                  14.000000                        nM   \n",
       "2                  14.000000                        nM   \n",
       "3                  13.958607                        nM   \n",
       "4                  13.920819                        nM   \n",
       "\n",
       "                compound_structures.canonical_smiles  \\\n",
       "0  CCCC(=O)Nc1cccc(-c2nc(Nc3ccc4[nH]ncc4c3)c3cc(O...   \n",
       "1  CCCC(=O)Nc1cccc(-c2nc(Nc3ccc4[nH]ncc4c3)c3cc(O...   \n",
       "2  CCCC(=O)Nc1cccc(-c2nc(Nc3ccc4[nH]ncc4c3)c3cc(O...   \n",
       "3  CCCC(=O)Nc1cccc(-c2nc(Nc3ccc4[nH]ncc4c3)c3cc(O...   \n",
       "4  CCCC(=O)Nc1cccc(-c2nc(Nc3ccc4[nH]ncc4c3)c3cc(O...   \n",
       "\n",
       "                  compound_structures.standard_inchi  \\\n",
       "0  InChI=1S/C31H33N7O3/c1-2-4-29(40)33-22-6-3-5-2...   \n",
       "1  InChI=1S/C31H33N7O2/c1-2-6-29(39)33-23-8-5-7-2...   \n",
       "2  InChI=1S/C34H40N8O3/c1-5-7-32(43)36-24-9-6-8-2...   \n",
       "3  InChI=1S/C28H28N6O3/c1-3-5-26(35)30-20-7-4-6-1...   \n",
       "4  InChI=1S/C32H35N7O2/c1-2-7-30(40)34-24-9-6-8-2...   \n",
       "\n",
       "                        component_sequences.sequence  assays.confidence_score  \\\n",
       "0  MSRPPPTGKMPGAPETAPGDGAGASRQRKLEALIRDPRSPINVESL...                        9   \n",
       "1  MSRPPPTGKMPGAPETAPGDGAGASRQRKLEALIRDPRSPINVESL...                        9   \n",
       "2  MSRPPPTGKMPGAPETAPGDGAGASRQRKLEALIRDPRSPINVESL...                        9   \n",
       "3  MSRPPPTGKMPGAPETAPGDGAGASRQRKLEALIRDPRSPINVESL...                        9   \n",
       "4  MSRPPPTGKMPGAPETAPGDGAGASRQRKLEALIRDPRSPINVESL...                        9   \n",
       "\n",
       "  docs.chembl_id  docs.year docs.authors UniprotID  \n",
       "0  CHEMBL3639077     2014.0          NaN    O75116  \n",
       "1  CHEMBL3639077     2014.0          NaN    O75116  \n",
       "2  CHEMBL3639077     2014.0          NaN    O75116  \n",
       "3  CHEMBL3639077     2014.0          NaN    O75116  \n",
       "4  CHEMBL3639077     2014.0          NaN    O75116  "
      ]
     },
     "execution_count": 3,
     "metadata": {},
     "output_type": "execute_result"
    }
   ],
   "source": [
    "data.head()"
   ]
  },
  {
   "cell_type": "markdown",
   "metadata": {},
   "source": [
    "Drop NA values in important columns."
   ]
  },
  {
   "cell_type": "code",
   "execution_count": 4,
   "metadata": {},
   "outputs": [],
   "source": [
    "data = data.dropna(\n",
    "    subset=[\n",
    "        \"compound_structures.canonical_smiles\",\n",
    "        \"component_sequences.sequence\",\n",
    "        \"activities.standard_type\",\n",
    "    ]\n",
    ")"
   ]
  },
  {
   "cell_type": "markdown",
   "metadata": {},
   "source": [
    "Look at the type of activity and the associated units."
   ]
  },
  {
   "cell_type": "code",
   "execution_count": 5,
   "metadata": {},
   "outputs": [
    {
     "name": "stdout",
     "output_type": "stream",
     "text": [
      "Activities: {'pKi', 'pKd', 'pIC50'}\n",
      "Units: {'nM'}\n"
     ]
    }
   ],
   "source": [
    "print(f\"Activities: {set(data['activities.standard_type'])}\\n\"\n",
    "      f\"Units: {set(data['activities.standard_units'])}\")"
   ]
  },
  {
   "cell_type": "markdown",
   "metadata": {},
   "source": [
    "Let's keep the entries which have pIC50 values."
   ]
  },
  {
   "cell_type": "code",
   "execution_count": 6,
   "metadata": {},
   "outputs": [],
   "source": [
    "data = data[data[\"activities.standard_type\"] == \"pIC50\"]"
   ]
  },
  {
   "cell_type": "markdown",
   "metadata": {},
   "source": [
    "Let's look at the number of different Uniprot IDS."
   ]
  },
  {
   "cell_type": "code",
   "execution_count": 7,
   "metadata": {},
   "outputs": [
    {
     "name": "stdout",
     "output_type": "stream",
     "text": [
      "Number of unique uniprot IDs: 432\n"
     ]
    }
   ],
   "source": [
    "print(f\"Number of unique uniprot IDs: {len(set(data['UniprotID']))}\")"
   ]
  },
  {
   "cell_type": "markdown",
   "metadata": {},
   "source": [
    "Look at the 3 kinases with the most entries."
   ]
  },
  {
   "cell_type": "code",
   "execution_count": 8,
   "metadata": {},
   "outputs": [
    {
     "name": "stdout",
     "output_type": "stream",
     "text": [
      " 3 most common uniprot IDs:\n",
      "[('P35968', 7734), ('P00533', 6026), ('O60674', 4415)]\n"
     ]
    }
   ],
   "source": [
    "unitprot_ids = Counter(data[\"UniprotID\"])\n",
    "print(f\" 3 most common uniprot IDs:\\n{unitprot_ids.most_common()[0:3]}\")"
   ]
  },
  {
   "cell_type": "markdown",
   "metadata": {},
   "source": [
    "- VGRF is uniprot ID P35968, see https://www.uniprot.org/uniprot/P35968\n",
    "\n",
    "- EGRF is uniprot ID P00533, see  https://www.uniprot.org/uniprot/P00533\n",
    "\n",
    "Let's consider the EGFR kinase."
   ]
  },
  {
   "cell_type": "code",
   "execution_count": 9,
   "metadata": {},
   "outputs": [
    {
     "name": "stdout",
     "output_type": "stream",
     "text": [
      "Shape of data: (6026, 17)\n"
     ]
    }
   ],
   "source": [
    "data = data[data[\"UniprotID\"] == \"P00533\"]\n",
    "print(f\"Shape of data: {data.shape}\")"
   ]
  },
  {
   "cell_type": "markdown",
   "metadata": {},
   "source": [
    "Keep necessary columns, rename them and reset index."
   ]
  },
  {
   "cell_type": "code",
   "execution_count": 10,
   "metadata": {},
   "outputs": [
    {
     "data": {
      "text/html": [
       "<div>\n",
       "<style scoped>\n",
       "    .dataframe tbody tr th:only-of-type {\n",
       "        vertical-align: middle;\n",
       "    }\n",
       "\n",
       "    .dataframe tbody tr th {\n",
       "        vertical-align: top;\n",
       "    }\n",
       "\n",
       "    .dataframe thead th {\n",
       "        text-align: right;\n",
       "    }\n",
       "</style>\n",
       "<table border=\"1\" class=\"dataframe\">\n",
       "  <thead>\n",
       "    <tr style=\"text-align: right;\">\n",
       "      <th></th>\n",
       "      <th>smiles</th>\n",
       "      <th>activities.standard_value</th>\n",
       "    </tr>\n",
       "  </thead>\n",
       "  <tbody>\n",
       "    <tr>\n",
       "      <th>0</th>\n",
       "      <td>Brc1cccc(Nc2ncnc3cc4ccccc4cc23)c1</td>\n",
       "      <td>11.522879</td>\n",
       "    </tr>\n",
       "    <tr>\n",
       "      <th>1</th>\n",
       "      <td>CCOc1cc2ncnc(Nc3cccc(Br)c3)c2cc1OCC</td>\n",
       "      <td>11.221849</td>\n",
       "    </tr>\n",
       "    <tr>\n",
       "      <th>2</th>\n",
       "      <td>CN(C)c1cc2c(Nc3cccc(Br)c3)ncnc2cn1</td>\n",
       "      <td>11.221849</td>\n",
       "    </tr>\n",
       "    <tr>\n",
       "      <th>3</th>\n",
       "      <td>Brc1cccc(Nc2ncnc3cc4[nH]cnc4cc23)c1</td>\n",
       "      <td>11.096910</td>\n",
       "    </tr>\n",
       "    <tr>\n",
       "      <th>4</th>\n",
       "      <td>CNc1cc2c(Nc3cccc(Br)c3)ncnc2cn1</td>\n",
       "      <td>11.096910</td>\n",
       "    </tr>\n",
       "  </tbody>\n",
       "</table>\n",
       "</div>"
      ],
      "text/plain": [
       "                                smiles  activities.standard_value\n",
       "0    Brc1cccc(Nc2ncnc3cc4ccccc4cc23)c1                  11.522879\n",
       "1  CCOc1cc2ncnc(Nc3cccc(Br)c3)c2cc1OCC                  11.221849\n",
       "2   CN(C)c1cc2c(Nc3cccc(Br)c3)ncnc2cn1                  11.221849\n",
       "3  Brc1cccc(Nc2ncnc3cc4[nH]cnc4cc23)c1                  11.096910\n",
       "4      CNc1cc2c(Nc3cccc(Br)c3)ncnc2cn1                  11.096910"
      ]
     },
     "execution_count": 10,
     "metadata": {},
     "output_type": "execute_result"
    }
   ],
   "source": [
    "data = data[[\"compound_structures.canonical_smiles\",\n",
    "             \"activities.standard_value\"]]\n",
    "data = data.rename(columns={\"compound_structures.canonical_smiles\": \"smiles\"})\n",
    "data = data.reset_index(drop=True)\n",
    "data.head()"
   ]
  },
  {
   "cell_type": "code",
   "execution_count": 11,
   "metadata": {},
   "outputs": [
    {
     "data": {
      "image/png": "[encoded data removed]",
      "text/plain": [
       "<Figure size 432x288 with 1 Axes>"
      ]
     },
     "metadata": {
      "needs_background": "light"
     },
     "output_type": "display_data"
    }
   ],
   "source": [
    "plt.hist(data[\"activities.standard_value\"])\n",
    "plt.title(\"Histogram of pIC50 values from ChEMBLv28 for EGFR\")\n",
    "plt.show()"
   ]
  }
 ],
 "metadata": {
  "kernelspec": {
   "display_name": "Python 3",
   "language": "python",
   "name": "python3"
  },
  "language_info": {
   "codemirror_mode": {
    "name": "ipython",
    "version": 3
   },
   "file_extension": ".py",
   "mimetype": "text/x-python",
   "name": "python",
   "nbconvert_exporter": "python",
   "pygments_lexer": "ipython3",
   "version": "3.8.6"
  }
 },
 "nbformat": 4,
 "nbformat_minor": 4
}
