{
 "cells": [
  {
   "cell_type": "markdown",
   "metadata": {},
   "source": [
    "# User prediction"
   ]
  },
  {
   "cell_type": "markdown",
   "metadata": {},
   "source": [
    "Let's see how a user can run `maxsmi` for compound prediction."
   ]
  },
  {
   "cell_type": "code",
   "execution_count": 1,
   "metadata": {},
   "outputs": [],
   "source": [
    "from pathlib import Path\n",
    "import ast\n",
    "import os\n",
    "import pandas as pd\n",
    "from IPython.display import Image"
   ]
  },
  {
   "cell_type": "code",
   "execution_count": 2,
   "metadata": {},
   "outputs": [],
   "source": [
    "# Path to this notebook\n",
    "HERE = Path(_dh[-1])"
   ]
  },
  {
   "cell_type": "code",
   "execution_count": 3,
   "metadata": {},
   "outputs": [
    {
     "name": "stdout",
     "output_type": "stream",
     "text": [
      "usage: prediction_unlabeled_data.py [-h] [--task TASK]\n",
      "                                    [--smiles_prediction USER_SMILES]\n",
      "\n",
      "optional arguments:\n",
      "  -h, --help            show this help message and exit\n",
      "  --task TASK           data to be used\n",
      "  --smiles_prediction USER_SMILES\n",
      "                        SMILES for prediction\n"
     ]
    }
   ],
   "source": [
    "%%bash\n",
    "cd ../..\n",
    "python maxsmi/prediction_unlabeled_data.py --help"
   ]
  },
  {
   "cell_type": "markdown",
   "metadata": {},
   "source": [
    "Let's predict lipophilicity for the semaxanib drug given by the SMILES `O=C2C(\\c1ccccc1N2)=C/c3c(cc([nH]3)C)C`:"
   ]
  },
  {
   "cell_type": "code",
   "execution_count": 4,
   "metadata": {},
   "outputs": [
    {
     "name": "stdout",
     "output_type": "stream",
     "text": [
      "Script completed. Output can be found at maxsmi/user_prediction/lipophilicity_O=C2C(%5Cc1ccccc1N2)=C%2Fc3c(cc([nH]3)C)C/\n"
     ]
    }
   ],
   "source": [
    "%%bash\n",
    "cd ../..\n",
    "python maxsmi/prediction_unlabeled_data.py --task=lipophilicity --smiles_prediction=\"O=C2C(\\c1ccccc1N2)=C/c3c(cc([nH]3)C)C\""
   ]
  },
  {
   "cell_type": "markdown",
   "metadata": {},
   "source": [
    "_Note_: the backslash has a special significance in both the python programming language and SMILES notation, and therefore should be treated with care."
   ]
  },
  {
   "cell_type": "code",
   "execution_count": 5,
   "metadata": {},
   "outputs": [
    {
     "data": {
      "text/plain": [
       "\u001b[0;31mSignature:\u001b[0m \u001b[0msmiles_to_folder_name\u001b[0m\u001b[0;34m(\u001b[0m\u001b[0msmiles\u001b[0m\u001b[0;34m)\u001b[0m\u001b[0;34m\u001b[0m\u001b[0;34m\u001b[0m\u001b[0m\n",
       "\u001b[0;31mDocstring:\u001b[0m\n",
       "Encodes the SMILES containing special characters as URL encoding.\n",
       "\n",
       "Parameters\n",
       "----------\n",
       "smiles : str\n",
       "    SMILES string describing a compound.\n",
       "\n",
       "Returns\n",
       "-------\n",
       "str :\n",
       "    The standard URL encoding of the SMILES if it contains special characters.\n",
       "\n",
       "Notes\n",
       "-----\n",
       ": -> %3A\n",
       "\\ -> %5C (here backslash)\n",
       "/ -> %2F\n",
       "* -> %2A\n",
       "\n",
       "Taken from:\n",
       "https://www.degraeve.com/reference/urlencoding.php\n",
       "\u001b[0;31mFile:\u001b[0m      ~/Documents/github/maxsmi/maxsmi/utils_smiles.py\n",
       "\u001b[0;31mType:\u001b[0m      function\n"
      ]
     },
     "metadata": {},
     "output_type": "display_data"
    }
   ],
   "source": [
    "from maxsmi.utils_smiles import smiles_to_folder_name\n",
    "smiles_to_folder_name?"
   ]
  },
  {
   "cell_type": "code",
   "execution_count": 6,
   "metadata": {},
   "outputs": [],
   "source": [
    "path = (f\"{HERE}/../../maxsmi/user_prediction/\"\n",
    "        f\"lipophilicity_O=C2C(%5Cc1ccccc1N2)=C%2Fc3c(cc([nH]3)C)C\")"
   ]
  },
  {
   "cell_type": "markdown",
   "metadata": {},
   "source": [
    "Let's see what was stored during the execution."
   ]
  },
  {
   "cell_type": "code",
   "execution_count": 7,
   "metadata": {},
   "outputs": [
    {
     "data": {
      "text/plain": [
       "['user_prediction_table.csv', '2D_molecule.png', 'user_prediction_output.log']"
      ]
     },
     "execution_count": 7,
     "metadata": {},
     "output_type": "execute_result"
    }
   ],
   "source": [
    "list_output_files = os.listdir(path)\n",
    "list_output_files"
   ]
  },
  {
   "cell_type": "markdown",
   "metadata": {},
   "source": [
    "There are three files:\n",
    "\n",
    "* `user_prediction_table.csv`: The results of the prediction in a csv table,\n",
    "* `2D_molecule.png`: A PNG figure representing the molecular graph,\n",
    "* `user_prediction_output.log`: Additional information on the prediction in a log file.\n",
    "\n",
    "Let's have a closer look at each of them."
   ]
  },
  {
   "cell_type": "markdown",
   "metadata": {},
   "source": [
    "The log file contains detailed information on the model used, augmentation strategy as well as the results."
   ]
  },
  {
   "cell_type": "code",
   "execution_count": 8,
   "metadata": {},
   "outputs": [
    {
     "name": "stdout",
     "output_type": "stream",
     "text": [
      "INFO:root:Start at 2021-09-22 11:14:25.854687\n",
      "INFO:root:Data and task: lipophilicity\n",
      "INFO:root:CUDA available: False\n",
      "INFO:root:Shape of training data set before processing: (4200, 2)\n",
      "INFO:root:Shape of training data set after processing: (4199, 3)\n",
      "INFO:root:SMILES in training data set: False\n",
      "INFO:root:Augmentation strategy: augmentation_with_duplication\n",
      "INFO:root:Augmentation number: 80\n",
      "INFO:root:Time for augmentation 0:00:00.006277\n",
      "INFO:root:Longest smiles in training data set: 268\n",
      "INFO:root:Summary of ml model used for the prediction: Convolutional1DNetwork(\n",
      "(convolution): Conv1d(48, 300, kernel_size=(10,), stride=(1,))\n",
      "(fully_connected_1): Linear(in_features=77700, out_features=100, bias=True)\n",
      "(fully_connected_out): Linear(in_features=100, out_features=1, bias=True)\n",
      ")\n"
     ]
    }
   ],
   "source": [
    "log_file = [string for string in list_output_files\n",
    "            if string.endswith(\"log\")][0]\n",
    "\n",
    "with open(f\"{path}/{log_file}\") as f:\n",
    "    for _ in range(15):  # show first 15 lines\n",
    "        line = next(f).strip()\n",
    "        print(line)"
   ]
  },
  {
   "cell_type": "markdown",
   "metadata": {},
   "source": [
    "Let's plot the molecular graph of the semaxanib drug."
   ]
  },
  {
   "cell_type": "code",
   "execution_count": 9,
   "metadata": {},
   "outputs": [
    {
     "data": {
      "image/png": "[encoded data removed]",
      "text/plain": [
       "<IPython.core.display.Image object>"
      ]
     },
     "execution_count": 9,
     "metadata": {},
     "output_type": "execute_result"
    }
   ],
   "source": [
    "image_file = [string for string in list_output_files\n",
    "              if string.endswith(\"png\")][0]\n",
    "Image(filename=f\"{path}/{image_file}\")"
   ]
  },
  {
   "cell_type": "markdown",
   "metadata": {},
   "source": [
    "Let's have a closer look at the prediction."
   ]
  },
  {
   "cell_type": "code",
   "execution_count": 10,
   "metadata": {},
   "outputs": [
    {
     "data": {
      "text/html": [
       "<div>\n",
       "<style scoped>\n",
       "    .dataframe tbody tr th:only-of-type {\n",
       "        vertical-align: middle;\n",
       "    }\n",
       "\n",
       "    .dataframe tbody tr th {\n",
       "        vertical-align: top;\n",
       "    }\n",
       "\n",
       "    .dataframe thead th {\n",
       "        text-align: right;\n",
       "    }\n",
       "</style>\n",
       "<table border=\"1\" class=\"dataframe\">\n",
       "  <thead>\n",
       "    <tr style=\"text-align: right;\">\n",
       "      <th></th>\n",
       "      <th>user_smiles</th>\n",
       "      <th>smiles_in_training</th>\n",
       "      <th>canonical_smiles</th>\n",
       "      <th>augmented_smiles</th>\n",
       "      <th>per_smiles_prediction</th>\n",
       "      <th>average_prediction</th>\n",
       "      <th>std_prediction</th>\n",
       "    </tr>\n",
       "  </thead>\n",
       "  <tbody>\n",
       "    <tr>\n",
       "      <th>0</th>\n",
       "      <td>O=C2C(\\c1ccccc1N2)=C/c3c(cc([nH]3)C)C</td>\n",
       "      <td>False</td>\n",
       "      <td>Cc1cc(C)c(/C=C2\\C(=O)Nc3ccccc32)[nH]1</td>\n",
       "      <td>['C(=C1\\\\C(=O)Nc2ccccc21)\\\\c1[nH]c(C)cc1C', 'c...</td>\n",
       "      <td>[3.3088372, 2.6702151, 2.3722568, 2.8875313, 2...</td>\n",
       "      <td>3.042491</td>\n",
       "      <td>0.376354</td>\n",
       "    </tr>\n",
       "  </tbody>\n",
       "</table>\n",
       "</div>"
      ],
      "text/plain": [
       "                             user_smiles  smiles_in_training  \\\n",
       "0  O=C2C(\\c1ccccc1N2)=C/c3c(cc([nH]3)C)C               False   \n",
       "\n",
       "                        canonical_smiles  \\\n",
       "0  Cc1cc(C)c(/C=C2\\C(=O)Nc3ccccc32)[nH]1   \n",
       "\n",
       "                                    augmented_smiles  \\\n",
       "0  ['C(=C1\\\\C(=O)Nc2ccccc21)\\\\c1[nH]c(C)cc1C', 'c...   \n",
       "\n",
       "                               per_smiles_prediction  average_prediction  \\\n",
       "0  [3.3088372, 2.6702151, 2.3722568, 2.8875313, 2...            3.042491   \n",
       "\n",
       "   std_prediction  \n",
       "0        0.376354  "
      ]
     },
     "execution_count": 10,
     "metadata": {},
     "output_type": "execute_result"
    }
   ],
   "source": [
    "results_csv_file = [string for string in list_output_files\n",
    "                    if string.endswith(\"csv\")][0]\n",
    "results = pd.read_csv(f\"{path}/{results_csv_file}\")\n",
    "results"
   ]
  },
  {
   "cell_type": "code",
   "execution_count": 11,
   "metadata": {},
   "outputs": [
    {
     "name": "stdout",
     "output_type": "stream",
     "text": [
      "SMILES given by the user: \tO=C2C(\\c1ccccc1N2)=C/c3c(cc([nH]3)C)C\n",
      "Part of the training set: \tFalse\n",
      "Its lipophilicity value is predicted to be: \t3.042 with a confidence of 0.376.\n"
     ]
    }
   ],
   "source": [
    "print(f\"SMILES given by the user: \\t{results.user_smiles[0]}\\n\"\n",
    "      f\"Part of the training set: \\t{results.smiles_in_training[0]}\\n\"\n",
    "      f\"Its lipophilicity value is predicted to be: \\t\"\n",
    "      f\"{results.average_prediction[0]:.3f} \"\n",
    "      f\"with a confidence of {results.std_prediction[0]:.3f}.\")"
   ]
  },
  {
   "cell_type": "markdown",
   "metadata": {},
   "source": [
    "The first $n=7$ random SMILES are given by:"
   ]
  },
  {
   "cell_type": "code",
   "execution_count": 12,
   "metadata": {},
   "outputs": [
    {
     "data": {
      "text/plain": [
       "['C(=C1\\\\C(=O)Nc2ccccc21)\\\\c1[nH]c(C)cc1C',\n",
       " 'c1c2c(ccc1)/C(C(=O)N2)=C/c1c(C)cc(C)[nH]1',\n",
       " 'C1(=O)Nc2c(cccc2)/C1=C/c1c(cc(C)[nH]1)C',\n",
       " '[nH]1c(/C=C2\\\\C(Nc3c2cccc3)=O)c(C)cc1C',\n",
       " 'C(=C1/c2c(cccc2)NC1=O)\\\\c1c(cc(C)[nH]1)C',\n",
       " 'Cc1cc(C)[nH]c1/C=C1\\\\C(=O)Nc2c1cccc2',\n",
       " 'Cc1cc(C)[nH]c1/C=C1\\\\C(=O)Nc2c1cccc2']"
      ]
     },
     "execution_count": 12,
     "metadata": {},
     "output_type": "execute_result"
    }
   ],
   "source": [
    "random_smiles = ast.literal_eval(results.augmented_smiles[0])[0:7]\n",
    "random_smiles"
   ]
  },
  {
   "cell_type": "markdown",
   "metadata": {},
   "source": [
    "The predictions associated to these random SMILES are:"
   ]
  },
  {
   "cell_type": "code",
   "execution_count": 13,
   "metadata": {},
   "outputs": [
    {
     "name": "stdout",
     "output_type": "stream",
     "text": [
      "3.309\n",
      "2.670\n",
      "2.372\n",
      "2.888\n",
      "2.792\n",
      "3.324\n",
      "3.324\n"
     ]
    }
   ],
   "source": [
    "per_smiles_prediction = ast.literal_eval(results.per_smiles_prediction[0])[0:7]\n",
    "for prediction in per_smiles_prediction:\n",
    "    print(f\"{prediction:.3f}\")"
   ]
  },
  {
   "cell_type": "markdown",
   "metadata": {},
   "source": [
    "As expected, the two last SMILES, which are identical, have the same prediction."
   ]
  }
 ],
 "metadata": {
  "kernelspec": {
   "display_name": "Python 3",
   "language": "python",
   "name": "python3"
  },
  "language_info": {
   "codemirror_mode": {
    "name": "ipython",
    "version": 3
   },
   "file_extension": ".py",
   "mimetype": "text/x-python",
   "name": "python",
   "nbconvert_exporter": "python",
   "pygments_lexer": "ipython3",
   "version": "3.8.6"
  }
 },
 "nbformat": 4,
 "nbformat_minor": 4
}
