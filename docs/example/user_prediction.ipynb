{
 "cells": [
  {
   "cell_type": "markdown",
   "metadata": {},
   "source": [
    "# User prediction"
   ]
  },
  {
   "cell_type": "markdown",
   "metadata": {},
   "source": [
    "Let's see how a user can run `maxsmi` for compound prediction."
   ]
  },
  {
   "cell_type": "code",
   "execution_count": 1,
   "metadata": {},
   "outputs": [],
   "source": [
    "from pathlib import Path\n",
    "import os\n",
    "import pandas as pd\n",
    "from IPython.display import Image"
   ]
  },
  {
   "cell_type": "code",
   "execution_count": 2,
   "metadata": {},
   "outputs": [],
   "source": [
    "# Path to this notebook\n",
    "HERE = Path(_dh[-1])"
   ]
  },
  {
   "cell_type": "code",
   "execution_count": 3,
   "metadata": {},
   "outputs": [
    {
     "name": "stdout",
     "output_type": "stream",
     "text": [
      "usage: prediction_unlabeled_data.py [-h] [--task TASK]\n",
      "                                    [--smiles_prediction USER_SMILES]\n",
      "\n",
      "optional arguments:\n",
      "  -h, --help            show this help message and exit\n",
      "  --task TASK           data to be used\n",
      "  --smiles_prediction USER_SMILES\n",
      "                        SMILES for prediction\n"
     ]
    }
   ],
   "source": [
    "%%bash\n",
    "cd ../..\n",
    "python maxsmi/prediction_unlabeled_data.py --help"
   ]
  },
  {
   "cell_type": "code",
   "execution_count": 4,
   "metadata": {},
   "outputs": [
    {
     "name": "stdout",
     "output_type": "stream",
     "text": [
      "Script completed. Output can be found at maxsmi/user_prediction/lipophilicity_CC1CC1CCN/\n"
     ]
    }
   ],
   "source": [
    "%%bash\n",
    "cd ../..\n",
    "python maxsmi/prediction_unlabeled_data.py --task lipophilicity --smiles_prediction CC1CC1CCN"
   ]
  },
  {
   "cell_type": "code",
   "execution_count": 5,
   "metadata": {},
   "outputs": [],
   "source": [
    "path = f\"{HERE}/../../maxsmi/user_prediction/lipophilicity_CC1CC1CCN/\""
   ]
  },
  {
   "cell_type": "markdown",
   "metadata": {},
   "source": [
    "Let's see what was stored during the execution."
   ]
  },
  {
   "cell_type": "code",
   "execution_count": 6,
   "metadata": {},
   "outputs": [
    {
     "data": {
      "text/plain": [
       "['user_prediction_table.csv', '2D_molecule.png', 'user_prediction_output.log']"
      ]
     },
     "execution_count": 6,
     "metadata": {},
     "output_type": "execute_result"
    }
   ],
   "source": [
    "os.listdir(path)"
   ]
  },
  {
   "cell_type": "markdown",
   "metadata": {},
   "source": [
    "There are three files:\n",
    "\n",
    "* `user_prediction_table.csv` : The results of the prediction\n",
    "* `2D_molecule.png` : The molecular graph\n",
    "* `user_prediction_output.log`: Additional information on the prediction\n",
    "\n",
    "Let have a closer look."
   ]
  },
  {
   "cell_type": "code",
   "execution_count": 7,
   "metadata": {},
   "outputs": [
    {
     "data": {
      "image/png": "[encoded data removed]",
      "text/plain": [
       "<IPython.core.display.Image object>"
      ]
     },
     "execution_count": 7,
     "metadata": {},
     "output_type": "execute_result"
    }
   ],
   "source": [
    "Image(filename=f\"{path}/{os.listdir(path)[1]}\")"
   ]
  },
  {
   "cell_type": "code",
   "execution_count": 8,
   "metadata": {},
   "outputs": [
    {
     "data": {
      "text/html": [
       "<div>\n",
       "<style scoped>\n",
       "    .dataframe tbody tr th:only-of-type {\n",
       "        vertical-align: middle;\n",
       "    }\n",
       "\n",
       "    .dataframe tbody tr th {\n",
       "        vertical-align: top;\n",
       "    }\n",
       "\n",
       "    .dataframe thead th {\n",
       "        text-align: right;\n",
       "    }\n",
       "</style>\n",
       "<table border=\"1\" class=\"dataframe\">\n",
       "  <thead>\n",
       "    <tr style=\"text-align: right;\">\n",
       "      <th></th>\n",
       "      <th>user_smiles</th>\n",
       "      <th>smiles_in_training</th>\n",
       "      <th>canonical_smiles</th>\n",
       "      <th>augmented_smiles</th>\n",
       "      <th>average_prediction</th>\n",
       "      <th>std_prediction</th>\n",
       "    </tr>\n",
       "  </thead>\n",
       "  <tbody>\n",
       "    <tr>\n",
       "      <th>0</th>\n",
       "      <td>CC1CC1CCN</td>\n",
       "      <td>False</td>\n",
       "      <td>CC1CC1CCN</td>\n",
       "      <td>['CC1CC1CCN', 'CC1CC1CCN', 'CC1CC1CCN', 'CC1CC...</td>\n",
       "      <td>-0.731691</td>\n",
       "      <td>0.440803</td>\n",
       "    </tr>\n",
       "  </tbody>\n",
       "</table>\n",
       "</div>"
      ],
      "text/plain": [
       "  user_smiles  smiles_in_training canonical_smiles  \\\n",
       "0   CC1CC1CCN               False        CC1CC1CCN   \n",
       "\n",
       "                                    augmented_smiles  average_prediction  \\\n",
       "0  ['CC1CC1CCN', 'CC1CC1CCN', 'CC1CC1CCN', 'CC1CC...           -0.731691   \n",
       "\n",
       "   std_prediction  \n",
       "0        0.440803  "
      ]
     },
     "execution_count": 8,
     "metadata": {},
     "output_type": "execute_result"
    }
   ],
   "source": [
    "results = pd.read_csv(f\"{path}/{os.listdir(path)[0]}\")\n",
    "results"
   ]
  },
  {
   "cell_type": "code",
   "execution_count": 9,
   "metadata": {},
   "outputs": [
    {
     "name": "stdout",
     "output_type": "stream",
     "text": [
      "The SMILES given by the user CC1CC1CCN was in the training set: False.\n",
      "Its lipophilicity value is predicted at -0.73 with a confidence of 0.44.\n"
     ]
    }
   ],
   "source": [
    "print(f\"The SMILES given by the user {results.user_smiles[0]} \"\n",
    "      f\"was in the training set: {results.smiles_in_training[0]}.\\n\"\n",
    "      f\"Its lipophilicity value is predicted at \"\n",
    "      f\"{results.average_prediction[0]:.2f} \"\n",
    "      f\"with a confidence of {results.std_prediction[0]:.2f}.\")"
   ]
  }
 ],
 "metadata": {
  "kernelspec": {
   "display_name": "Python 3",
   "language": "python",
   "name": "python3"
  },
  "language_info": {
   "codemirror_mode": {
    "name": "ipython",
    "version": 3
   },
   "file_extension": ".py",
   "mimetype": "text/x-python",
   "name": "python",
   "nbconvert_exporter": "python",
   "pygments_lexer": "ipython3",
   "version": "3.8.6"
  }
 },
 "nbformat": 4,
 "nbformat_minor": 4
}
