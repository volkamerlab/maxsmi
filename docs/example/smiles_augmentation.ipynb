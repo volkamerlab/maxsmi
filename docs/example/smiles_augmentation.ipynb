{
 "cells": [
  {
   "cell_type": "markdown",
   "metadata": {},
   "source": [
    "# SMILES augmentation\n",
    "\n",
    "Let's look at an example molecule and see how we can apply different augmentation strategies to its SMILES representation.\n",
    "\n",
    "Let's consider the fomepizole drug. One of its SMILES is given by the following string [1]: `Cc1cn[nH]c1`.\n",
    "\n",
    "[1] Gaulton A, *et al.* (2017) 'The ChEMBL database in 2017.' Nucleic Acids Res., 45(D1) D945-D954. DOI: [10.1093/nar/gkw1074](http://dx.doi.org/10.1093/nar/gkw1074)"
   ]
  },
  {
   "cell_type": "code",
   "execution_count": 1,
   "metadata": {},
   "outputs": [
    {
     "name": "stdout",
     "output_type": "stream",
     "text": [
      "SMILES of fomepizole drug: Cc1cn[nH]c1\n"
     ]
    }
   ],
   "source": [
    "smiles = \"Cc1cn[nH]c1\"\n",
    "print(f\"SMILES of fomepizole drug: {smiles}\")"
   ]
  },
  {
   "cell_type": "markdown",
   "metadata": {},
   "source": [
    "Let's visualize the molecule using RDKit."
   ]
  },
  {
   "cell_type": "code",
   "execution_count": 2,
   "metadata": {},
   "outputs": [],
   "source": [
    "import rdkit\n",
    "from rdkit import Chem\n",
    "from rdkit.Chem import Draw, AllChem"
   ]
  },
  {
   "cell_type": "code",
   "execution_count": 3,
   "metadata": {},
   "outputs": [
    {
     "data": {
      "image/png": "[encoded data removed]",
      "text/plain": [
       "<rdkit.Chem.rdchem.Mol at 0x7fd9120880d0>"
      ]
     },
     "execution_count": 3,
     "metadata": {},
     "output_type": "execute_result"
    }
   ],
   "source": [
    "molecule = Chem.MolFromSmiles(smiles)\n",
    "molecule"
   ]
  },
  {
   "cell_type": "markdown",
   "metadata": {},
   "source": [
    "## Canonical SMILES"
   ]
  },
  {
   "cell_type": "markdown",
   "metadata": {},
   "source": [
    "Let's convert the SMILES into the canonical form using RDKit."
   ]
  },
  {
   "cell_type": "code",
   "execution_count": 4,
   "metadata": {},
   "outputs": [],
   "source": [
    "from maxsmi.utils_smiles import smiles_to_canonical, smiles_to_random"
   ]
  },
  {
   "cell_type": "code",
   "execution_count": 5,
   "metadata": {},
   "outputs": [
    {
     "name": "stdout",
     "output_type": "stream",
     "text": [
      "Canonical SMILES of the molecule:\t Cc1cn[nH]c1 \n",
      "Length of canonical SMILES:\t\t 11\n"
     ]
    }
   ],
   "source": [
    "canonical_smiles = smiles_to_canonical(smiles)\n",
    "print(f\"Canonical SMILES of the molecule:\\t {canonical_smiles} \\n\"\n",
    "      f\"Length of canonical SMILES:\\t\\t {len(canonical_smiles)}\")"
   ]
  },
  {
   "cell_type": "markdown",
   "metadata": {},
   "source": [
    "## Random SMILES"
   ]
  },
  {
   "cell_type": "markdown",
   "metadata": {},
   "source": [
    "Let's look at different variations of the SMILES."
   ]
  },
  {
   "cell_type": "code",
   "execution_count": 6,
   "metadata": {},
   "outputs": [
    {
     "data": {
      "text/plain": [
       "\u001b[0;31mSignature:\u001b[0m \u001b[0msmiles_to_random\u001b[0m\u001b[0;34m(\u001b[0m\u001b[0msmiles\u001b[0m\u001b[0;34m,\u001b[0m \u001b[0mint_aug\u001b[0m\u001b[0;34m=\u001b[0m\u001b[0;36m50\u001b[0m\u001b[0;34m)\u001b[0m\u001b[0;34m\u001b[0m\u001b[0;34m\u001b[0m\u001b[0m\n",
       "\u001b[0;31mDocstring:\u001b[0m\n",
       "Takes a SMILES (not necessarily canonical) and returns `int_aug` random variations of this SMILES.\n",
       "\n",
       "Parameters\n",
       "----------\n",
       "smiles : str\n",
       "    SMILES string describing a compound.\n",
       "int_aug : int, Optional, default: 50\n",
       "    The number of random SMILES generated.\n",
       "\n",
       "Returns\n",
       "-------\n",
       "list\n",
       "    A list of `int_aug` random (may not be unique) SMILES or None if the initial SMILES is not valid.\n",
       "\u001b[0;31mFile:\u001b[0m      ~/Documents/github/maxsmi/maxsmi/utils_smiles.py\n",
       "\u001b[0;31mType:\u001b[0m      function\n"
      ]
     },
     "metadata": {},
     "output_type": "display_data"
    }
   ],
   "source": [
    "smiles_to_random?"
   ]
  },
  {
   "cell_type": "code",
   "execution_count": 7,
   "metadata": {},
   "outputs": [],
   "source": [
    "random_smiles = smiles_to_random(smiles, int_aug=5)"
   ]
  },
  {
   "cell_type": "code",
   "execution_count": 8,
   "metadata": {},
   "outputs": [
    {
     "name": "stdout",
     "output_type": "stream",
     "text": [
      "Random SMILES: ['Cc1cn[nH]c1', 'c1n[nH]cc1C', 'Cc1cn[nH]c1', 'n1[nH]cc(C)c1', 'c1c(cn[nH]1)C']\n"
     ]
    }
   ],
   "source": [
    "print(f\"Random SMILES: {random_smiles}\")"
   ]
  },
  {
   "cell_type": "markdown",
   "metadata": {},
   "source": [
    "# Augmentation strategies"
   ]
  },
  {
   "cell_type": "markdown",
   "metadata": {},
   "source": [
    "## No augmentation\n",
    "As a baseline, no random SMILES are generated, just one SMILES is kept."
   ]
  },
  {
   "cell_type": "code",
   "execution_count": 9,
   "metadata": {},
   "outputs": [],
   "source": [
    "from maxsmi.augmentation_strategies import no_augmentation"
   ]
  },
  {
   "cell_type": "code",
   "execution_count": 10,
   "metadata": {},
   "outputs": [
    {
     "name": "stdout",
     "output_type": "stream",
     "text": [
      "No augmentation for SMILES: ['Cc1cn[nH]c1']\n"
     ]
    }
   ],
   "source": [
    "one_smiles = no_augmentation(smiles)\n",
    "print(f\"No augmentation for SMILES: {one_smiles}\")"
   ]
  },
  {
   "cell_type": "markdown",
   "metadata": {},
   "source": [
    "## Augmentation with duplication\n",
    "Here random SMILES are generated on the fly, despite duplicates."
   ]
  },
  {
   "cell_type": "code",
   "execution_count": 11,
   "metadata": {},
   "outputs": [],
   "source": [
    "from maxsmi.augmentation_strategies import augmentation_with_duplication"
   ]
  },
  {
   "cell_type": "code",
   "execution_count": 12,
   "metadata": {},
   "outputs": [
    {
     "data": {
      "text/plain": [
       "\u001b[0;31mSignature:\u001b[0m \u001b[0maugmentation_with_duplication\u001b[0m\u001b[0;34m(\u001b[0m\u001b[0msmiles\u001b[0m\u001b[0;34m,\u001b[0m \u001b[0maugmentation_number\u001b[0m\u001b[0;34m)\u001b[0m\u001b[0;34m\u001b[0m\u001b[0;34m\u001b[0m\u001b[0m\n",
       "\u001b[0;31mDocstring:\u001b[0m\n",
       "Takes a SMILES and returns a list of random SMILES with possible duplicates.\n",
       "\n",
       "Parameters\n",
       "----------\n",
       "smiles : str\n",
       "    SMILES string describing a compound.\n",
       "augmentation_number : int\n",
       "    The integer to generate the number of random SMILES.\n",
       "\n",
       "Returns\n",
       "-------\n",
       "list\n",
       "    A list containing the given number of random SMILES, which might include duplicated SMILES.\n",
       "\u001b[0;31mFile:\u001b[0m      ~/Documents/github/maxsmi/maxsmi/augmentation_strategies.py\n",
       "\u001b[0;31mType:\u001b[0m      function\n"
      ]
     },
     "metadata": {},
     "output_type": "display_data"
    }
   ],
   "source": [
    "augmentation_with_duplication?"
   ]
  },
  {
   "cell_type": "code",
   "execution_count": 13,
   "metadata": {},
   "outputs": [],
   "source": [
    "duplicated_smiles = augmentation_with_duplication(smiles, 100)"
   ]
  },
  {
   "cell_type": "markdown",
   "metadata": {},
   "source": [
    "Since we are keeping duplicates, we should end up with 100 SMILES:"
   ]
  },
  {
   "cell_type": "code",
   "execution_count": 14,
   "metadata": {},
   "outputs": [
    {
     "name": "stdout",
     "output_type": "stream",
     "text": [
      "Number of SMILES: 100\n"
     ]
    }
   ],
   "source": [
    "print(f\"Number of SMILES: {len(duplicated_smiles)}\")"
   ]
  },
  {
   "cell_type": "markdown",
   "metadata": {},
   "source": [
    "## Augmentation without duplication\n",
    "Here unique random SMILES are generated."
   ]
  },
  {
   "cell_type": "code",
   "execution_count": 15,
   "metadata": {},
   "outputs": [],
   "source": [
    "from maxsmi.augmentation_strategies import augmentation_without_duplication"
   ]
  },
  {
   "cell_type": "code",
   "execution_count": 16,
   "metadata": {},
   "outputs": [],
   "source": [
    "non_duplicated_smiles = augmentation_without_duplication(smiles, 100)"
   ]
  },
  {
   "cell_type": "code",
   "execution_count": 17,
   "metadata": {},
   "outputs": [
    {
     "name": "stdout",
     "output_type": "stream",
     "text": [
      "Number of (unique) SMILES: 20\n"
     ]
    }
   ],
   "source": [
    "print(f\"Number of (unique) SMILES: {len(non_duplicated_smiles)}\")"
   ]
  },
  {
   "cell_type": "markdown",
   "metadata": {},
   "source": [
    "## Augmentation with reduced duplication\n",
    "Here random SMILES are generated and only a fraction of duplicates are kept."
   ]
  },
  {
   "cell_type": "code",
   "execution_count": 18,
   "metadata": {},
   "outputs": [],
   "source": [
    "from maxsmi.augmentation_strategies import (\n",
    "    augmentation_with_reduced_duplication\n",
    ")"
   ]
  },
  {
   "cell_type": "code",
   "execution_count": 19,
   "metadata": {},
   "outputs": [
    {
     "data": {
      "text/plain": [
       "\u001b[0;31mSignature:\u001b[0m \u001b[0maugmentation_with_reduced_duplication\u001b[0m\u001b[0;34m(\u001b[0m\u001b[0msmiles\u001b[0m\u001b[0;34m,\u001b[0m \u001b[0maugmentation_number\u001b[0m\u001b[0;34m)\u001b[0m\u001b[0;34m\u001b[0m\u001b[0;34m\u001b[0m\u001b[0m\n",
       "\u001b[0;31mDocstring:\u001b[0m\n",
       "Takes a SMILES and returns a list of random SMILES with a reduced amount of duplicates.\n",
       "The reduction is square root given the number of duplicates.\n",
       "\n",
       "Parameters\n",
       "----------\n",
       "smiles : str\n",
       "    SMILES string describing a compound.\n",
       "augmentation_number : int\n",
       "    The integer to generate the number of random SMILES.\n",
       "\n",
       "Returns\n",
       "-------\n",
       "list\n",
       "    A list of random SMILES with a reduced amount of duplicates.\n",
       "\u001b[0;31mFile:\u001b[0m      ~/Documents/github/maxsmi/maxsmi/augmentation_strategies.py\n",
       "\u001b[0;31mType:\u001b[0m      function\n"
      ]
     },
     "metadata": {},
     "output_type": "display_data"
    }
   ],
   "source": [
    "augmentation_with_reduced_duplication?"
   ]
  },
  {
   "cell_type": "code",
   "execution_count": 20,
   "metadata": {},
   "outputs": [],
   "source": [
    "reduced_duplicated_smiles = augmentation_with_reduced_duplication(smiles, 100)"
   ]
  },
  {
   "cell_type": "code",
   "execution_count": 21,
   "metadata": {},
   "outputs": [
    {
     "name": "stdout",
     "output_type": "stream",
     "text": [
      "Number of SMILES: 53\n"
     ]
    }
   ],
   "source": [
    "print(f\"Number of SMILES: {len(reduced_duplicated_smiles)}\")"
   ]
  },
  {
   "cell_type": "markdown",
   "metadata": {},
   "source": [
    "## Augmentation with estimated maximum\n",
    "Here we try to generate a large portion of the SMILES space."
   ]
  },
  {
   "cell_type": "code",
   "execution_count": 22,
   "metadata": {},
   "outputs": [],
   "source": [
    "from maxsmi.augmentation_strategies import augmentation_maximum_estimation"
   ]
  },
  {
   "cell_type": "code",
   "execution_count": 23,
   "metadata": {},
   "outputs": [
    {
     "data": {
      "text/plain": [
       "\u001b[0;31mSignature:\u001b[0m \u001b[0maugmentation_maximum_estimation\u001b[0m\u001b[0;34m(\u001b[0m\u001b[0msmiles\u001b[0m\u001b[0;34m,\u001b[0m \u001b[0mmax_duplication\u001b[0m\u001b[0;34m=\u001b[0m\u001b[0;36m10\u001b[0m\u001b[0;34m)\u001b[0m\u001b[0;34m\u001b[0m\u001b[0;34m\u001b[0m\u001b[0m\n",
       "\u001b[0;31mDocstring:\u001b[0m\n",
       "Returns augmented SMILES with estimated maximum number.\n",
       "\n",
       "Parameters\n",
       "----------\n",
       "smiles : str\n",
       "    SMILES string describing a compound.\n",
       "max_duplication : int, Optional, default: 10\n",
       "    The number of concecutive redundant SMILES that have to be generated before stopping augmentation process.\n",
       "\n",
       "Returns\n",
       "-------\n",
       "list\n",
       "    A list of \"estimated\" maximum unique random SMILES.\n",
       "\u001b[0;31mFile:\u001b[0m      ~/Documents/github/maxsmi/maxsmi/augmentation_strategies.py\n",
       "\u001b[0;31mType:\u001b[0m      function\n"
      ]
     },
     "metadata": {},
     "output_type": "display_data"
    }
   ],
   "source": [
    "augmentation_maximum_estimation?"
   ]
  },
  {
   "cell_type": "code",
   "execution_count": 24,
   "metadata": {},
   "outputs": [],
   "source": [
    "estimated_max_smiles = augmentation_maximum_estimation(smiles)"
   ]
  },
  {
   "cell_type": "code",
   "execution_count": 25,
   "metadata": {},
   "outputs": [
    {
     "name": "stdout",
     "output_type": "stream",
     "text": [
      "Number of SMILES: 18\n"
     ]
    }
   ],
   "source": [
    "print(f\"Number of SMILES: {len(estimated_max_smiles)}\")"
   ]
  },
  {
   "cell_type": "markdown",
   "metadata": {},
   "source": [
    "# Deep Neural Network Input\n",
    "\n",
    "Here is an example of how to numerically encode a SMILES to use as input for a neural network.\n",
    "\n",
    "## Example of one-hot encoded SMILES\n",
    "\n",
    "Let's look at the afatinib kinase inhibitor, given by the SMILES `CN(C)CC=CC(=O)NC1=C(C=C2C(=C1)C(=NC=N2)NC3=CC(=C(C=C3)F)Cl)OC4CCOC4`."
   ]
  },
  {
   "cell_type": "code",
   "execution_count": 26,
   "metadata": {},
   "outputs": [],
   "source": [
    "import matplotlib.pyplot as plt\n",
    "from matplotlib import colors\n",
    "from maxsmi.utils_encoding import (\n",
    "    char_replacement,\n",
    "    get_unique_elements_as_dict,\n",
    "    one_hot_encode,\n",
    ")"
   ]
  },
  {
   "cell_type": "code",
   "execution_count": 27,
   "metadata": {},
   "outputs": [
    {
     "name": "stdout",
     "output_type": "stream",
     "text": [
      "Length of original smile:\t\t\t 67\n",
      "Length of double characters replaced smiles:\t 66\n",
      "Number of unique characters: \t\t\t 12\n",
      "Shape of one-hot encoded matrix: \t\t (12, 66)\n"
     ]
    }
   ],
   "source": [
    "smiles = \"CN(C)CC=CC(=O)NC1=C(C=C2C(=C1)C(=NC=N2)NC3=CC(=C(C=C3)F)Cl)OC4CCOC4\"\n",
    "print(\"Length of original smile:\\t\\t\\t\", len(smiles))\n",
    "\n",
    "# Replace double symbols\n",
    "new_smiles = char_replacement([smiles])[0]\n",
    "print(\"Length of double characters replaced smiles:\\t\", len(new_smiles))\n",
    "\n",
    "# Obtain dictionary for this SMILES string\n",
    "smi_dict = get_unique_elements_as_dict(new_smiles)\n",
    "print(\"Number of unique characters: \\t\\t\\t\", len(smi_dict))\n",
    "\n",
    "# One-hot encode SMILES string\n",
    "one_hot_smiles = one_hot_encode(new_smiles, smi_dict)\n",
    "print(\"Shape of one-hot encoded matrix: \\t\\t\", one_hot_smiles.shape)"
   ]
  },
  {
   "cell_type": "markdown",
   "metadata": {},
   "source": [
    "Let's plot the molecule using RDKit."
   ]
  },
  {
   "cell_type": "code",
   "execution_count": 28,
   "metadata": {},
   "outputs": [
    {
     "data": {
      "image/png": "[encoded data removed]",
      "text/plain": [
       "<rdkit.Chem.rdchem.Mol at 0x7fd913951c60>"
      ]
     },
     "execution_count": 28,
     "metadata": {},
     "output_type": "execute_result"
    }
   ],
   "source": [
    "molecule = Chem.MolFromSmiles(smiles)\n",
    "molecule"
   ]
  },
  {
   "cell_type": "markdown",
   "metadata": {},
   "source": [
    "We now visualize the one-hot encoded SMILES."
   ]
  },
  {
   "cell_type": "code",
   "execution_count": 29,
   "metadata": {},
   "outputs": [
    {
     "data": {
      "image/png": "[encoded data removed]",
      "text/plain": [
       "<Figure size 432x288 with 1 Axes>"
      ]
     },
     "metadata": {},
     "output_type": "display_data"
    }
   ],
   "source": [
    "f, ax = plt.subplots()\n",
    "ax.imshow(one_hot_smiles, cmap=colors.ListedColormap([(1, 1, 1), \"black\"]))\n",
    "ax.set_xticks([])\n",
    "ax.set_yticks([])\n",
    "ax.patch.set_edgecolor(\"black\")\n",
    "ax.patch.set_linewidth(\"1\")\n",
    "plt.title(f\"one-hot encoded SMILES of afatinib drug\")\n",
    "plt.show()"
   ]
  },
  {
   "cell_type": "markdown",
   "metadata": {},
   "source": [
    "# Data"
   ]
  },
  {
   "cell_type": "markdown",
   "metadata": {},
   "source": [
    "Let's look at some of the data available in maxsmi."
   ]
  },
  {
   "cell_type": "code",
   "execution_count": 30,
   "metadata": {},
   "outputs": [],
   "source": [
    "from maxsmi.utils_data import data_retrieval\n",
    "from maxsmi.utils_smiles import smiles_to_canonical, smiles_to_random"
   ]
  },
  {
   "cell_type": "code",
   "execution_count": 31,
   "metadata": {},
   "outputs": [
    {
     "data": {
      "text/plain": [
       "\u001b[0;31mSignature:\u001b[0m \u001b[0mdata_retrieval\u001b[0m\u001b[0;34m(\u001b[0m\u001b[0mtarget_data\u001b[0m\u001b[0;34m=\u001b[0m\u001b[0;34m'ESOL'\u001b[0m\u001b[0;34m)\u001b[0m\u001b[0;34m\u001b[0m\u001b[0;34m\u001b[0m\u001b[0m\n",
       "\u001b[0;31mDocstring:\u001b[0m\n",
       "Retrieve data from MoleculeNet, or ChEMBL.\n",
       "\n",
       "Parameters\n",
       "----------\n",
       "target_data: str\n",
       "    The target data to be considered. The default is the ESOL data set.\n",
       "\n",
       "Returns\n",
       "-------\n",
       "dataframe: pd.Pandas\n",
       "    Pandas data frame with two columns:\n",
       "        - `smiles`: SMILES encoding of the compounds.\n",
       "        - `target`: the measured target values.\n",
       "\u001b[0;31mFile:\u001b[0m      ~/Documents/github/maxsmi/maxsmi/utils_data.py\n",
       "\u001b[0;31mType:\u001b[0m      function\n"
      ]
     },
     "metadata": {},
     "output_type": "display_data"
    }
   ],
   "source": [
    "data_retrieval?"
   ]
  },
  {
   "cell_type": "markdown",
   "metadata": {},
   "source": [
    "Currently implemented data sets:\n",
    "\n",
    "* ESOL (and ESOL_small)\n",
    "* free solv\n",
    "* lipophilicity\n",
    "* EGFR affinity (ChEMBL28/Kinodata)"
   ]
  },
  {
   "cell_type": "code",
   "execution_count": 32,
   "metadata": {},
   "outputs": [
    {
     "name": "stdout",
     "output_type": "stream",
     "text": [
      "Shape of dataframe: (1128, 4)\n",
      "Columns: Index(['target', 'smiles', 'canonical_smiles', 'random_smiles'], dtype='object')\n"
     ]
    }
   ],
   "source": [
    "# Read data\n",
    "df = data_retrieval(\"ESOL\")\n",
    "\n",
    "# Canonical SMILES\n",
    "df[\"canonical_smiles\"] = df[\"smiles\"].apply(smiles_to_canonical)\n",
    "\n",
    "# Random SMILES\n",
    "df[\"random_smiles\"] = df[\"canonical_smiles\"].apply(smiles_to_random, args=(2,))\n",
    "\n",
    "print(f\"Shape of dataframe: {df.shape}\\nColumns: {df.columns}\")"
   ]
  },
  {
   "cell_type": "code",
   "execution_count": 33,
   "metadata": {},
   "outputs": [
    {
     "data": {
      "text/html": [
       "<div>\n",
       "<style scoped>\n",
       "    .dataframe tbody tr th:only-of-type {\n",
       "        vertical-align: middle;\n",
       "    }\n",
       "\n",
       "    .dataframe tbody tr th {\n",
       "        vertical-align: top;\n",
       "    }\n",
       "\n",
       "    .dataframe thead th {\n",
       "        text-align: right;\n",
       "    }\n",
       "</style>\n",
       "<table border=\"1\" class=\"dataframe\">\n",
       "  <thead>\n",
       "    <tr style=\"text-align: right;\">\n",
       "      <th></th>\n",
       "      <th>target</th>\n",
       "      <th>smiles</th>\n",
       "      <th>canonical_smiles</th>\n",
       "      <th>random_smiles</th>\n",
       "    </tr>\n",
       "  </thead>\n",
       "  <tbody>\n",
       "    <tr>\n",
       "      <th>0</th>\n",
       "      <td>-0.77</td>\n",
       "      <td>OCC3OC(OCC2OC(OC(C#N)c1ccccc1)C(O)C(O)C2O)C(O)...</td>\n",
       "      <td>N#CC(OC1OC(COC2OC(CO)C(O)C(O)C2O)C(O)C(O)C1O)c...</td>\n",
       "      <td>[C1(C(O)C(OCC2OC(C(C(C2O)O)O)OC(C#N)c2ccccc2)O...</td>\n",
       "    </tr>\n",
       "    <tr>\n",
       "      <th>1</th>\n",
       "      <td>-3.30</td>\n",
       "      <td>Cc1occc1C(=O)Nc2ccccc2</td>\n",
       "      <td>Cc1occc1C(=O)Nc1ccccc1</td>\n",
       "      <td>[Cc1c(C(=O)Nc2ccccc2)cco1, N(C(=O)c1ccoc1C)c1c...</td>\n",
       "    </tr>\n",
       "    <tr>\n",
       "      <th>2</th>\n",
       "      <td>-2.06</td>\n",
       "      <td>CC(C)=CCCC(C)=CC(=O)</td>\n",
       "      <td>CC(C)=CCCC(C)=CC=O</td>\n",
       "      <td>[C(CCC(=CC=O)C)=C(C)C, O=CC=C(CCC=C(C)C)C]</td>\n",
       "    </tr>\n",
       "    <tr>\n",
       "      <th>3</th>\n",
       "      <td>-7.87</td>\n",
       "      <td>c1ccc2c(c1)ccc3c2ccc4c5ccccc5ccc43</td>\n",
       "      <td>c1ccc2c(c1)ccc1c2ccc2c3ccccc3ccc21</td>\n",
       "      <td>[c1cc2c(ccc3c2cccc3)c2ccc3ccccc3c21, c1cccc2c3...</td>\n",
       "    </tr>\n",
       "  </tbody>\n",
       "</table>\n",
       "</div>"
      ],
      "text/plain": [
       "   target                                             smiles  \\\n",
       "0   -0.77  OCC3OC(OCC2OC(OC(C#N)c1ccccc1)C(O)C(O)C2O)C(O)...   \n",
       "1   -3.30                             Cc1occc1C(=O)Nc2ccccc2   \n",
       "2   -2.06                               CC(C)=CCCC(C)=CC(=O)   \n",
       "3   -7.87                 c1ccc2c(c1)ccc3c2ccc4c5ccccc5ccc43   \n",
       "\n",
       "                                    canonical_smiles  \\\n",
       "0  N#CC(OC1OC(COC2OC(CO)C(O)C(O)C2O)C(O)C(O)C1O)c...   \n",
       "1                             Cc1occc1C(=O)Nc1ccccc1   \n",
       "2                                 CC(C)=CCCC(C)=CC=O   \n",
       "3                 c1ccc2c(c1)ccc1c2ccc2c3ccccc3ccc21   \n",
       "\n",
       "                                       random_smiles  \n",
       "0  [C1(C(O)C(OCC2OC(C(C(C2O)O)O)OC(C#N)c2ccccc2)O...  \n",
       "1  [Cc1c(C(=O)Nc2ccccc2)cco1, N(C(=O)c1ccoc1C)c1c...  \n",
       "2         [C(CCC(=CC=O)C)=C(C)C, O=CC=C(CCC=C(C)C)C]  \n",
       "3  [c1cc2c(ccc3c2cccc3)c2ccc3ccccc3c21, c1cccc2c3...  "
      ]
     },
     "execution_count": 33,
     "metadata": {},
     "output_type": "execute_result"
    }
   ],
   "source": [
    "df.head(4)"
   ]
  }
 ],
 "metadata": {
  "kernelspec": {
   "display_name": "Python 3",
   "language": "python",
   "name": "python3"
  },
  "language_info": {
   "codemirror_mode": {
    "name": "ipython",
    "version": 3
   },
   "file_extension": ".py",
   "mimetype": "text/x-python",
   "name": "python",
   "nbconvert_exporter": "python",
   "pygments_lexer": "ipython3",
   "version": "3.8.6"
  }
 },
 "nbformat": 4,
 "nbformat_minor": 4
}
