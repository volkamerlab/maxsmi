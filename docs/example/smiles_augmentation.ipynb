{
 "cells": [
  {
   "cell_type": "markdown",
   "metadata": {},
   "source": [
    "# SMILES augmentation"
   ]
  },
  {
   "cell_type": "markdown",
   "metadata": {},
   "source": [
    "Let's take a look at an example molecule and see how we can apply different augmentation strategies to its SMILES."
   ]
  },
  {
   "cell_type": "markdown",
   "metadata": {},
   "source": [
    "Let's consider the fomepizole drug. Its SMILES is given by the following string:"
   ]
  },
  {
   "cell_type": "code",
   "execution_count": null,
   "metadata": {},
   "outputs": [],
   "source": [
    "smiles = \"CC1=CNN=C1\"\n",
    "smiles"
   ]
  },
  {
   "cell_type": "markdown",
   "metadata": {},
   "source": [
    "Let's visalize this molecule using RDKit."
   ]
  },
  {
   "cell_type": "code",
   "execution_count": 2,
   "metadata": {},
   "outputs": [],
   "source": [
    "import rdkit\n",
    "from rdkit import Chem\n",
    "from rdkit.Chem import Draw, AllChem"
   ]
  },
  {
   "cell_type": "code",
   "execution_count": 3,
   "metadata": {},
   "outputs": [
    {
     "data": {
      "image/png": "[encoded data removed]",
      "text/plain": [
       "<rdkit.Chem.rdchem.Mol at 0x7ffe58762490>"
      ]
     },
     "execution_count": 3,
     "metadata": {},
     "output_type": "execute_result"
    }
   ],
   "source": [
    "molecule = Chem.MolFromSmiles(smiles)\n",
    "molecule"
   ]
  },
  {
   "cell_type": "markdown",
   "metadata": {},
   "source": [
    "## Canonical SMILES"
   ]
  },
  {
   "cell_type": "markdown",
   "metadata": {},
   "source": [
    "Let's convert the SMILES into RDKit the canonical form."
   ]
  },
  {
   "cell_type": "code",
   "execution_count": 4,
   "metadata": {},
   "outputs": [],
   "source": [
    "from maxsmi.utils_smiles import smiles_to_canonical, smiles_to_random"
   ]
  },
  {
   "cell_type": "code",
   "execution_count": 5,
   "metadata": {},
   "outputs": [
    {
     "name": "stdout",
     "output_type": "stream",
     "text": [
      "Canonical SMILES of the kinase inhibitor: Cc1cn[nH]c1 \n",
      "Length of canonical smiles: 11\n"
     ]
    }
   ],
   "source": [
    "canonical_smiles = smiles_to_canonical(smiles)\n",
    "print(f\"Canonical SMILES of the kinase inhibitor: {canonical_smiles} \\n\"\n",
    "        f\"Length of canonical smiles: {len(canonical_smiles)}\")"
   ]
  },
  {
   "cell_type": "markdown",
   "metadata": {},
   "source": [
    "## Random SMILES"
   ]
  },
  {
   "cell_type": "markdown",
   "metadata": {},
   "source": [
    "Let's look at different variations of the SMILES"
   ]
  },
  {
   "cell_type": "code",
   "execution_count": 6,
   "metadata": {},
   "outputs": [
    {
     "data": {
      "text/plain": [
       "\u001b[0;31mSignature:\u001b[0m \u001b[0msmiles_to_random\u001b[0m\u001b[0;34m(\u001b[0m\u001b[0msmiles\u001b[0m\u001b[0;34m,\u001b[0m \u001b[0mint_aug\u001b[0m\u001b[0;34m=\u001b[0m\u001b[0;36m50\u001b[0m\u001b[0;34m)\u001b[0m\u001b[0;34m\u001b[0m\u001b[0;34m\u001b[0m\u001b[0m\n",
       "\u001b[0;31mDocstring:\u001b[0m\n",
       "Takes a SMILES (not necessarily canonical) and returns `int_aug` random variations of this SMILES.\n",
       "\n",
       "Parameters\n",
       "----------\n",
       "smiles : str\n",
       "    SMILES string describing a compound.\n",
       "int_aug : int, Optional, default: 50\n",
       "    The number of random SMILES generated.\n",
       "\n",
       "Returns\n",
       "-------\n",
       "list\n",
       "    A list of `int_aug` random (may not be unique) SMILES or None if the initial SMILES is not valid.\n",
       "\u001b[0;31mFile:\u001b[0m      ~/Documents/github/maxsmi/maxsmi/utils_smiles.py\n",
       "\u001b[0;31mType:\u001b[0m      function\n"
      ]
     },
     "metadata": {},
     "output_type": "display_data"
    }
   ],
   "source": [
    "smiles_to_random?"
   ]
  },
  {
   "cell_type": "code",
   "execution_count": 7,
   "metadata": {},
   "outputs": [],
   "source": [
    "random_smiles = smiles_to_random(smiles, int_aug=5)"
   ]
  },
  {
   "cell_type": "code",
   "execution_count": 8,
   "metadata": {},
   "outputs": [
    {
     "name": "stdout",
     "output_type": "stream",
     "text": [
      "Random SMILES: ['Cc1c[nH]nc1', 'c1[nH]ncc1C', 'Cc1c[nH]nc1', '[nH]1ncc(C)c1', 'c1c(c[nH]n1)C']\n"
     ]
    }
   ],
   "source": [
    "print(f\"Random SMILES: {random_smiles}\")"
   ]
  },
  {
   "cell_type": "markdown",
   "metadata": {},
   "source": [
    "# Augmentation strategies"
   ]
  },
  {
   "cell_type": "markdown",
   "metadata": {},
   "source": [
    "## No augmentation\n",
    "As a baseline, no random SMILES are generated, just one SMILES is kept."
   ]
  },
  {
   "cell_type": "markdown",
   "metadata": {},
   "source": [
    "## Augmentation with duplication\n",
    "Here random SMILES are generated on the fly, despite duplicates."
   ]
  },
  {
   "cell_type": "code",
   "execution_count": 9,
   "metadata": {},
   "outputs": [],
   "source": [
    "from maxsmi.augmentation_strategies import augmentation_with_duplication"
   ]
  },
  {
   "cell_type": "code",
   "execution_count": 10,
   "metadata": {},
   "outputs": [
    {
     "data": {
      "text/plain": [
       "\u001b[0;31mSignature:\u001b[0m \u001b[0maugmentation_with_duplication\u001b[0m\u001b[0;34m(\u001b[0m\u001b[0msmiles\u001b[0m\u001b[0;34m,\u001b[0m \u001b[0maugmentation_number\u001b[0m\u001b[0;34m)\u001b[0m\u001b[0;34m\u001b[0m\u001b[0;34m\u001b[0m\u001b[0m\n",
       "\u001b[0;31mDocstring:\u001b[0m\n",
       "Takes a SMILES and returns a list of random SMILES with possible duplicates.\n",
       "\n",
       "Parameters\n",
       "----------\n",
       "smiles : str\n",
       "    SMILES string describing a compound.\n",
       "augmentation_number : int\n",
       "    The integer to generate the number of random SMILES.\n",
       "\n",
       "Returns\n",
       "-------\n",
       "list\n",
       "    A list containing the given number of random SMILES, which might include duplicated SMILES.\n",
       "\u001b[0;31mFile:\u001b[0m      ~/Documents/github/maxsmi/maxsmi/augmentation_strategies.py\n",
       "\u001b[0;31mType:\u001b[0m      function\n"
      ]
     },
     "metadata": {},
     "output_type": "display_data"
    }
   ],
   "source": [
    "augmentation_with_duplication?"
   ]
  },
  {
   "cell_type": "code",
   "execution_count": 11,
   "metadata": {},
   "outputs": [],
   "source": [
    "duplicated_smiles = augmentation_with_duplication(smiles, 100)"
   ]
  },
  {
   "cell_type": "code",
   "execution_count": 12,
   "metadata": {},
   "outputs": [],
   "source": [
    "from collections import Counter"
   ]
  },
  {
   "cell_type": "code",
   "execution_count": 13,
   "metadata": {},
   "outputs": [
    {
     "data": {
      "text/plain": [
       "Counter({'[nH]1ncc(c1)C': 6,\n",
       "         'n1cc(C)c[nH]1': 8,\n",
       "         'Cc1cn[nH]c1': 8,\n",
       "         'c1[nH]ncc1C': 11,\n",
       "         'c1(C)cn[nH]c1': 6,\n",
       "         'c1c(cn[nH]1)C': 3,\n",
       "         '[nH]1ncc(C)c1': 6,\n",
       "         'n1cc(c[nH]1)C': 4,\n",
       "         'c1n[nH]cc1C': 7,\n",
       "         'n1[nH]cc(c1)C': 4,\n",
       "         'c1(C)c[nH]nc1': 3,\n",
       "         'c1c(C)cn[nH]1': 3,\n",
       "         'n1[nH]cc(C)c1': 6,\n",
       "         '[nH]1cc(C)cn1': 2,\n",
       "         'c1(cn[nH]c1)C': 5,\n",
       "         'c1c(c[nH]n1)C': 2,\n",
       "         'c1(c[nH]nc1)C': 6,\n",
       "         'c1c(C)c[nH]n1': 5,\n",
       "         '[nH]1cc(cn1)C': 2,\n",
       "         'Cc1c[nH]nc1': 3})"
      ]
     },
     "execution_count": 13,
     "metadata": {},
     "output_type": "execute_result"
    }
   ],
   "source": [
    "Counter(duplicated_smiles)"
   ]
  },
  {
   "cell_type": "markdown",
   "metadata": {},
   "source": [
    "## Augmentation without duplication\n",
    "Here unique random SMILES are generated."
   ]
  },
  {
   "cell_type": "code",
   "execution_count": 14,
   "metadata": {},
   "outputs": [],
   "source": [
    "from maxsmi.augmentation_strategies import augmentation_without_duplication"
   ]
  },
  {
   "cell_type": "code",
   "execution_count": 15,
   "metadata": {},
   "outputs": [],
   "source": [
    "non_duplicated_smiles = augmentation_without_duplication(smiles, 100)"
   ]
  },
  {
   "cell_type": "code",
   "execution_count": 16,
   "metadata": {},
   "outputs": [
    {
     "data": {
      "text/plain": [
       "Counter({'c1(cn[nH]c1)C': 1,\n",
       "         'Cc1c[nH]nc1': 1,\n",
       "         'c1c(cn[nH]1)C': 1,\n",
       "         'c1[nH]ncc1C': 1,\n",
       "         'c1(C)cn[nH]c1': 1,\n",
       "         'c1c(C)c[nH]n1': 1,\n",
       "         'c1n[nH]cc1C': 1,\n",
       "         'c1(C)c[nH]nc1': 1,\n",
       "         'c1c(c[nH]n1)C': 1,\n",
       "         'Cc1cn[nH]c1': 1,\n",
       "         'n1[nH]cc(C)c1': 1,\n",
       "         'n1cc(C)c[nH]1': 1,\n",
       "         '[nH]1ncc(C)c1': 1,\n",
       "         'c1c(C)cn[nH]1': 1,\n",
       "         '[nH]1cc(cn1)C': 1,\n",
       "         '[nH]1ncc(c1)C': 1,\n",
       "         '[nH]1cc(C)cn1': 1,\n",
       "         'n1[nH]cc(c1)C': 1,\n",
       "         'c1(c[nH]nc1)C': 1,\n",
       "         'n1cc(c[nH]1)C': 1})"
      ]
     },
     "execution_count": 16,
     "metadata": {},
     "output_type": "execute_result"
    }
   ],
   "source": [
    "Counter(non_duplicated_smiles)"
   ]
  },
  {
   "cell_type": "markdown",
   "metadata": {},
   "source": [
    "## Augmentation with reduced duplication\n",
    "Here random SMILES are generated and only a fraction of duplicates are kept."
   ]
  },
  {
   "cell_type": "markdown",
   "metadata": {},
   "source": [
    "## Estimated maximum augmentation\n",
    "Here we try to generate all possible valid random SMILES."
   ]
  },
  {
   "cell_type": "code",
   "execution_count": 17,
   "metadata": {},
   "outputs": [],
   "source": [
    "from maxsmi.augmentation_strategies import augmentation_maximum_estimation"
   ]
  },
  {
   "cell_type": "code",
   "execution_count": 18,
   "metadata": {},
   "outputs": [],
   "source": [
    "estimated_max_smiles = augmentation_maximum_estimation(smiles, 10)"
   ]
  },
  {
   "cell_type": "code",
   "execution_count": 19,
   "metadata": {},
   "outputs": [
    {
     "data": {
      "text/plain": [
       "['[nH]1cc(C)cn1',\n",
       " 'n1cc(C)c[nH]1',\n",
       " '[nH]1cc(cn1)C',\n",
       " 'Cc1c[nH]nc1',\n",
       " 'c1c(C)c[nH]n1',\n",
       " '[nH]1ncc(c1)C',\n",
       " 'c1c(cn[nH]1)C',\n",
       " 'c1[nH]ncc1C',\n",
       " 'n1[nH]cc(c1)C',\n",
       " 'c1(C)cn[nH]c1',\n",
       " 'Cc1cn[nH]c1',\n",
       " 'c1c(c[nH]n1)C',\n",
       " '[nH]1ncc(C)c1',\n",
       " 'c1n[nH]cc1C',\n",
       " 'c1c(C)cn[nH]1']"
      ]
     },
     "execution_count": 19,
     "metadata": {},
     "output_type": "execute_result"
    }
   ],
   "source": [
    "estimated_max_smiles"
   ]
  },
  {
   "cell_type": "markdown",
   "metadata": {},
   "source": [
    "# Deep Neural Network Input"
   ]
  },
  {
   "cell_type": "markdown",
   "metadata": {},
   "source": [
    "Here's an example of how to numerically encode a SMILES to feed to a neural network."
   ]
  },
  {
   "cell_type": "markdown",
   "metadata": {},
   "source": [
    "## Simple example of one-hot encoded SMILES"
   ]
  },
  {
   "cell_type": "markdown",
   "metadata": {},
   "source": [
    "Let's look at the afatinib kinase inhibitor."
   ]
  },
  {
   "cell_type": "code",
   "execution_count": 20,
   "metadata": {},
   "outputs": [],
   "source": [
    "import matplotlib.pyplot as plt\n",
    "from matplotlib import colors\n",
    "from maxsmi.utils_encoding import (\n",
    "    char_replacement,\n",
    "    get_unique_elements_as_dict,\n",
    "    one_hot_encode,\n",
    ")"
   ]
  },
  {
   "cell_type": "code",
   "execution_count": 21,
   "metadata": {},
   "outputs": [
    {
     "name": "stdout",
     "output_type": "stream",
     "text": [
      "Length of original smile: \t\t 67\n",
      "Length of double characters replaced smiles :  66\n",
      "Number of unique characters: \t\t 12\n",
      "Shape of one-hot encoded matrix: \t (12, 66)\n"
     ]
    }
   ],
   "source": [
    "smiles = \"CN(C)CC=CC(=O)NC1=C(C=C2C(=C1)C(=NC=N2)NC3=CC(=C(C=C3)F)Cl)OC4CCOC4\"\n",
    "print(\"Length of original smile: \\t\\t\", len(smiles))\n",
    "\n",
    "# Replace double symbols\n",
    "new_smiles = char_replacement([smiles])[0]\n",
    "print(\"Length of double characters replaced smiles : \", len(new_smiles))\n",
    "\n",
    "# Obtain dictionary for this smile\n",
    "smi_dict = get_unique_elements_as_dict(new_smiles)\n",
    "print(\"Number of unique characters: \\t\\t\", len(smi_dict))\n",
    "\n",
    "# One-hot encode smile\n",
    "one_hot_smiles = one_hot_encode(new_smiles, smi_dict)\n",
    "print(\"Shape of one-hot encoded matrix: \\t\", one_hot_smiles.shape)"
   ]
  },
  {
   "cell_type": "code",
   "execution_count": 22,
   "metadata": {},
   "outputs": [
    {
     "data": {
      "image/png": "[encoded data removed]",
      "text/plain": [
       "<Figure size 432x288 with 1 Axes>"
      ]
     },
     "metadata": {},
     "output_type": "display_data"
    }
   ],
   "source": [
    "f, ax = plt.subplots()\n",
    "ax.imshow(one_hot_smiles, cmap=colors.ListedColormap([(1, 1, 1), \"black\"]))\n",
    "ax.set_xticks([])\n",
    "ax.set_yticks([])\n",
    "ax.patch.set_edgecolor(\"black\")\n",
    "ax.patch.set_linewidth(\"1\")\n",
    "plt.title(f\"one-hot encoded SMILES of atatinib drug\")\n",
    "plt.show()"
   ]
  },
  {
   "cell_type": "code",
   "execution_count": 23,
   "metadata": {},
   "outputs": [],
   "source": [
    "# Let's consider the semaxanib drug, which is kinase inhibitor ${[1]}$. Its SMILES is given by the following string:\n",
    "# smiles = \"CC1=CC(=C(N1)C=C2C3=CC=CC=C3NC2=O)C\"\n",
    "# smiles\n",
    "# [1] Carles, F.; Bourg, S.; Meyer, C.; Bonnet, P. PKIDB: A Curated, Annotated and Updated Database of Protein Kinase Inhibitors in Clinical Trials. Molecules 2018, 23, 908. https://doi.org/10.3390/molecules23040908"
   ]
  },
  {
   "cell_type": "code",
   "execution_count": 60,
   "metadata": {},
   "outputs": [],
   "source": [
    "# smiles = \"CC1=CC(=C(N1)C=C2C3=CC=CC=C3NC2=O)C\"\n",
    "# smiles = \"CCCN(CCC)c1c([N+](=O)[O-])cc(C(F)(F)F)cc1[N+](=O)[O-]\"\n",
    "smiles = \"CCOP(=S)(OCC)SCSP(=S)(OCC)OCC\""
   ]
  },
  {
   "cell_type": "code",
   "execution_count": 67,
   "metadata": {},
   "outputs": [
    {
     "name": "stdout",
     "output_type": "stream",
     "text": [
      "12.7 ms ± 182 µs per loop (mean ± std. dev. of 7 runs, 100 loops each)\n"
     ]
    }
   ],
   "source": [
    "%%timeit\n",
    "estimated_max_smiles = augmentation_maximum_estimation(smiles, 50)"
   ]
  },
  {
   "cell_type": "code",
   "execution_count": 68,
   "metadata": {},
   "outputs": [
    {
     "data": {
      "text/plain": [
       "(771, 771)"
      ]
     },
     "execution_count": 68,
     "metadata": {},
     "output_type": "execute_result"
    }
   ],
   "source": [
    "len(estimated_max_smiles), len(set(estimated_max_smiles))"
   ]
  },
  {
   "cell_type": "code",
   "execution_count": 61,
   "metadata": {},
   "outputs": [
    {
     "data": {
      "image/png": "[encoded data removed]",
      "text/plain": [
       "<rdkit.Chem.rdchem.Mol at 0x7ffe59404990>"
      ]
     },
     "execution_count": 61,
     "metadata": {},
     "output_type": "execute_result"
    }
   ],
   "source": [
    "molecule = Chem.MolFromSmiles(smiles)\n",
    "molecule"
   ]
  }
 ],
 "metadata": {
  "kernelspec": {
   "display_name": "Python 3",
   "language": "python",
   "name": "python3"
  },
  "language_info": {
   "codemirror_mode": {
    "name": "ipython",
    "version": 3
   },
   "file_extension": ".py",
   "mimetype": "text/x-python",
   "name": "python",
   "nbconvert_exporter": "python",
   "pygments_lexer": "ipython3",
   "version": "3.8.6"
  }
 },
 "nbformat": 4,
 "nbformat_minor": 4
}
