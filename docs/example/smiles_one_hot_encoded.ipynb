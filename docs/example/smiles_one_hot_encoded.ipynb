{
 "cells": [
  {
   "cell_type": "markdown",
   "metadata": {},
   "source": [
    "# Simple example of one-hot encoded SMILES"
   ]
  },
  {
   "cell_type": "code",
   "execution_count": 3,
   "metadata": {},
   "outputs": [],
   "source": [
    "import matplotlib.pyplot as plt\n",
    "from maxsmi.utils_encoding import (\n",
    "    char_replacement,\n",
    "    get_unique_elements_as_dict,\n",
    "    one_hot_encode,\n",
    ")"
   ]
  },
  {
   "cell_type": "code",
   "execution_count": 2,
   "metadata": {},
   "outputs": [
    {
     "name": "stdout",
     "output_type": "stream",
     "text": [
      "Length of original smile:  34\n",
      "Length of double characters replaced smiles :  29\n",
      "Number of unique characters:  6\n",
      "Shape of one-hot encoded matrix:  (6, 29)\n"
     ]
    }
   ],
   "source": [
    "# ==================== Example with a SMILES ================\n",
    "smiles = \"Clc1cc(Cl)c(c(Cl)c1)c2c(Cl)cccc2Cl\"\n",
    "print(\"Length of original smile: \", len(smiles))\n",
    "\n",
    "# Replace double symbols\n",
    "new_smiles = char_replacement([smiles])[0]\n",
    "print(\"Length of double characters replaced smiles : \", len(new_smiles))\n",
    "\n",
    "# Obtain dictionary for this smile\n",
    "smi_dict = get_unique_elements_as_dict(new_smiles)\n",
    "print(\"Number of unique characters: \", len(smi_dict))\n",
    "\n",
    "# One-hot encode smile\n",
    "one_hot_smiles = one_hot_encode(new_smiles, smi_dict)\n",
    "print(\"Shape of one-hot encoded matrix: \", one_hot_smiles.shape)"
   ]
  },
  {
   "cell_type": "code",
   "execution_count": 4,
   "metadata": {},
   "outputs": [
    {
     "data": {
      "image/png": "[encoded data removed]",
      "text/plain": [
       "<Figure size 432x288 with 1 Axes>"
      ]
     },
     "metadata": {
      "needs_background": "light"
     },
     "output_type": "display_data"
    }
   ],
   "source": [
    "plt.imshow(one_hot_smiles)\n",
    "plt.show()"
   ]
  }
 ],
 "metadata": {
  "kernelspec": {
   "display_name": "Python 3",
   "language": "python",
   "name": "python3"
  },
  "language_info": {
   "codemirror_mode": {
    "name": "ipython",
    "version": 3
   },
   "file_extension": ".py",
   "mimetype": "text/x-python",
   "name": "python",
   "nbconvert_exporter": "python",
   "pygments_lexer": "ipython3",
   "version": "3.8.6"
  }
 },
 "nbformat": 4,
 "nbformat_minor": 4
}
